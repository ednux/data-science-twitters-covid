{
  "nbformat": 4,
  "nbformat_minor": 0,
  "metadata": {
    "colab": {
      "name": "main.ipynb",
      "provenance": [],
      "collapsed_sections": [
        "Ch63jjisLsCP",
        "cQYwi7538mn7",
        "hEcp8tKR8uKM",
        "_WQzEZyzIRNu",
        "0MQ-QxKNJnGN",
        "HPEvldwlNEU4",
        "q6FrJ-kHTLGz",
        "x_LacmPHV380",
        "8n1treyy5vtF",
        "5kPZ6ZniVZHw",
        "fR_8hjZ52jmn",
        "GqdF_V6wwJUg",
        "G8U-XtLP7dUI",
        "UIrBPW95Ih2U",
        "YFmDcqqrTr1v",
        "K0Zx-U0GL_RO",
        "8sYs2tm1qek0",
        "wLxEQ5marPJF"
      ],
      "include_colab_link": true
    },
    "kernelspec": {
      "name": "python3",
      "display_name": "Python 3"
    }
  },
  "cells": [
    {
      "cell_type": "markdown",
      "metadata": {
        "id": "view-in-github",
        "colab_type": "text"
      },
      "source": [
        "<a href=\"https://colab.research.google.com/github/ehdob-cid20/trabalho-pratico/blob/master/main.ipynb\" target=\"_parent\"><img src=\"https://colab.research.google.com/assets/colab-badge.svg\" alt=\"Open In Colab\"/></a>"
      ]
    },
    {
      "cell_type": "markdown",
      "metadata": {
        "id": "R0JtTk8PrHjj"
      },
      "source": [
        "Monta o Google Drive"
      ]
    },
    {
      "cell_type": "code",
      "metadata": {
        "id": "Wx0uiePrALoV",
        "outputId": "9e608e1d-38b6-4b91-c8fb-dcf6fa85f934",
        "colab": {
          "base_uri": "https://localhost:8080/",
          "height": 34
        }
      },
      "source": [
        "from google.colab import drive\n",
        "drive.mount('/content/drive')"
      ],
      "execution_count": 1,
      "outputs": [
        {
          "output_type": "stream",
          "text": [
            "Mounted at /content/drive\n"
          ],
          "name": "stdout"
        }
      ]
    },
    {
      "cell_type": "markdown",
      "metadata": {
        "id": "vjBzc5Ox7E1F"
      },
      "source": [
        "#  Pré Processamento"
      ]
    },
    {
      "cell_type": "markdown",
      "metadata": {
        "id": "Ch63jjisLsCP"
      },
      "source": [
        "## Instalação pacotes"
      ]
    },
    {
      "cell_type": "code",
      "metadata": {
        "id": "hLuHM1xeLweP",
        "outputId": "f0f26de2-1321-43ce-c443-da9fbb5dbcbb",
        "colab": {
          "base_uri": "https://localhost:8080/",
          "height": 0
        }
      },
      "source": [
        "!pip install geopandas unidecode"
      ],
      "execution_count": 2,
      "outputs": [
        {
          "output_type": "stream",
          "text": [
            "Collecting geopandas\n",
            "\u001b[?25l  Downloading https://files.pythonhosted.org/packages/f7/a4/e66aafbefcbb717813bf3a355c8c4fc3ed04ea1dd7feb2920f2f4f868921/geopandas-0.8.1-py2.py3-none-any.whl (962kB)\n",
            "\u001b[K     |████████████████████████████████| 972kB 2.8MB/s \n",
            "\u001b[?25hCollecting unidecode\n",
            "\u001b[?25l  Downloading https://files.pythonhosted.org/packages/d0/42/d9edfed04228bacea2d824904cae367ee9efd05e6cce7ceaaedd0b0ad964/Unidecode-1.1.1-py2.py3-none-any.whl (238kB)\n",
            "\u001b[K     |████████████████████████████████| 245kB 15.9MB/s \n",
            "\u001b[?25hCollecting fiona\n",
            "\u001b[?25l  Downloading https://files.pythonhosted.org/packages/36/8b/e8b2c11bed5373c8e98edb85ce891b09aa1f4210fd451d0fb3696b7695a2/Fiona-1.8.17-cp36-cp36m-manylinux1_x86_64.whl (14.8MB)\n",
            "\u001b[K     |████████████████████████████████| 14.8MB 290kB/s \n",
            "\u001b[?25hRequirement already satisfied: shapely in /usr/local/lib/python3.6/dist-packages (from geopandas) (1.7.1)\n",
            "Requirement already satisfied: pandas>=0.23.0 in /usr/local/lib/python3.6/dist-packages (from geopandas) (1.1.2)\n",
            "Collecting pyproj>=2.2.0\n",
            "\u001b[?25l  Downloading https://files.pythonhosted.org/packages/e5/c3/071e080230ac4b6c64f1a2e2f9161c9737a2bc7b683d2c90b024825000c0/pyproj-2.6.1.post1-cp36-cp36m-manylinux2010_x86_64.whl (10.9MB)\n",
            "\u001b[K     |████████████████████████████████| 10.9MB 37.8MB/s \n",
            "\u001b[?25hRequirement already satisfied: click<8,>=4.0 in /usr/local/lib/python3.6/dist-packages (from fiona->geopandas) (7.1.2)\n",
            "Collecting click-plugins>=1.0\n",
            "  Downloading https://files.pythonhosted.org/packages/e9/da/824b92d9942f4e472702488857914bdd50f73021efea15b4cad9aca8ecef/click_plugins-1.1.1-py2.py3-none-any.whl\n",
            "Collecting munch\n",
            "  Downloading https://files.pythonhosted.org/packages/cc/ab/85d8da5c9a45e072301beb37ad7f833cd344e04c817d97e0cc75681d248f/munch-2.5.0-py2.py3-none-any.whl\n",
            "Requirement already satisfied: attrs>=17 in /usr/local/lib/python3.6/dist-packages (from fiona->geopandas) (20.2.0)\n",
            "Requirement already satisfied: six>=1.7 in /usr/local/lib/python3.6/dist-packages (from fiona->geopandas) (1.15.0)\n",
            "Collecting cligj>=0.5\n",
            "  Downloading https://files.pythonhosted.org/packages/e4/be/30a58b4b0733850280d01f8bd132591b4668ed5c7046761098d665ac2174/cligj-0.5.0-py3-none-any.whl\n",
            "Requirement already satisfied: numpy>=1.15.4 in /usr/local/lib/python3.6/dist-packages (from pandas>=0.23.0->geopandas) (1.18.5)\n",
            "Requirement already satisfied: python-dateutil>=2.7.3 in /usr/local/lib/python3.6/dist-packages (from pandas>=0.23.0->geopandas) (2.8.1)\n",
            "Requirement already satisfied: pytz>=2017.2 in /usr/local/lib/python3.6/dist-packages (from pandas>=0.23.0->geopandas) (2018.9)\n",
            "Installing collected packages: click-plugins, munch, cligj, fiona, pyproj, geopandas, unidecode\n",
            "Successfully installed click-plugins-1.1.1 cligj-0.5.0 fiona-1.8.17 geopandas-0.8.1 munch-2.5.0 pyproj-2.6.1.post1 unidecode-1.1.1\n"
          ],
          "name": "stdout"
        }
      ]
    },
    {
      "cell_type": "markdown",
      "metadata": {
        "id": "cQYwi7538mn7"
      },
      "source": [
        "## Importando as bibliotecas"
      ]
    },
    {
      "cell_type": "code",
      "metadata": {
        "id": "rgaKgD7bUhCk",
        "outputId": "9412cc73-ba81-4775-dc09-4d647f2e7dc1",
        "colab": {
          "base_uri": "https://localhost:8080/",
          "height": 0
        }
      },
      "source": [
        "import pandas as pd\n",
        "import numpy as np\n",
        "import matplotlib.pyplot as plt\n",
        "import seaborn as sns\n",
        "from shapely.geometry import Point\n",
        "import geopandas as gpd\n",
        "from geopandas import GeoDataFrame\n",
        "import re\n",
        "import nltk\n",
        "nltk.download('punkt')\n",
        "import unidecode\n"
      ],
      "execution_count": 3,
      "outputs": [
        {
          "output_type": "stream",
          "text": [
            "[nltk_data] Downloading package punkt to /root/nltk_data...\n",
            "[nltk_data]   Unzipping tokenizers/punkt.zip.\n"
          ],
          "name": "stdout"
        }
      ]
    },
    {
      "cell_type": "markdown",
      "metadata": {
        "id": "hEcp8tKR8uKM"
      },
      "source": [
        "## Importando o *dataset*"
      ]
    },
    {
      "cell_type": "markdown",
      "metadata": {
        "id": "_WQzEZyzIRNu"
      },
      "source": [
        "### Verifica se o dataset já foi importado para o google drive"
      ]
    },
    {
      "cell_type": "markdown",
      "metadata": {
        "id": "NlH5_zg1IRGK"
      },
      "source": [
        "Um script que verifica se o dataset já foi importado para o google drive. Caso ainda não tenha sido importado, ele faz o download do arquivo e extrai para a pasta informada na variável **dirName**.\n",
        "\n",
        "Variáveis:\n",
        "\n",
        "> **datasetFileName** é o nome do arquivo com extensão.\n",
        "\n",
        "> **datsetUrl** é o endereço web onde o arquivo está disponível.\n",
        "\n",
        "> **dirName** é o diretório do google drive onde o dataset será salvo.\n",
        "\n",
        "Nota: O diretório de salvamento (*dirName*) precisa existir.\n"
      ]
    },
    {
      "cell_type": "code",
      "metadata": {
        "id": "z_lj59w9JoXK",
        "outputId": "c510c422-fc65-43eb-f3eb-91e912f2ff2f",
        "colab": {
          "base_uri": "https://localhost:8080/",
          "height": 0
        }
      },
      "source": [
        "import os\n",
        "\n",
        "datasetFileName = 'dados-curso-completo.csv.tar.gz'\n",
        "datsetUrl = 'http://tiagodemelo.info/datasets/dados-curso-completo.csv.tar.gz'\n",
        "dirName = 'trabalho-pratico' # Este diretorio pode ser alterado se ja tiver o dataset no google drive.\n",
        "\n",
        "if False == os.path.isfile('/content/drive/My Drive/' + dirName + '/' + datasetFileName[:-7]):\n",
        "  if False == os.path.isdir('/content/drive'):\n",
        "    print('Google driver não está montado!')\n",
        "  elif False == os.path.isdir('/content/drive/My Drive/' +  dirName + '/'):\n",
        "    print('Diretório ' + dirName + ' não encontrado.')\n",
        "  elif False == os.path.isfile('/content/drive/My Drive/' + dirName + '/' + datasetFileName):\n",
        "    !wget -O '/content/drive/My Drive/$dirName/$datasetFileName' '$datsetUrl' #TODO: handle download errors.\n",
        "    !tar -C '/content/drive/My Drive/$dirName/{datasetFileName[:-7]}' -zxf '/content/drive/My Drive/$dirName/$datasetFileName' #TODO: handle extract errors.\n",
        "  else:\n",
        "    !tar -C '/content/drive/My Drive/$dirName/' -zxf '/content/drive/My Drive/$dirName/$datasetFileName' #TODO: handle extract errors.\n",
        "else:\n",
        "  print('O dataset ' + datasetFileName[:-7] + ' foi encontrado.')"
      ],
      "execution_count": 4,
      "outputs": [
        {
          "output_type": "stream",
          "text": [
            "O dataset dados-curso-completo.csv foi encontrado.\n"
          ],
          "name": "stdout"
        }
      ]
    },
    {
      "cell_type": "markdown",
      "metadata": {
        "id": "0MQ-QxKNJnGN"
      },
      "source": [
        "### Importando o *dataset* usando pandas"
      ]
    },
    {
      "cell_type": "code",
      "metadata": {
        "id": "Ey0uEq__Lgdp"
      },
      "source": [
        "dataset = pd.read_csv('/content/drive/My Drive/' + dirName + '/' + datasetFileName[:-7])"
      ],
      "execution_count": 5,
      "outputs": []
    },
    {
      "cell_type": "markdown",
      "metadata": {
        "id": "HPEvldwlNEU4"
      },
      "source": [
        "## Visualizando o *dataset* inicial (sem qualquer tratamento)"
      ]
    },
    {
      "cell_type": "markdown",
      "metadata": {
        "id": "q6FrJ-kHTLGz"
      },
      "source": [
        "### Visualização geral do *dataset*"
      ]
    },
    {
      "cell_type": "markdown",
      "metadata": {
        "id": "BRUjyfTJ475S"
      },
      "source": [
        "\n",
        "\n",
        "> Segue uma informação geral do dataset tento colunas, contagem e tipo\n",
        "\n"
      ]
    },
    {
      "cell_type": "code",
      "metadata": {
        "id": "XmJaNSzL49-l",
        "outputId": "7973b00f-5254-4e86-ee99-f830b8f5e10d",
        "colab": {
          "base_uri": "https://localhost:8080/"
        }
      },
      "source": [
        "dataset.info()"
      ],
      "execution_count": null,
      "outputs": [
        {
          "output_type": "stream",
          "text": [
            "<class 'pandas.core.frame.DataFrame'>\n",
            "RangeIndex: 1658825 entries, 0 to 1658824\n",
            "Data columns (total 13 columns):\n",
            " #   Column      Non-Null Count    Dtype  \n",
            "---  ------      --------------    -----  \n",
            " 0   data        1658825 non-null  object \n",
            " 1   usuario     1658768 non-null  object \n",
            " 2   apelido     1658825 non-null  object \n",
            " 3   texto       1658825 non-null  object \n",
            " 4   retweet     1658825 non-null  int64  \n",
            " 5   seguidores  1658825 non-null  int64  \n",
            " 6   idioma      1658825 non-null  object \n",
            " 7   lugar       74605 non-null    object \n",
            " 8   pais        74600 non-null    object \n",
            " 9   sigla       74595 non-null    object \n",
            " 10  latitude    8720 non-null     float64\n",
            " 11  longitude   8720 non-null     float64\n",
            " 12  hashtags    1658825 non-null  object \n",
            "dtypes: float64(2), int64(2), object(9)\n",
            "memory usage: 164.5+ MB\n"
          ],
          "name": "stdout"
        }
      ]
    },
    {
      "cell_type": "markdown",
      "metadata": {
        "id": "-kr7kzNR_mbF"
      },
      "source": [
        "\n",
        "\n",
        "> Campos nulos do dataset. Em seguida segue uma visão geral de cada campo\n",
        "\n"
      ]
    },
    {
      "cell_type": "code",
      "metadata": {
        "id": "HJE3AYuH_p1A",
        "outputId": "608ce526-79a1-4839-ff2a-a6ad88b9cc2c",
        "colab": {
          "base_uri": "https://localhost:8080/"
        }
      },
      "source": [
        "dataset.isnull().sum()"
      ],
      "execution_count": null,
      "outputs": [
        {
          "output_type": "execute_result",
          "data": {
            "text/plain": [
              "data                0\n",
              "usuario            57\n",
              "apelido             0\n",
              "texto               0\n",
              "retweet             0\n",
              "seguidores          0\n",
              "idioma              0\n",
              "lugar         1584220\n",
              "pais          1584225\n",
              "sigla         1584230\n",
              "latitude      1650105\n",
              "longitude     1650105\n",
              "hashtags            0\n",
              "dtype: int64"
            ]
          },
          "metadata": {
            "tags": []
          },
          "execution_count": 7
        }
      ]
    },
    {
      "cell_type": "code",
      "metadata": {
        "id": "pROjCZKUuw7T",
        "outputId": "5fdf815b-0dfa-4dde-a07a-45321c49dda2",
        "colab": {
          "base_uri": "https://localhost:8080/"
        }
      },
      "source": [
        "dataset.head()"
      ],
      "execution_count": null,
      "outputs": [
        {
          "output_type": "execute_result",
          "data": {
            "text/html": [
              "<div>\n",
              "<style scoped>\n",
              "    .dataframe tbody tr th:only-of-type {\n",
              "        vertical-align: middle;\n",
              "    }\n",
              "\n",
              "    .dataframe tbody tr th {\n",
              "        vertical-align: top;\n",
              "    }\n",
              "\n",
              "    .dataframe thead th {\n",
              "        text-align: right;\n",
              "    }\n",
              "</style>\n",
              "<table border=\"1\" class=\"dataframe\">\n",
              "  <thead>\n",
              "    <tr style=\"text-align: right;\">\n",
              "      <th></th>\n",
              "      <th>data</th>\n",
              "      <th>usuario</th>\n",
              "      <th>apelido</th>\n",
              "      <th>texto</th>\n",
              "      <th>retweet</th>\n",
              "      <th>seguidores</th>\n",
              "      <th>idioma</th>\n",
              "      <th>lugar</th>\n",
              "      <th>pais</th>\n",
              "      <th>sigla</th>\n",
              "      <th>latitude</th>\n",
              "      <th>longitude</th>\n",
              "      <th>hashtags</th>\n",
              "    </tr>\n",
              "  </thead>\n",
              "  <tbody>\n",
              "    <tr>\n",
              "      <th>0</th>\n",
              "      <td>2020-03-23 18:51:14</td>\n",
              "      <td>Gaboardi</td>\n",
              "      <td>fraslee</td>\n",
              "      <td>@BolsonaroSP Cade o fundão deputado??? Congres...</td>\n",
              "      <td>0</td>\n",
              "      <td>138</td>\n",
              "      <td>pt</td>\n",
              "      <td>NaN</td>\n",
              "      <td>NaN</td>\n",
              "      <td>NaN</td>\n",
              "      <td>NaN</td>\n",
              "      <td>NaN</td>\n",
              "      <td>[]</td>\n",
              "    </tr>\n",
              "    <tr>\n",
              "      <th>1</th>\n",
              "      <td>2020-03-18 03:18:14</td>\n",
              "      <td>Seu Zé da Farmácia</td>\n",
              "      <td>seuzedafarmacia</td>\n",
              "      <td>Em ação preventiva, o Governo do Estado suspen...</td>\n",
              "      <td>0</td>\n",
              "      <td>56</td>\n",
              "      <td>pt</td>\n",
              "      <td>NaN</td>\n",
              "      <td>NaN</td>\n",
              "      <td>NaN</td>\n",
              "      <td>NaN</td>\n",
              "      <td>NaN</td>\n",
              "      <td>[]</td>\n",
              "    </tr>\n",
              "    <tr>\n",
              "      <th>2</th>\n",
              "      <td>2020-03-29 12:09:27</td>\n",
              "      <td>Marília Oliveira 🇧🇷</td>\n",
              "      <td>Marioliveira_gb</td>\n",
              "      <td>Incrível como os defensores do fim do distanci...</td>\n",
              "      <td>0</td>\n",
              "      <td>5</td>\n",
              "      <td>pt</td>\n",
              "      <td>NaN</td>\n",
              "      <td>NaN</td>\n",
              "      <td>NaN</td>\n",
              "      <td>NaN</td>\n",
              "      <td>NaN</td>\n",
              "      <td>[]</td>\n",
              "    </tr>\n",
              "    <tr>\n",
              "      <th>3</th>\n",
              "      <td>2020-04-01 21:11:07</td>\n",
              "      <td>🚩</td>\n",
              "      <td>santosodeto</td>\n",
              "      <td>Fumaça de cigarro pode propagar coronavírus? h...</td>\n",
              "      <td>0</td>\n",
              "      <td>1885</td>\n",
              "      <td>pt</td>\n",
              "      <td>NaN</td>\n",
              "      <td>NaN</td>\n",
              "      <td>NaN</td>\n",
              "      <td>NaN</td>\n",
              "      <td>NaN</td>\n",
              "      <td>[]</td>\n",
              "    </tr>\n",
              "    <tr>\n",
              "      <th>4</th>\n",
              "      <td>2020-03-19 17:49:40</td>\n",
              "      <td>Nova Impressão</td>\n",
              "      <td>novaimpressao_</td>\n",
              "      <td>🚨Todos juntos contra COVID-19💪\\n\\nSolicite seu...</td>\n",
              "      <td>0</td>\n",
              "      <td>124</td>\n",
              "      <td>pt</td>\n",
              "      <td>Brasília</td>\n",
              "      <td>Brazil</td>\n",
              "      <td>BR</td>\n",
              "      <td>-47.8778</td>\n",
              "      <td>-15.77691</td>\n",
              "      <td>[]</td>\n",
              "    </tr>\n",
              "  </tbody>\n",
              "</table>\n",
              "</div>"
            ],
            "text/plain": [
              "                  data              usuario  ... longitude hashtags\n",
              "0  2020-03-23 18:51:14             Gaboardi  ...       NaN       []\n",
              "1  2020-03-18 03:18:14   Seu Zé da Farmácia  ...       NaN       []\n",
              "2  2020-03-29 12:09:27  Marília Oliveira 🇧🇷  ...       NaN       []\n",
              "3  2020-04-01 21:11:07                    🚩  ...       NaN       []\n",
              "4  2020-03-19 17:49:40       Nova Impressão  ... -15.77691       []\n",
              "\n",
              "[5 rows x 13 columns]"
            ]
          },
          "metadata": {
            "tags": []
          },
          "execution_count": 8
        }
      ]
    },
    {
      "cell_type": "markdown",
      "metadata": {
        "id": "x_LacmPHV380"
      },
      "source": [
        "### Sumário para o campo *data*"
      ]
    },
    {
      "cell_type": "markdown",
      "metadata": {
        "id": "FlAw_pXYV7P8"
      },
      "source": [
        "**Resumo geral:**\n",
        "> Possui 1.658.825 campos, onde 1.202.322 são únicos, 456.503 são duplicados e não há campos nulos.\n",
        "\n",
        "> A data com maior frequência é '2020-04-15 21:00:00' e aparece 27 vezes.\n",
        "\n",
        "> A data inicial é '2020-01-01 00:42:12' e a final '2020-07-28 17:19:44'."
      ]
    },
    {
      "cell_type": "code",
      "metadata": {
        "id": "e3ExBq8gWAy4",
        "outputId": "ec2f0f73-6a0e-4219-c112-5f4f85543394",
        "colab": {
          "base_uri": "https://localhost:8080/"
        }
      },
      "source": [
        "dataset.data.describe()"
      ],
      "execution_count": null,
      "outputs": [
        {
          "output_type": "execute_result",
          "data": {
            "text/plain": [
              "count                 1658825\n",
              "unique                1202322\n",
              "top       2020-04-15 21:00:00\n",
              "freq                       27\n",
              "Name: data, dtype: object"
            ]
          },
          "metadata": {
            "tags": []
          },
          "execution_count": 9
        }
      ]
    },
    {
      "cell_type": "code",
      "metadata": {
        "id": "6YQq-RdWWDUc",
        "outputId": "756046d3-5425-4cfa-aaf8-3728b292d613",
        "colab": {
          "base_uri": "https://localhost:8080/"
        }
      },
      "source": [
        "datas_total = len(dataset.data)\n",
        "datas_unicos = dataset.data.nunique()\n",
        "datas_null = dataset.data.isnull().sum()\n",
        "datas_duplicados = datas_total - datas_unicos - datas_null\n",
        "datas_df = pd.DataFrame({\n",
        "                  'datas': ['únicos', 'duplicados', 'vazio'] ,\n",
        "                   'Contagem' : [datas_unicos, datas_duplicados, datas_null],\n",
        "                   'Porcentagem' : [(datas_unicos/datas_total)*100, (datas_duplicados/datas_total)*100, (datas_null/datas_total)*100]})\n",
        "datas_df"
      ],
      "execution_count": null,
      "outputs": [
        {
          "output_type": "execute_result",
          "data": {
            "text/html": [
              "<div>\n",
              "<style scoped>\n",
              "    .dataframe tbody tr th:only-of-type {\n",
              "        vertical-align: middle;\n",
              "    }\n",
              "\n",
              "    .dataframe tbody tr th {\n",
              "        vertical-align: top;\n",
              "    }\n",
              "\n",
              "    .dataframe thead th {\n",
              "        text-align: right;\n",
              "    }\n",
              "</style>\n",
              "<table border=\"1\" class=\"dataframe\">\n",
              "  <thead>\n",
              "    <tr style=\"text-align: right;\">\n",
              "      <th></th>\n",
              "      <th>datas</th>\n",
              "      <th>Contagem</th>\n",
              "      <th>Porcentagem</th>\n",
              "    </tr>\n",
              "  </thead>\n",
              "  <tbody>\n",
              "    <tr>\n",
              "      <th>0</th>\n",
              "      <td>únicos</td>\n",
              "      <td>1202322</td>\n",
              "      <td>72.48034</td>\n",
              "    </tr>\n",
              "    <tr>\n",
              "      <th>1</th>\n",
              "      <td>duplicados</td>\n",
              "      <td>456503</td>\n",
              "      <td>27.51966</td>\n",
              "    </tr>\n",
              "    <tr>\n",
              "      <th>2</th>\n",
              "      <td>vazio</td>\n",
              "      <td>0</td>\n",
              "      <td>0.00000</td>\n",
              "    </tr>\n",
              "  </tbody>\n",
              "</table>\n",
              "</div>"
            ],
            "text/plain": [
              "        datas  Contagem  Porcentagem\n",
              "0      únicos   1202322     72.48034\n",
              "1  duplicados    456503     27.51966\n",
              "2       vazio         0      0.00000"
            ]
          },
          "metadata": {
            "tags": []
          },
          "execution_count": 10
        }
      ]
    },
    {
      "cell_type": "code",
      "metadata": {
        "id": "1LL-G0yiWGsO"
      },
      "source": [
        "# Seleciona data e faz uma contagem do texto por data\n",
        "data_df = dataset.groupby(\"data\", as_index=False)[\"texto\"].count()\n",
        "\n",
        "# Atualiza o nome da coluna texto\n",
        "data_df = data_df.rename(columns={\"texto\": \"tweets\"})\n",
        "\n",
        "# Converte data para o tipo datetime\n",
        "data_df['data'] = pd.to_datetime(data_df['data'])\n",
        "\n",
        "# Coloca a data como indice\n",
        "data_df = data_df.set_index('data')\n",
        "\n",
        "# Agrupa por semana\n",
        "data_semana = data_df.resample('W').sum()\n",
        "\n",
        "# Agrupa por mes\n",
        "data_mes = data_df.resample('M').sum()\n",
        "\n",
        "# Converte as datas de semana para strings\n",
        "#data_semana = data_semana.set_index(data_semana.index.strftime('%d %b, %Y'))\n",
        "\n",
        "# Converte as datas de mes para strings\n",
        "data_mes = data_mes.set_index(data_mes.index.strftime('%B'))\n",
        "\n",
        "# Reseta o indice\n",
        "data_semana = data_semana.reset_index()\n",
        "data_mes = data_mes.reset_index()"
      ],
      "execution_count": null,
      "outputs": []
    },
    {
      "cell_type": "code",
      "metadata": {
        "id": "k-TO_nRkWJo-",
        "outputId": "c9952694-15c7-4f68-bb71-9103faaceec2",
        "colab": {
          "base_uri": "https://localhost:8080/"
        }
      },
      "source": [
        "data_semana"
      ],
      "execution_count": null,
      "outputs": [
        {
          "output_type": "execute_result",
          "data": {
            "text/html": [
              "<div>\n",
              "<style scoped>\n",
              "    .dataframe tbody tr th:only-of-type {\n",
              "        vertical-align: middle;\n",
              "    }\n",
              "\n",
              "    .dataframe tbody tr th {\n",
              "        vertical-align: top;\n",
              "    }\n",
              "\n",
              "    .dataframe thead th {\n",
              "        text-align: right;\n",
              "    }\n",
              "</style>\n",
              "<table border=\"1\" class=\"dataframe\">\n",
              "  <thead>\n",
              "    <tr style=\"text-align: right;\">\n",
              "      <th></th>\n",
              "      <th>data</th>\n",
              "      <th>tweets</th>\n",
              "    </tr>\n",
              "  </thead>\n",
              "  <tbody>\n",
              "    <tr>\n",
              "      <th>0</th>\n",
              "      <td>2020-01-05</td>\n",
              "      <td>317</td>\n",
              "    </tr>\n",
              "    <tr>\n",
              "      <th>1</th>\n",
              "      <td>2020-01-12</td>\n",
              "      <td>681</td>\n",
              "    </tr>\n",
              "    <tr>\n",
              "      <th>2</th>\n",
              "      <td>2020-01-19</td>\n",
              "      <td>948</td>\n",
              "    </tr>\n",
              "    <tr>\n",
              "      <th>3</th>\n",
              "      <td>2020-01-26</td>\n",
              "      <td>23195</td>\n",
              "    </tr>\n",
              "    <tr>\n",
              "      <th>4</th>\n",
              "      <td>2020-02-02</td>\n",
              "      <td>32832</td>\n",
              "    </tr>\n",
              "    <tr>\n",
              "      <th>5</th>\n",
              "      <td>2020-02-09</td>\n",
              "      <td>43395</td>\n",
              "    </tr>\n",
              "    <tr>\n",
              "      <th>6</th>\n",
              "      <td>2020-02-16</td>\n",
              "      <td>19281</td>\n",
              "    </tr>\n",
              "    <tr>\n",
              "      <th>7</th>\n",
              "      <td>2020-02-23</td>\n",
              "      <td>10931</td>\n",
              "    </tr>\n",
              "    <tr>\n",
              "      <th>8</th>\n",
              "      <td>2020-03-01</td>\n",
              "      <td>34983</td>\n",
              "    </tr>\n",
              "    <tr>\n",
              "      <th>9</th>\n",
              "      <td>2020-03-08</td>\n",
              "      <td>29309</td>\n",
              "    </tr>\n",
              "    <tr>\n",
              "      <th>10</th>\n",
              "      <td>2020-03-15</td>\n",
              "      <td>98322</td>\n",
              "    </tr>\n",
              "    <tr>\n",
              "      <th>11</th>\n",
              "      <td>2020-03-22</td>\n",
              "      <td>165587</td>\n",
              "    </tr>\n",
              "    <tr>\n",
              "      <th>12</th>\n",
              "      <td>2020-03-29</td>\n",
              "      <td>123260</td>\n",
              "    </tr>\n",
              "    <tr>\n",
              "      <th>13</th>\n",
              "      <td>2020-04-05</td>\n",
              "      <td>233403</td>\n",
              "    </tr>\n",
              "    <tr>\n",
              "      <th>14</th>\n",
              "      <td>2020-04-12</td>\n",
              "      <td>150685</td>\n",
              "    </tr>\n",
              "    <tr>\n",
              "      <th>15</th>\n",
              "      <td>2020-04-19</td>\n",
              "      <td>139517</td>\n",
              "    </tr>\n",
              "    <tr>\n",
              "      <th>16</th>\n",
              "      <td>2020-04-26</td>\n",
              "      <td>0</td>\n",
              "    </tr>\n",
              "    <tr>\n",
              "      <th>17</th>\n",
              "      <td>2020-05-03</td>\n",
              "      <td>17730</td>\n",
              "    </tr>\n",
              "    <tr>\n",
              "      <th>18</th>\n",
              "      <td>2020-05-10</td>\n",
              "      <td>46980</td>\n",
              "    </tr>\n",
              "    <tr>\n",
              "      <th>19</th>\n",
              "      <td>2020-05-17</td>\n",
              "      <td>74745</td>\n",
              "    </tr>\n",
              "    <tr>\n",
              "      <th>20</th>\n",
              "      <td>2020-05-24</td>\n",
              "      <td>82963</td>\n",
              "    </tr>\n",
              "    <tr>\n",
              "      <th>21</th>\n",
              "      <td>2020-05-31</td>\n",
              "      <td>71745</td>\n",
              "    </tr>\n",
              "    <tr>\n",
              "      <th>22</th>\n",
              "      <td>2020-06-07</td>\n",
              "      <td>137874</td>\n",
              "    </tr>\n",
              "    <tr>\n",
              "      <th>23</th>\n",
              "      <td>2020-06-14</td>\n",
              "      <td>19489</td>\n",
              "    </tr>\n",
              "    <tr>\n",
              "      <th>24</th>\n",
              "      <td>2020-06-21</td>\n",
              "      <td>36376</td>\n",
              "    </tr>\n",
              "    <tr>\n",
              "      <th>25</th>\n",
              "      <td>2020-06-28</td>\n",
              "      <td>23459</td>\n",
              "    </tr>\n",
              "    <tr>\n",
              "      <th>26</th>\n",
              "      <td>2020-07-05</td>\n",
              "      <td>40817</td>\n",
              "    </tr>\n",
              "    <tr>\n",
              "      <th>27</th>\n",
              "      <td>2020-07-12</td>\n",
              "      <td>0</td>\n",
              "    </tr>\n",
              "    <tr>\n",
              "      <th>28</th>\n",
              "      <td>2020-07-19</td>\n",
              "      <td>0</td>\n",
              "    </tr>\n",
              "    <tr>\n",
              "      <th>29</th>\n",
              "      <td>2020-07-26</td>\n",
              "      <td>0</td>\n",
              "    </tr>\n",
              "    <tr>\n",
              "      <th>30</th>\n",
              "      <td>2020-08-02</td>\n",
              "      <td>1</td>\n",
              "    </tr>\n",
              "  </tbody>\n",
              "</table>\n",
              "</div>"
            ],
            "text/plain": [
              "         data  tweets\n",
              "0  2020-01-05     317\n",
              "1  2020-01-12     681\n",
              "2  2020-01-19     948\n",
              "3  2020-01-26   23195\n",
              "4  2020-02-02   32832\n",
              "5  2020-02-09   43395\n",
              "6  2020-02-16   19281\n",
              "7  2020-02-23   10931\n",
              "8  2020-03-01   34983\n",
              "9  2020-03-08   29309\n",
              "10 2020-03-15   98322\n",
              "11 2020-03-22  165587\n",
              "12 2020-03-29  123260\n",
              "13 2020-04-05  233403\n",
              "14 2020-04-12  150685\n",
              "15 2020-04-19  139517\n",
              "16 2020-04-26       0\n",
              "17 2020-05-03   17730\n",
              "18 2020-05-10   46980\n",
              "19 2020-05-17   74745\n",
              "20 2020-05-24   82963\n",
              "21 2020-05-31   71745\n",
              "22 2020-06-07  137874\n",
              "23 2020-06-14   19489\n",
              "24 2020-06-21   36376\n",
              "25 2020-06-28   23459\n",
              "26 2020-07-05   40817\n",
              "27 2020-07-12       0\n",
              "28 2020-07-19       0\n",
              "29 2020-07-26       0\n",
              "30 2020-08-02       1"
            ]
          },
          "metadata": {
            "tags": []
          },
          "execution_count": 12
        }
      ]
    },
    {
      "cell_type": "code",
      "metadata": {
        "id": "zK9tqmKHWQUc",
        "outputId": "4e8407fb-24b0-4646-e943-e452c8202b17",
        "colab": {
          "base_uri": "https://localhost:8080/"
        }
      },
      "source": [
        "plt.rcParams['figure.dpi'] = 120\n",
        "f, ax = plt.subplots(figsize=(10, 3))\n",
        "plt.plot_date(data_semana['data'], data_semana['tweets'], linestyle='solid')"
      ],
      "execution_count": null,
      "outputs": [
        {
          "output_type": "execute_result",
          "data": {
            "text/plain": [
              "[<matplotlib.lines.Line2D at 0x7fa5a7a615f8>]"
            ]
          },
          "metadata": {
            "tags": []
          },
          "execution_count": 13
        },
        {
          "output_type": "display_data",
          "data": {
            "image/png": "[encoded data removed]",
            "text/plain": [
              "<Figure size 1200x360 with 1 Axes>"
            ]
          },
          "metadata": {
            "tags": [],
            "needs_background": "light"
          }
        }
      ]
    },
    {
      "cell_type": "code",
      "metadata": {
        "id": "wsikVTM-WKJW",
        "outputId": "3e1f55ea-e75b-49a8-8610-adc341e829c2",
        "colab": {
          "base_uri": "https://localhost:8080/"
        }
      },
      "source": [
        "data_mes"
      ],
      "execution_count": null,
      "outputs": [
        {
          "output_type": "execute_result",
          "data": {
            "text/html": [
              "<div>\n",
              "<style scoped>\n",
              "    .dataframe tbody tr th:only-of-type {\n",
              "        vertical-align: middle;\n",
              "    }\n",
              "\n",
              "    .dataframe tbody tr th {\n",
              "        vertical-align: top;\n",
              "    }\n",
              "\n",
              "    .dataframe thead th {\n",
              "        text-align: right;\n",
              "    }\n",
              "</style>\n",
              "<table border=\"1\" class=\"dataframe\">\n",
              "  <thead>\n",
              "    <tr style=\"text-align: right;\">\n",
              "      <th></th>\n",
              "      <th>data</th>\n",
              "      <th>tweets</th>\n",
              "    </tr>\n",
              "  </thead>\n",
              "  <tbody>\n",
              "    <tr>\n",
              "      <th>0</th>\n",
              "      <td>January</td>\n",
              "      <td>54555</td>\n",
              "    </tr>\n",
              "    <tr>\n",
              "      <th>1</th>\n",
              "      <td>February</td>\n",
              "      <td>109842</td>\n",
              "    </tr>\n",
              "    <tr>\n",
              "      <th>2</th>\n",
              "      <td>March</td>\n",
              "      <td>481657</td>\n",
              "    </tr>\n",
              "    <tr>\n",
              "      <th>3</th>\n",
              "      <td>April</td>\n",
              "      <td>470769</td>\n",
              "    </tr>\n",
              "    <tr>\n",
              "      <th>4</th>\n",
              "      <td>May</td>\n",
              "      <td>283986</td>\n",
              "    </tr>\n",
              "    <tr>\n",
              "      <th>5</th>\n",
              "      <td>June</td>\n",
              "      <td>258015</td>\n",
              "    </tr>\n",
              "    <tr>\n",
              "      <th>6</th>\n",
              "      <td>July</td>\n",
              "      <td>1</td>\n",
              "    </tr>\n",
              "  </tbody>\n",
              "</table>\n",
              "</div>"
            ],
            "text/plain": [
              "       data  tweets\n",
              "0   January   54555\n",
              "1  February  109842\n",
              "2     March  481657\n",
              "3     April  470769\n",
              "4       May  283986\n",
              "5      June  258015\n",
              "6      July       1"
            ]
          },
          "metadata": {
            "tags": []
          },
          "execution_count": 14
        }
      ]
    },
    {
      "cell_type": "code",
      "metadata": {
        "id": "wEsONWtiWNH4",
        "outputId": "7228a05d-fb9a-479d-e178-6a5872c51d5f",
        "colab": {
          "base_uri": "https://localhost:8080/"
        }
      },
      "source": [
        "sns.set(style=\"whitegrid\")\n",
        "plt.rcParams['figure.dpi'] = 120\n",
        "f, ax = plt.subplots(figsize=(10, 3))\n",
        "sns.set_color_codes(\"pastel\")\n",
        "sns.barplot(x=\"data\", y=\"tweets\", data=data_mes)\n",
        "ax.set(ylabel=\"\", xlabel=\"Tweets por mês\")\n",
        "sns.despine(left=True, bottom=True)"
      ],
      "execution_count": null,
      "outputs": [
        {
          "output_type": "display_data",
          "data": {
            "image/png": "[encoded data removed]",
            "text/plain": [
              "<Figure size 1200x360 with 1 Axes>"
            ]
          },
          "metadata": {
            "tags": []
          }
        }
      ]
    },
    {
      "cell_type": "markdown",
      "metadata": {
        "id": "8n1treyy5vtF"
      },
      "source": [
        "### Sumário para o campo *usuario*"
      ]
    },
    {
      "cell_type": "markdown",
      "metadata": {
        "id": "Zi5IBQN0Asvm"
      },
      "source": [
        "**Resumo geral:**\n",
        "> Possui 1.658.825 campos, onde 632.601 são únicos, 1.026.167 são duplicados e 57 estão nulos.\n",
        "\n",
        "> Usuário com maior frequência '.',  aparece 1624."
      ]
    },
    {
      "cell_type": "code",
      "metadata": {
        "id": "DsfHscVNAnWi",
        "outputId": "18b5c6db-dbc0-4740-ef0c-8d4b2bebaa5d",
        "colab": {
          "base_uri": "https://localhost:8080/"
        }
      },
      "source": [
        "dataset.usuario.describe()"
      ],
      "execution_count": null,
      "outputs": [
        {
          "output_type": "execute_result",
          "data": {
            "text/plain": [
              "count     1658768\n",
              "unique     632601\n",
              "top             .\n",
              "freq         1624\n",
              "Name: usuario, dtype: object"
            ]
          },
          "metadata": {
            "tags": []
          },
          "execution_count": 16
        }
      ]
    },
    {
      "cell_type": "code",
      "metadata": {
        "id": "2ZtrmkLyKf-i",
        "outputId": "2e97bd4b-f132-4905-ffba-db0af8f6d43e",
        "colab": {
          "base_uri": "https://localhost:8080/"
        }
      },
      "source": [
        "usuarios_total = len(dataset.usuario)\n",
        "usuarios_unicos = dataset.usuario.nunique()\n",
        "usuarios_null = dataset.usuario.isnull().sum()\n",
        "usuarios_duplicados = usuarios_total - usuarios_unicos - usuarios_null\n",
        "usuarios_df = pd.DataFrame({\n",
        "                  'Usuários': ['únicos', 'duplicados', 'vazio'] ,\n",
        "                   'Contagem' : [usuarios_unicos, usuarios_duplicados, usuarios_null],\n",
        "                   'Porcentagem' : [(usuarios_unicos/usuarios_total)*100, (usuarios_duplicados/usuarios_total)*100, (usuarios_null/usuarios_total)*100]})\n",
        "usuarios_df"
      ],
      "execution_count": null,
      "outputs": [
        {
          "output_type": "execute_result",
          "data": {
            "text/html": [
              "<div>\n",
              "<style scoped>\n",
              "    .dataframe tbody tr th:only-of-type {\n",
              "        vertical-align: middle;\n",
              "    }\n",
              "\n",
              "    .dataframe tbody tr th {\n",
              "        vertical-align: top;\n",
              "    }\n",
              "\n",
              "    .dataframe thead th {\n",
              "        text-align: right;\n",
              "    }\n",
              "</style>\n",
              "<table border=\"1\" class=\"dataframe\">\n",
              "  <thead>\n",
              "    <tr style=\"text-align: right;\">\n",
              "      <th></th>\n",
              "      <th>Usuários</th>\n",
              "      <th>Contagem</th>\n",
              "      <th>Porcentagem</th>\n",
              "    </tr>\n",
              "  </thead>\n",
              "  <tbody>\n",
              "    <tr>\n",
              "      <th>0</th>\n",
              "      <td>únicos</td>\n",
              "      <td>632601</td>\n",
              "      <td>38.135487</td>\n",
              "    </tr>\n",
              "    <tr>\n",
              "      <th>1</th>\n",
              "      <td>duplicados</td>\n",
              "      <td>1026167</td>\n",
              "      <td>61.861076</td>\n",
              "    </tr>\n",
              "    <tr>\n",
              "      <th>2</th>\n",
              "      <td>vazio</td>\n",
              "      <td>57</td>\n",
              "      <td>0.003436</td>\n",
              "    </tr>\n",
              "  </tbody>\n",
              "</table>\n",
              "</div>"
            ],
            "text/plain": [
              "     Usuários  Contagem  Porcentagem\n",
              "0      únicos    632601    38.135487\n",
              "1  duplicados   1026167    61.861076\n",
              "2       vazio        57     0.003436"
            ]
          },
          "metadata": {
            "tags": []
          },
          "execution_count": 17
        }
      ]
    },
    {
      "cell_type": "markdown",
      "metadata": {
        "id": "5Gb74KX8Sn2Z"
      },
      "source": [
        "Nota: O campo 'usuario' está trocado com o campo 'apelido', pois usuário é usado como um campo único, enquanto que um apelido pode ser usado por mais de um usuário."
      ]
    },
    {
      "cell_type": "markdown",
      "metadata": {
        "id": "5kPZ6ZniVZHw"
      },
      "source": [
        "### Sumário para o campo *apelido*"
      ]
    },
    {
      "cell_type": "markdown",
      "metadata": {
        "id": "cILRgEkRVoeY"
      },
      "source": [
        "**Resumo geral:**\n",
        "> Possui 1.658.825 campos, onde 774.516 são únicos e 0 estão nulos.\n",
        "\n",
        "> Apelido com maior frequência 'Lusa_noticias',  aparece 1404."
      ]
    },
    {
      "cell_type": "code",
      "metadata": {
        "id": "FAnBfTp4ViPY",
        "outputId": "07ddf57a-a9fe-4607-c6a4-e498125ffd20",
        "colab": {
          "base_uri": "https://localhost:8080/"
        }
      },
      "source": [
        "dataset.apelido.describe()"
      ],
      "execution_count": null,
      "outputs": [
        {
          "output_type": "execute_result",
          "data": {
            "text/plain": [
              "count           1658825\n",
              "unique           774516\n",
              "top       Lusa_noticias\n",
              "freq               1404\n",
              "Name: apelido, dtype: object"
            ]
          },
          "metadata": {
            "tags": []
          },
          "execution_count": 18
        }
      ]
    },
    {
      "cell_type": "code",
      "metadata": {
        "id": "YlrNtCL7YXi2",
        "outputId": "4841a56e-4853-4411-8b00-49ae53162380",
        "colab": {
          "base_uri": "https://localhost:8080/"
        }
      },
      "source": [
        "apelidos_total = len(dataset.apelido)\n",
        "apelidos_unicos = dataset.apelido.nunique()\n",
        "apelidos_null = dataset.apelido.isnull().sum()\n",
        "apelidos_duplicados = apelidos_total - apelidos_unicos - apelidos_null\n",
        "apelidos_df = pd.DataFrame({\n",
        "                  'Apelidos': ['únicos', 'duplicados', 'vazio'] ,\n",
        "                   'Contagem' : [apelidos_unicos, apelidos_duplicados, apelidos_null],\n",
        "                   'Porcentagem' : [(apelidos_unicos/apelidos_total)*100, (apelidos_duplicados/apelidos_total)*100, (apelidos_null/apelidos_total)*100]})\n",
        "apelidos_df"
      ],
      "execution_count": null,
      "outputs": [
        {
          "output_type": "execute_result",
          "data": {
            "text/html": [
              "<div>\n",
              "<style scoped>\n",
              "    .dataframe tbody tr th:only-of-type {\n",
              "        vertical-align: middle;\n",
              "    }\n",
              "\n",
              "    .dataframe tbody tr th {\n",
              "        vertical-align: top;\n",
              "    }\n",
              "\n",
              "    .dataframe thead th {\n",
              "        text-align: right;\n",
              "    }\n",
              "</style>\n",
              "<table border=\"1\" class=\"dataframe\">\n",
              "  <thead>\n",
              "    <tr style=\"text-align: right;\">\n",
              "      <th></th>\n",
              "      <th>Apelidos</th>\n",
              "      <th>Contagem</th>\n",
              "      <th>Porcentagem</th>\n",
              "    </tr>\n",
              "  </thead>\n",
              "  <tbody>\n",
              "    <tr>\n",
              "      <th>0</th>\n",
              "      <td>únicos</td>\n",
              "      <td>774516</td>\n",
              "      <td>46.690639</td>\n",
              "    </tr>\n",
              "    <tr>\n",
              "      <th>1</th>\n",
              "      <td>duplicados</td>\n",
              "      <td>884309</td>\n",
              "      <td>53.309361</td>\n",
              "    </tr>\n",
              "    <tr>\n",
              "      <th>2</th>\n",
              "      <td>vazio</td>\n",
              "      <td>0</td>\n",
              "      <td>0.000000</td>\n",
              "    </tr>\n",
              "  </tbody>\n",
              "</table>\n",
              "</div>"
            ],
            "text/plain": [
              "     Apelidos  Contagem  Porcentagem\n",
              "0      únicos    774516    46.690639\n",
              "1  duplicados    884309    53.309361\n",
              "2       vazio         0     0.000000"
            ]
          },
          "metadata": {
            "tags": []
          },
          "execution_count": 19
        }
      ]
    },
    {
      "cell_type": "markdown",
      "metadata": {
        "id": "ctrhY8buHtYu"
      },
      "source": [
        "**Número de apelidos por País**"
      ]
    },
    {
      "cell_type": "code",
      "metadata": {
        "id": "6CwgfKEeH9gp",
        "outputId": "03a289cf-920d-47f0-aa35-ee8127a37e76",
        "colab": {
          "base_uri": "https://localhost:8080/"
        }
      },
      "source": [
        "# Agrupa todos os usuários por pais e conta quantos usuários tem de cada país.\n",
        "apelido_pais = dataset.groupby(\"pais\", as_index=False)[\"apelido\"].count().sort_values(\"apelido\", ascending=False)\n",
        "\n",
        "# Calcula a porcentagem de participação\n",
        "apelido_pais['apelido']= (apelido_pais['apelido']/apelido_pais['apelido'].sum())*100\n",
        "\n",
        "# Divide o dataset apelido_pais em duas partes. \n",
        "# apelido_pais_grandes representa todos os países com pelo menos 0.5% de participação\n",
        "# apelido_pais_pequenos representa todos os países com menos de 0.5% de participação\n",
        "apelido_pais_grandes = apelido_pais[apelido_pais.apelido >= 0.5] .sort_values(\"apelido\", ascending=False)\n",
        "apelido_pais_pequenos = apelido_pais[apelido_pais.apelido < 0.5]\n",
        "\n",
        "# Calcula a porcentagem de participação total de todos os países com menos de 0.5% de participação\n",
        "apelidos_total_outros_paises = apelido_pais_pequenos['apelido'].sum()\n",
        "\n",
        "# Reseta o indice do dataset apelido_pais_grandes para evitar warnings ao adicionar uma nova linha\n",
        "apelido_pais_grandes = apelido_pais_grandes.reset_index(drop=True)\n",
        "\n",
        "# Adiciona a nova linha 'Outros Países' ao dataset apelido_pais_grandes\n",
        "apelido_pais_grandes.loc[len(apelido_pais_grandes.index)] = ['Outros Países',apelidos_total_outros_paises]\n",
        "\n",
        "# Ordena o dataset apelido_pais_grandes do maior para o menor\n",
        "apelido_pais_grandes = apelido_pais_grandes.sort_values(\"apelido\", ascending=False).reset_index(drop=True)\n",
        "\n",
        "# Exibe o dataset apelido_pais_grandes\n",
        "apelido_pais_grandes = apelido_pais_grandes.rename(columns={\"pais\" : \"Pais\", \"apelido\" : \"Presença de usuários (em %)\"})\n",
        "apelido_pais_grandes"
      ],
      "execution_count": null,
      "outputs": [
        {
          "output_type": "execute_result",
          "data": {
            "text/html": [
              "<div>\n",
              "<style scoped>\n",
              "    .dataframe tbody tr th:only-of-type {\n",
              "        vertical-align: middle;\n",
              "    }\n",
              "\n",
              "    .dataframe tbody tr th {\n",
              "        vertical-align: top;\n",
              "    }\n",
              "\n",
              "    .dataframe thead th {\n",
              "        text-align: right;\n",
              "    }\n",
              "</style>\n",
              "<table border=\"1\" class=\"dataframe\">\n",
              "  <thead>\n",
              "    <tr style=\"text-align: right;\">\n",
              "      <th></th>\n",
              "      <th>Pais</th>\n",
              "      <th>Presença de usuários (em %)</th>\n",
              "    </tr>\n",
              "  </thead>\n",
              "  <tbody>\n",
              "    <tr>\n",
              "      <th>0</th>\n",
              "      <td>Brazil</td>\n",
              "      <td>90.143432</td>\n",
              "    </tr>\n",
              "    <tr>\n",
              "      <th>1</th>\n",
              "      <td>Outros Países</td>\n",
              "      <td>3.682306</td>\n",
              "    </tr>\n",
              "    <tr>\n",
              "      <th>2</th>\n",
              "      <td>Portugal</td>\n",
              "      <td>3.585791</td>\n",
              "    </tr>\n",
              "    <tr>\n",
              "      <th>3</th>\n",
              "      <td>United States</td>\n",
              "      <td>1.431635</td>\n",
              "    </tr>\n",
              "    <tr>\n",
              "      <th>4</th>\n",
              "      <td>Italy</td>\n",
              "      <td>0.648794</td>\n",
              "    </tr>\n",
              "    <tr>\n",
              "      <th>5</th>\n",
              "      <td>Spain</td>\n",
              "      <td>0.508043</td>\n",
              "    </tr>\n",
              "  </tbody>\n",
              "</table>\n",
              "</div>"
            ],
            "text/plain": [
              "            Pais  Presença de usuários (em %)\n",
              "0         Brazil                    90.143432\n",
              "1  Outros Países                     3.682306\n",
              "2       Portugal                     3.585791\n",
              "3  United States                     1.431635\n",
              "4          Italy                     0.648794\n",
              "5          Spain                     0.508043"
            ]
          },
          "metadata": {
            "tags": []
          },
          "execution_count": 20
        }
      ]
    },
    {
      "cell_type": "markdown",
      "metadata": {
        "id": "SJhqfm6_H_yj"
      },
      "source": [
        "**Gráfico de apelidos por país**"
      ]
    },
    {
      "cell_type": "code",
      "metadata": {
        "id": "xArFTqB1IFiB",
        "outputId": "c1b0f8fe-fcc6-4245-ee5b-eb73f15155a8",
        "colab": {
          "base_uri": "https://localhost:8080/"
        }
      },
      "source": [
        "sns.set(style=\"whitegrid\")\n",
        "plt.rcParams['figure.dpi'] = 120\n",
        "f, ax = plt.subplots(figsize=(10, 3))\n",
        "sns.set_color_codes(\"pastel\")\n",
        "sns.barplot(x=\"Presença de usuários (em %)\", y=\"Pais\", data=apelido_pais_grandes)\n",
        "ax.set(xlim=(0, 100), ylabel=\"\", xlabel=\"Presença de usuários por país (em %)\")\n",
        "sns.despine(left=True, bottom=True)"
      ],
      "execution_count": null,
      "outputs": [
        {
          "output_type": "display_data",
          "data": {
            "image/png": "[encoded data removed]",
            "text/plain": [
              "<Figure size 1200x360 with 1 Axes>"
            ]
          },
          "metadata": {
            "tags": []
          }
        }
      ]
    },
    {
      "cell_type": "markdown",
      "metadata": {
        "id": "ZXeu5y7KJfab"
      },
      "source": [
        "Nota: A porcentagem de presença de usuários por país se refere ao real número de usuários no campo 'apelido'. A definição de 'usuario' e 'apelido' está trocada no dataset."
      ]
    },
    {
      "cell_type": "markdown",
      "metadata": {
        "id": "F4nqEcx6nAdL"
      },
      "source": [
        "**Número de apelidos por Idioma**"
      ]
    },
    {
      "cell_type": "code",
      "metadata": {
        "id": "ngdrIU4dnCyd",
        "outputId": "7a47b0f2-cdb8-4808-94bb-50a5f68d8cf2",
        "colab": {
          "base_uri": "https://localhost:8080/"
        }
      },
      "source": [
        "# Agrupa todos os usuários por idioma e conta quantos usuários tem de cada idioma.\n",
        "apelido_idioma = dataset.groupby(\"idioma\", as_index=False)[\"apelido\"].count().sort_values(\"apelido\", ascending=False)\n",
        "\n",
        "# Calcula a porcentagem de participação\n",
        "apelido_idioma['apelido']= (apelido_idioma['apelido']/apelido_idioma['apelido'].sum())*100\n",
        "\n",
        "# Divide o dataset apelido_idioma em duas partes.\n",
        "# apelido_idioma_grandes representa os cinco idiomas mais representativos do dataset\n",
        "# apelido_idioma_pequenos representa todos os outros idiomas depois do quinto mais representativo\n",
        "apelido_idioma_grandes = apelido_idioma[:5]\n",
        "apelido_idioma_pequenos = apelido_idioma[5:]\n",
        "\n",
        "# Calcula a porcentagem de participação total de todos os idiomas com depois do quinto mais representativo\n",
        "apelidos_total_outros_idiomas = apelido_idioma_pequenos['apelido'].sum()\n",
        "\n",
        "# Reseta o indice do dataset apelido_idioma_grandes para evitar warnings ao adicionar uma nova linha\n",
        "apelido_idioma_grandes = apelido_idioma_grandes.reset_index(drop=True)\n",
        "\n",
        "# Adiciona a nova linha 'Outros Idiomas' ao dataset apelido_idioma_grandes\n",
        "apelido_idioma_grandes.loc[len(apelido_idioma_grandes.index)] = ['Outros Idiomas',apelidos_total_outros_idiomas]\n",
        "\n",
        "# Ordena o dataset apelido_idioma_grandes do maior para o menor\n",
        "apelido_idioma_grandes = apelido_idioma_grandes.sort_values(\"apelido\", ascending=False).reset_index(drop=True)\n",
        "\n",
        "# Exibe o dataset apelido_idioma_grandes\n",
        "apelido_idioma_grandes = apelido_idioma_grandes.rename(columns={\"idioma\" : \"Idioma\", \"apelido\" : \"Presença de usuários (em %)\"})\n",
        "apelido_idioma_grandes"
      ],
      "execution_count": null,
      "outputs": [
        {
          "output_type": "execute_result",
          "data": {
            "text/html": [
              "<div>\n",
              "<style scoped>\n",
              "    .dataframe tbody tr th:only-of-type {\n",
              "        vertical-align: middle;\n",
              "    }\n",
              "\n",
              "    .dataframe tbody tr th {\n",
              "        vertical-align: top;\n",
              "    }\n",
              "\n",
              "    .dataframe thead th {\n",
              "        text-align: right;\n",
              "    }\n",
              "</style>\n",
              "<table border=\"1\" class=\"dataframe\">\n",
              "  <thead>\n",
              "    <tr style=\"text-align: right;\">\n",
              "      <th></th>\n",
              "      <th>Idioma</th>\n",
              "      <th>Presença de usuários (em %)</th>\n",
              "    </tr>\n",
              "  </thead>\n",
              "  <tbody>\n",
              "    <tr>\n",
              "      <th>0</th>\n",
              "      <td>pt</td>\n",
              "      <td>95.657830</td>\n",
              "    </tr>\n",
              "    <tr>\n",
              "      <th>1</th>\n",
              "      <td>en</td>\n",
              "      <td>1.446265</td>\n",
              "    </tr>\n",
              "    <tr>\n",
              "      <th>2</th>\n",
              "      <td>Outros Idiomas</td>\n",
              "      <td>1.304960</td>\n",
              "    </tr>\n",
              "    <tr>\n",
              "      <th>3</th>\n",
              "      <td>es</td>\n",
              "      <td>0.859343</td>\n",
              "    </tr>\n",
              "    <tr>\n",
              "      <th>4</th>\n",
              "      <td>it</td>\n",
              "      <td>0.390638</td>\n",
              "    </tr>\n",
              "    <tr>\n",
              "      <th>5</th>\n",
              "      <td>und</td>\n",
              "      <td>0.340964</td>\n",
              "    </tr>\n",
              "  </tbody>\n",
              "</table>\n",
              "</div>"
            ],
            "text/plain": [
              "           Idioma  Presença de usuários (em %)\n",
              "0              pt                    95.657830\n",
              "1              en                     1.446265\n",
              "2  Outros Idiomas                     1.304960\n",
              "3              es                     0.859343\n",
              "4              it                     0.390638\n",
              "5             und                     0.340964"
            ]
          },
          "metadata": {
            "tags": []
          },
          "execution_count": 22
        }
      ]
    },
    {
      "cell_type": "markdown",
      "metadata": {
        "id": "P6YGXyZxokjg"
      },
      "source": [
        "Observações:\n",
        "\n",
        "1. A porcentagem de presença de usuários por idioma se refere ao real número de usuários no campo 'apelido'. A definição de 'usuario' e 'apelido' está trocada no dataset.\n",
        "2. O idioma '**und**' significa **undefined**, que em português seria \"**não definido**\". Os usuários no twitter podem escolher opções de privacidade para não compartilhar o idioma."
      ]
    },
    {
      "cell_type": "markdown",
      "metadata": {
        "id": "mV7pSiYux41e"
      },
      "source": [
        "**Comparando apelidos por país com apelidos por idioma**"
      ]
    },
    {
      "cell_type": "code",
      "metadata": {
        "id": "S4Sy9i53x7Md",
        "outputId": "c2b83536-b14a-4f82-dfb8-5ac7d0a57b90",
        "colab": {
          "base_uri": "https://localhost:8080/"
        }
      },
      "source": [
        "apelido_pais_grandes"
      ],
      "execution_count": null,
      "outputs": [
        {
          "output_type": "execute_result",
          "data": {
            "text/html": [
              "<div>\n",
              "<style scoped>\n",
              "    .dataframe tbody tr th:only-of-type {\n",
              "        vertical-align: middle;\n",
              "    }\n",
              "\n",
              "    .dataframe tbody tr th {\n",
              "        vertical-align: top;\n",
              "    }\n",
              "\n",
              "    .dataframe thead th {\n",
              "        text-align: right;\n",
              "    }\n",
              "</style>\n",
              "<table border=\"1\" class=\"dataframe\">\n",
              "  <thead>\n",
              "    <tr style=\"text-align: right;\">\n",
              "      <th></th>\n",
              "      <th>Pais</th>\n",
              "      <th>Presença de usuários (em %)</th>\n",
              "    </tr>\n",
              "  </thead>\n",
              "  <tbody>\n",
              "    <tr>\n",
              "      <th>0</th>\n",
              "      <td>Brazil</td>\n",
              "      <td>90.143432</td>\n",
              "    </tr>\n",
              "    <tr>\n",
              "      <th>1</th>\n",
              "      <td>Outros Países</td>\n",
              "      <td>3.682306</td>\n",
              "    </tr>\n",
              "    <tr>\n",
              "      <th>2</th>\n",
              "      <td>Portugal</td>\n",
              "      <td>3.585791</td>\n",
              "    </tr>\n",
              "    <tr>\n",
              "      <th>3</th>\n",
              "      <td>United States</td>\n",
              "      <td>1.431635</td>\n",
              "    </tr>\n",
              "    <tr>\n",
              "      <th>4</th>\n",
              "      <td>Italy</td>\n",
              "      <td>0.648794</td>\n",
              "    </tr>\n",
              "    <tr>\n",
              "      <th>5</th>\n",
              "      <td>Spain</td>\n",
              "      <td>0.508043</td>\n",
              "    </tr>\n",
              "  </tbody>\n",
              "</table>\n",
              "</div>"
            ],
            "text/plain": [
              "            Pais  Presença de usuários (em %)\n",
              "0         Brazil                    90.143432\n",
              "1  Outros Países                     3.682306\n",
              "2       Portugal                     3.585791\n",
              "3  United States                     1.431635\n",
              "4          Italy                     0.648794\n",
              "5          Spain                     0.508043"
            ]
          },
          "metadata": {
            "tags": []
          },
          "execution_count": 23
        }
      ]
    },
    {
      "cell_type": "code",
      "metadata": {
        "id": "p1jJ_KZtx89W",
        "outputId": "20c06dbf-7e3a-4569-f993-16b91276aabd",
        "colab": {
          "base_uri": "https://localhost:8080/"
        }
      },
      "source": [
        "apelido_idioma_grandes"
      ],
      "execution_count": null,
      "outputs": [
        {
          "output_type": "execute_result",
          "data": {
            "text/html": [
              "<div>\n",
              "<style scoped>\n",
              "    .dataframe tbody tr th:only-of-type {\n",
              "        vertical-align: middle;\n",
              "    }\n",
              "\n",
              "    .dataframe tbody tr th {\n",
              "        vertical-align: top;\n",
              "    }\n",
              "\n",
              "    .dataframe thead th {\n",
              "        text-align: right;\n",
              "    }\n",
              "</style>\n",
              "<table border=\"1\" class=\"dataframe\">\n",
              "  <thead>\n",
              "    <tr style=\"text-align: right;\">\n",
              "      <th></th>\n",
              "      <th>Idioma</th>\n",
              "      <th>Presença de usuários (em %)</th>\n",
              "    </tr>\n",
              "  </thead>\n",
              "  <tbody>\n",
              "    <tr>\n",
              "      <th>0</th>\n",
              "      <td>pt</td>\n",
              "      <td>95.657830</td>\n",
              "    </tr>\n",
              "    <tr>\n",
              "      <th>1</th>\n",
              "      <td>en</td>\n",
              "      <td>1.446265</td>\n",
              "    </tr>\n",
              "    <tr>\n",
              "      <th>2</th>\n",
              "      <td>Outros Idiomas</td>\n",
              "      <td>1.304960</td>\n",
              "    </tr>\n",
              "    <tr>\n",
              "      <th>3</th>\n",
              "      <td>es</td>\n",
              "      <td>0.859343</td>\n",
              "    </tr>\n",
              "    <tr>\n",
              "      <th>4</th>\n",
              "      <td>it</td>\n",
              "      <td>0.390638</td>\n",
              "    </tr>\n",
              "    <tr>\n",
              "      <th>5</th>\n",
              "      <td>und</td>\n",
              "      <td>0.340964</td>\n",
              "    </tr>\n",
              "  </tbody>\n",
              "</table>\n",
              "</div>"
            ],
            "text/plain": [
              "           Idioma  Presença de usuários (em %)\n",
              "0              pt                    95.657830\n",
              "1              en                     1.446265\n",
              "2  Outros Idiomas                     1.304960\n",
              "3              es                     0.859343\n",
              "4              it                     0.390638\n",
              "5             und                     0.340964"
            ]
          },
          "metadata": {
            "tags": []
          },
          "execution_count": 24
        }
      ]
    },
    {
      "cell_type": "markdown",
      "metadata": {
        "id": "lTDSYNOOyBe1"
      },
      "source": [
        "Observações:\n",
        "\n",
        "1. O Brasil é o país com o maior número de usuários, seguido por Portugal e ambos falam português. Porém se somarmos o número de usuários de Brasil e Portugal não dará o mesmo número de usuários por idioma em pt. Isso quer dizer que há mais países que falam português no dataset além de Brasil e Portugal.\n",
        "2. O número de usuários na Itália é maior do que na Espanha. Entretanto, o idioma Espanhol tem mais do que o dobro de usuários que o Italiano. Isso é porque há mais países falam Espanhol do que Italiano.\n",
        "3. Podemos observar que o número de usuários nos EUA é muito próximo do número de usuários que falam inglês, com isso poderíamos **erroneamente** considerar que a maioria dos usuários que estão nos EUA falam inglês. No entanto, podem haver usuários que estão no EUA e falam outro idioma. Os dois sub datasets apresentados são relacionados entre si apenas para o número de usuários. Para confirmar a hipótese de que a maioria dos usuários dos EUA falam inglẽs, seria necessário fazer uma relação entre país e idioma."
      ]
    },
    {
      "cell_type": "markdown",
      "metadata": {
        "id": "fR_8hjZ52jmn"
      },
      "source": [
        "### Sumário para o campo *texto*"
      ]
    },
    {
      "cell_type": "markdown",
      "metadata": {
        "id": "yDAufgPl2pW9"
      },
      "source": [
        "**Resuno geral:**\n",
        "> Possui 1658825 campos, onde 1653599 são únicos\n",
        "\n",
        "\n",
        "> Texto com maior frequência \"covid 19? desculpa eu entendi convite para ficar de love\", frequência do texto 120."
      ]
    },
    {
      "cell_type": "code",
      "metadata": {
        "id": "15PZlCpO2t4i",
        "outputId": "f5560b83-6e2a-4d3b-ef6d-c7eb27f12c16",
        "colab": {
          "base_uri": "https://localhost:8080/"
        }
      },
      "source": [
        "dataset.texto.describe()"
      ],
      "execution_count": null,
      "outputs": [
        {
          "output_type": "execute_result",
          "data": {
            "text/plain": [
              "count                                               1658825\n",
              "unique                                              1653599\n",
              "top       covid 19? desculpa eu entendi convite pra fica...\n",
              "freq                                                    120\n",
              "Name: texto, dtype: object"
            ]
          },
          "metadata": {
            "tags": []
          },
          "execution_count": 25
        }
      ]
    },
    {
      "cell_type": "markdown",
      "metadata": {
        "id": "aC2QSw5j25oa"
      },
      "source": [
        "**Texto duplicados:**\n",
        "\n",
        "\n",
        "> Os texto que possuem maior duplicidade são:\n",
        "\n",
        "*   covid 19? desculpa eu entendi convite para ficar de love\n",
        "*   e vamos de pandemia\n",
        "* Temos muitos infectados, mas não é de coronavírus, é maldade e inveja...\n",
        "* e vamos de isolamento social"
      ]
    },
    {
      "cell_type": "code",
      "metadata": {
        "id": "BpYLItw63EOY",
        "outputId": "4acc56bb-2cb8-4c6f-e0f4-d4b3102690c4",
        "colab": {
          "base_uri": "https://localhost:8080/"
        }
      },
      "source": [
        "duplicado  = dataset.texto.value_counts().reset_index().rename(columns={'index': 'Texto', 'texto': 'Total'})\n",
        "duplicado"
      ],
      "execution_count": null,
      "outputs": [
        {
          "output_type": "execute_result",
          "data": {
            "text/html": [
              "<div>\n",
              "<style scoped>\n",
              "    .dataframe tbody tr th:only-of-type {\n",
              "        vertical-align: middle;\n",
              "    }\n",
              "\n",
              "    .dataframe tbody tr th {\n",
              "        vertical-align: top;\n",
              "    }\n",
              "\n",
              "    .dataframe thead th {\n",
              "        text-align: right;\n",
              "    }\n",
              "</style>\n",
              "<table border=\"1\" class=\"dataframe\">\n",
              "  <thead>\n",
              "    <tr style=\"text-align: right;\">\n",
              "      <th></th>\n",
              "      <th>Texto</th>\n",
              "      <th>Total</th>\n",
              "    </tr>\n",
              "  </thead>\n",
              "  <tbody>\n",
              "    <tr>\n",
              "      <th>0</th>\n",
              "      <td>covid 19? desculpa eu entendi convite pra fica...</td>\n",
              "      <td>120</td>\n",
              "    </tr>\n",
              "    <tr>\n",
              "      <th>1</th>\n",
              "      <td>e vamos de pandemia</td>\n",
              "      <td>82</td>\n",
              "    </tr>\n",
              "    <tr>\n",
              "      <th>2</th>\n",
              "      <td>Tem muitos infectados, mas não é de coronavíru...</td>\n",
              "      <td>70</td>\n",
              "    </tr>\n",
              "    <tr>\n",
              "      <th>3</th>\n",
              "      <td>e vamos de isolamento social</td>\n",
              "      <td>63</td>\n",
              "    </tr>\n",
              "    <tr>\n",
              "      <th>4</th>\n",
              "      <td>#Podcast - Tudo sobre o #Coronavirus aqui. Ouç...</td>\n",
              "      <td>50</td>\n",
              "    </tr>\n",
              "    <tr>\n",
              "      <th>...</th>\n",
              "      <td>...</td>\n",
              "      <td>...</td>\n",
              "    </tr>\n",
              "    <tr>\n",
              "      <th>1653594</th>\n",
              "      <td>A escola fecha por um cano roto ou o crl q foi...</td>\n",
              "      <td>1</td>\n",
              "    </tr>\n",
              "    <tr>\n",
              "      <th>1653595</th>\n",
              "      <td>@0tavio0 Cloroquina é a mulher do coronga?</td>\n",
              "      <td>1</td>\n",
              "    </tr>\n",
              "    <tr>\n",
              "      <th>1653596</th>\n",
              "      <td>@EdmundoZen @1105garibaldi Eu queria tanto que...</td>\n",
              "      <td>1</td>\n",
              "    </tr>\n",
              "    <tr>\n",
              "      <th>1653597</th>\n",
              "      <td>@WinstonLing Cara, isso é superficial demais. ...</td>\n",
              "      <td>1</td>\n",
              "    </tr>\n",
              "    <tr>\n",
              "      <th>1653598</th>\n",
              "      <td>@eupirralho No geral eu n gosto dele, não vote...</td>\n",
              "      <td>1</td>\n",
              "    </tr>\n",
              "  </tbody>\n",
              "</table>\n",
              "<p>1653599 rows × 2 columns</p>\n",
              "</div>"
            ],
            "text/plain": [
              "                                                     Texto  Total\n",
              "0        covid 19? desculpa eu entendi convite pra fica...    120\n",
              "1                                      e vamos de pandemia     82\n",
              "2        Tem muitos infectados, mas não é de coronavíru...     70\n",
              "3                             e vamos de isolamento social     63\n",
              "4        #Podcast - Tudo sobre o #Coronavirus aqui. Ouç...     50\n",
              "...                                                    ...    ...\n",
              "1653594  A escola fecha por um cano roto ou o crl q foi...      1\n",
              "1653595         @0tavio0 Cloroquina é a mulher do coronga?      1\n",
              "1653596  @EdmundoZen @1105garibaldi Eu queria tanto que...      1\n",
              "1653597  @WinstonLing Cara, isso é superficial demais. ...      1\n",
              "1653598  @eupirralho No geral eu n gosto dele, não vote...      1\n",
              "\n",
              "[1653599 rows x 2 columns]"
            ]
          },
          "metadata": {
            "tags": []
          },
          "execution_count": 26
        }
      ]
    },
    {
      "cell_type": "markdown",
      "metadata": {
        "id": "GqdF_V6wwJUg"
      },
      "source": [
        "### Sumário para o campo *retweet*\n",
        "\n"
      ]
    },
    {
      "cell_type": "markdown",
      "metadata": {
        "id": "aFfnPDq5qLBJ"
      },
      "source": [
        "> Média de retweets por idioma"
      ]
    },
    {
      "cell_type": "code",
      "metadata": {
        "id": "cWPR5teD03aN",
        "outputId": "121c1a57-7521-4469-b46c-8e15c0ce1aee",
        "colab": {
          "base_uri": "https://localhost:8080/"
        }
      },
      "source": [
        "retweet_idioma = dataset.groupby('idioma').retweet.mean()\n",
        "\n",
        "retweet_idioma.sort_values(ascending=False)"
      ],
      "execution_count": null,
      "outputs": [
        {
          "output_type": "execute_result",
          "data": {
            "text/plain": [
              "idioma\n",
              "ko     71714.169118\n",
              "th     11485.112360\n",
              "en      8583.975574\n",
              "und     2974.349364\n",
              "in      2073.594937\n",
              "ja      2048.657289\n",
              "fr      1897.999726\n",
              "da      1181.511111\n",
              "cy       973.871795\n",
              "es       853.611926\n",
              "zh       754.588235\n",
              "fi       620.909091\n",
              "hi       589.490722\n",
              "et       561.043210\n",
              "tr       533.895035\n",
              "te       496.117647\n",
              "ro       393.066667\n",
              "ar       367.008080\n",
              "ht       306.419162\n",
              "cs       275.305556\n",
              "tl       259.064570\n",
              "ur       253.055866\n",
              "sd       239.166667\n",
              "ta       214.750000\n",
              "dv       205.000000\n",
              "hu       199.307692\n",
              "de       183.986150\n",
              "lt       164.872093\n",
              "uk       145.054054\n",
              "sl       140.833333\n",
              "vi       118.956522\n",
              "eu       117.465517\n",
              "my       108.000000\n",
              "or       106.500000\n",
              "fa        82.992248\n",
              "pl        79.530534\n",
              "sr        74.950000\n",
              "kn        62.000000\n",
              "ru        56.093525\n",
              "el        46.882979\n",
              "nl        43.788462\n",
              "mr        43.000000\n",
              "bn        30.500000\n",
              "it        27.114969\n",
              "gu        19.428571\n",
              "ca        18.160769\n",
              "pt        16.993245\n",
              "ne        13.363636\n",
              "sv        10.940476\n",
              "ps         9.833333\n",
              "is         9.380952\n",
              "no         5.589286\n",
              "iw         4.666667\n",
              "bg         1.250000\n",
              "ckb        0.800000\n",
              "lv         0.305556\n",
              "ml         0.000000\n",
              "si         0.000000\n",
              "am         0.000000\n",
              "Name: retweet, dtype: float64"
            ]
          },
          "metadata": {
            "tags": []
          },
          "execution_count": 27
        }
      ]
    },
    {
      "cell_type": "markdown",
      "metadata": {
        "id": "UlKx-P-q7MSz"
      },
      "source": [
        "\n",
        "\n",
        "> Somatoria de retweets por texto\n",
        "\n"
      ]
    },
    {
      "cell_type": "code",
      "metadata": {
        "id": "n6OKQc993_Zq",
        "outputId": "b392129f-f0e4-4558-a9a9-4f7d27221eac",
        "colab": {
          "base_uri": "https://localhost:8080/"
        }
      },
      "source": [
        "retweet_texto = dataset.groupby('texto').retweet.sum()\n",
        "\n",
        "retweet_texto.sort_values(ascending=False)"
      ],
      "execution_count": null,
      "outputs": [
        {
          "output_type": "execute_result",
          "data": {
            "text/plain": [
              "texto\n",
              "RT @BTS_twt: 하루종일 쉬는중!\\n우리 아미들도 쉬는날엔 하루종일 쉽시다\\n#BOTD #BTS_OF_THE_DAY https://t.co/1ImqLijZHa                                                     3630493\n",
              "RT @OfficialMLK3: As my father explained during his lifetime, a riot is the language of the unheard.                                             3334793\n",
              "RT @andymilonakis: Congratulations to the Astronauts that left Earth today. Good choice                                                          3219652\n",
              "RT @BTS_twt: D-2 #AgustD https://t.co/2BPGGs8KbN                                                                                                 3072179\n",
              "RT @OfficialMLK3: No justice, no peace. No justice, no peace. No justice, no peace.                                                              2878644\n",
              "                                                                                                                                                  ...   \n",
              "Isso é bobagem! A questão não é o Bozo, e sim tratar um continente chamado Brasil como se tudo se resumisse ao Rio… https://t.co/GCjPRRwi5y            0\n",
              "Isso é cachaceiro querendo tomar uma pinga pra combater o covid19 https://t.co/XBjsTic5Wv                                                              0\n",
              "Isso é cara que está em quarentena desde que nasceu. https://t.co/UMGhiuF4Ke                                                                           0\n",
              "Isso é carência ou corona vírus?                                                                                                                       0\n",
              "!\\nclaro que o coronavírus é importante mas aqui a gente já tem as nossas doenças tropicais que têm uma taxa de mort… https://t.co/xqKiTFhJ9K          0\n",
              "Name: retweet, Length: 1653599, dtype: int64"
            ]
          },
          "metadata": {
            "tags": []
          },
          "execution_count": 28
        }
      ]
    },
    {
      "cell_type": "markdown",
      "metadata": {
        "id": "9VIbXKvK7T54"
      },
      "source": [
        "\n",
        "\n",
        "> Somatorio de retweets por pais\n",
        "\n"
      ]
    },
    {
      "cell_type": "code",
      "metadata": {
        "id": "KS-rQolU412T",
        "outputId": "9da1b942-9cae-4a46-ed97-10b321aa033a",
        "colab": {
          "base_uri": "https://localhost:8080/"
        }
      },
      "source": [
        "retweet_pais = dataset.groupby('pais').retweet.sum()\n",
        "\n",
        "retweet_pais.sort_values(ascending=False)"
      ],
      "execution_count": null,
      "outputs": [
        {
          "output_type": "execute_result",
          "data": {
            "text/plain": [
              "pais\n",
              "Brazil           218346\n",
              "Portugal          11874\n",
              "United States      4501\n",
              "France             2534\n",
              "Italy               669\n",
              "                  ...  \n",
              "Lithuania             0\n",
              "Luxembourg            0\n",
              "Macau                 0\n",
              "Malaysia              0\n",
              "Andorra               0\n",
              "Name: retweet, Length: 121, dtype: int64"
            ]
          },
          "metadata": {
            "tags": []
          },
          "execution_count": 29
        }
      ]
    },
    {
      "cell_type": "markdown",
      "metadata": {
        "id": "WiOcd3K14gij"
      },
      "source": [
        "\n",
        "\n",
        "> Usuários com maiores retweets\n",
        "\n"
      ]
    },
    {
      "cell_type": "code",
      "metadata": {
        "id": "Pg_JdGuW9TaS",
        "outputId": "4a943322-4233-4693-a4f6-28018f047413",
        "colab": {
          "base_uri": "https://localhost:8080/"
        }
      },
      "source": [
        "retweet_usuario = dataset.groupby('usuario').retweet.max()\n",
        "\n",
        "retweet_usuario.sort_values(ascending=False)"
      ],
      "execution_count": null,
      "outputs": [
        {
          "output_type": "execute_result",
          "data": {
            "text/plain": [
              "usuario\n",
              "Maryy                         1139763\n",
              "My cabbages!!                  989485\n",
              "Tr1gger Mike                   901093\n",
              "tweets not loading             850226\n",
              "Lyndsay⁷                       842837\n",
              "                               ...   \n",
              "Thiago Vasconcelos                  0\n",
              "Thiago Vasconcelos Pereira          0\n",
              "Thiago Ventura 🇧🇷 🚘                 0\n",
              "Thiago Viana Carraro                0\n",
              " ESTSOCCIENCIA                      0\n",
              "Name: retweet, Length: 632601, dtype: int64"
            ]
          },
          "metadata": {
            "tags": []
          },
          "execution_count": 30
        }
      ]
    },
    {
      "cell_type": "markdown",
      "metadata": {
        "id": "AsWHQYCl-VFZ"
      },
      "source": [
        "\n",
        "\n",
        "> Hashtags com maiores quantidade de retweets\n",
        "\n"
      ]
    },
    {
      "cell_type": "code",
      "metadata": {
        "id": "fm1cnnZa-HWg",
        "outputId": "f1c9c632-96c4-41e8-eb8f-e2dc50c83bd0",
        "colab": {
          "base_uri": "https://localhost:8080/"
        }
      },
      "source": [
        "retweent_hashtags = dataset.groupby('hashtags').retweet.sum()\n",
        "\n",
        "retweent_hashtags.sort_values(ascending=False)"
      ],
      "execution_count": null,
      "outputs": [
        {
          "output_type": "execute_result",
          "data": {
            "text/plain": [
              "hashtags\n",
              "[]                                                                              287100210\n",
              "['BOTD', 'BTS_OF_THE_DAY']                                                        8416915\n",
              "['AgustD']                                                                        3072179\n",
              "['0613FM_0515']                                                                   2664793\n",
              "['JIMIN']                                                                         2504973\n",
              "                                                                                  ...    \n",
              "['bordercollie', 'covid_19', 'pastoreio', 'herdingdog']                                 0\n",
              "['boraviajar', 'ferias', 'virus', 'Coronavirus', 'saude']                               0\n",
              "['boratrabalhar']                                                                       0\n",
              "['boratrabalhar', 'ficaemcasa', 'ficaemcasaporra', 'covid_19', 'quarentena']            0\n",
              "['007SemTempoParaMorrer', 'Coronavirus']                                                0\n",
              "Name: retweet, Length: 63838, dtype: int64"
            ]
          },
          "metadata": {
            "tags": []
          },
          "execution_count": 31
        }
      ]
    },
    {
      "cell_type": "markdown",
      "metadata": {
        "id": "r3Y7uEeLeUQL"
      },
      "source": [
        "### Sumário para o campo *seguidores*\n",
        "\n",
        "\n"
      ]
    },
    {
      "cell_type": "markdown",
      "metadata": {
        "id": "wXntIerMqb6X"
      },
      "source": [
        "> Existem 69575 usuários classificados como influeciadores, critério maior que 50000 seguidores. Representando 4,19% do dataset."
      ]
    },
    {
      "cell_type": "code",
      "metadata": {
        "id": "7znJ40HmfYMd"
      },
      "source": [
        "influenciadores = dataset.query('seguidores > 50000 ')"
      ],
      "execution_count": null,
      "outputs": []
    },
    {
      "cell_type": "markdown",
      "metadata": {
        "id": "yo1l2v6LqGxj"
      },
      "source": [
        "\n",
        "\n",
        "> Apresentação geral dos seguidores com mais de 50000 seguidores\n",
        "\n"
      ]
    },
    {
      "cell_type": "code",
      "metadata": {
        "id": "nZshDwIPqPCW",
        "outputId": "8872dc7f-be1c-4e52-99bb-d17912490f5a",
        "colab": {
          "base_uri": "https://localhost:8080/"
        }
      },
      "source": [
        "influenciadores.sort_values(ascending=False, by='seguidores')"
      ],
      "execution_count": null,
      "outputs": [
        {
          "output_type": "execute_result",
          "data": {
            "text/html": [
              "<div>\n",
              "<style scoped>\n",
              "    .dataframe tbody tr th:only-of-type {\n",
              "        vertical-align: middle;\n",
              "    }\n",
              "\n",
              "    .dataframe tbody tr th {\n",
              "        vertical-align: top;\n",
              "    }\n",
              "\n",
              "    .dataframe thead th {\n",
              "        text-align: right;\n",
              "    }\n",
              "</style>\n",
              "<table border=\"1\" class=\"dataframe\">\n",
              "  <thead>\n",
              "    <tr style=\"text-align: right;\">\n",
              "      <th></th>\n",
              "      <th>data</th>\n",
              "      <th>usuario</th>\n",
              "      <th>apelido</th>\n",
              "      <th>texto</th>\n",
              "      <th>retweet</th>\n",
              "      <th>seguidores</th>\n",
              "      <th>idioma</th>\n",
              "      <th>lugar</th>\n",
              "      <th>pais</th>\n",
              "      <th>sigla</th>\n",
              "      <th>latitude</th>\n",
              "      <th>longitude</th>\n",
              "      <th>hashtags</th>\n",
              "    </tr>\n",
              "  </thead>\n",
              "  <tbody>\n",
              "    <tr>\n",
              "      <th>788393</th>\n",
              "      <td>2020-05-23 23:08:17</td>\n",
              "      <td>Donald J. Trump</td>\n",
              "      <td>realDonaldTrump</td>\n",
              "      <td>RT @RyanAFournier: This morning, Joe Biden sai...</td>\n",
              "      <td>21369</td>\n",
              "      <td>84241250</td>\n",
              "      <td>en</td>\n",
              "      <td>NaN</td>\n",
              "      <td>NaN</td>\n",
              "      <td>NaN</td>\n",
              "      <td>NaN</td>\n",
              "      <td>NaN</td>\n",
              "      <td>[]</td>\n",
              "    </tr>\n",
              "    <tr>\n",
              "      <th>610962</th>\n",
              "      <td>2020-05-12 09:40:41</td>\n",
              "      <td>Reuters</td>\n",
              "      <td>Reuters</td>\n",
              "      <td>Japanese author Murakami to DJ 'Stay Home' rad...</td>\n",
              "      <td>46</td>\n",
              "      <td>22098307</td>\n",
              "      <td>en</td>\n",
              "      <td>NaN</td>\n",
              "      <td>NaN</td>\n",
              "      <td>NaN</td>\n",
              "      <td>NaN</td>\n",
              "      <td>NaN</td>\n",
              "      <td>[]</td>\n",
              "    </tr>\n",
              "    <tr>\n",
              "      <th>113733</th>\n",
              "      <td>2020-04-16 15:40:07</td>\n",
              "      <td>CNN en Español</td>\n",
              "      <td>CNNEE</td>\n",
              "      <td>FDA pide a recuperados de covid-19 donar sangr...</td>\n",
              "      <td>139</td>\n",
              "      <td>18878720</td>\n",
              "      <td>pt</td>\n",
              "      <td>NaN</td>\n",
              "      <td>NaN</td>\n",
              "      <td>NaN</td>\n",
              "      <td>NaN</td>\n",
              "      <td>NaN</td>\n",
              "      <td>[]</td>\n",
              "    </tr>\n",
              "    <tr>\n",
              "      <th>1491980</th>\n",
              "      <td>2020-04-07 21:30:08</td>\n",
              "      <td>CNN en Español</td>\n",
              "      <td>CNNEE</td>\n",
              "      <td>Ronda global de noticias de coronavirus este 7...</td>\n",
              "      <td>22</td>\n",
              "      <td>18875851</td>\n",
              "      <td>pt</td>\n",
              "      <td>NaN</td>\n",
              "      <td>NaN</td>\n",
              "      <td>NaN</td>\n",
              "      <td>NaN</td>\n",
              "      <td>NaN</td>\n",
              "      <td>[]</td>\n",
              "    </tr>\n",
              "    <tr>\n",
              "      <th>1519974</th>\n",
              "      <td>2020-02-26 03:28:52</td>\n",
              "      <td>Danilo Gentili</td>\n",
              "      <td>DaniloGentili</td>\n",
              "      <td>@Fabiodedao Eu levarei a nova schin que aí vai...</td>\n",
              "      <td>0</td>\n",
              "      <td>17244348</td>\n",
              "      <td>pt</td>\n",
              "      <td>NaN</td>\n",
              "      <td>NaN</td>\n",
              "      <td>NaN</td>\n",
              "      <td>NaN</td>\n",
              "      <td>NaN</td>\n",
              "      <td>[]</td>\n",
              "    </tr>\n",
              "    <tr>\n",
              "      <th>...</th>\n",
              "      <td>...</td>\n",
              "      <td>...</td>\n",
              "      <td>...</td>\n",
              "      <td>...</td>\n",
              "      <td>...</td>\n",
              "      <td>...</td>\n",
              "      <td>...</td>\n",
              "      <td>...</td>\n",
              "      <td>...</td>\n",
              "      <td>...</td>\n",
              "      <td>...</td>\n",
              "      <td>...</td>\n",
              "      <td>...</td>\n",
              "    </tr>\n",
              "    <tr>\n",
              "      <th>1440766</th>\n",
              "      <td>2020-05-28 21:36:54</td>\n",
              "      <td>Patriotas</td>\n",
              "      <td>PATRIOTASBR38</td>\n",
              "      <td>Estados governados por rivais de Bolsonaro têm...</td>\n",
              "      <td>709</td>\n",
              "      <td>50007</td>\n",
              "      <td>pt</td>\n",
              "      <td>NaN</td>\n",
              "      <td>NaN</td>\n",
              "      <td>NaN</td>\n",
              "      <td>NaN</td>\n",
              "      <td>NaN</td>\n",
              "      <td>[]</td>\n",
              "    </tr>\n",
              "    <tr>\n",
              "      <th>1202168</th>\n",
              "      <td>2020-03-24 20:43:38</td>\n",
              "      <td>Paulo Mathias</td>\n",
              "      <td>paulomathias</td>\n",
              "      <td>A verdade sobre o coronavírus é que ele dura n...</td>\n",
              "      <td>19</td>\n",
              "      <td>50006</td>\n",
              "      <td>pt</td>\n",
              "      <td>NaN</td>\n",
              "      <td>NaN</td>\n",
              "      <td>NaN</td>\n",
              "      <td>NaN</td>\n",
              "      <td>NaN</td>\n",
              "      <td>[]</td>\n",
              "    </tr>\n",
              "    <tr>\n",
              "      <th>18865</th>\n",
              "      <td>2020-03-31 19:41:31</td>\n",
              "      <td>Revista Oeste</td>\n",
              "      <td>revistaoeste</td>\n",
              "      <td>Israel está trabalhando em conjunto com a Auto...</td>\n",
              "      <td>26</td>\n",
              "      <td>50006</td>\n",
              "      <td>pt</td>\n",
              "      <td>NaN</td>\n",
              "      <td>NaN</td>\n",
              "      <td>NaN</td>\n",
              "      <td>NaN</td>\n",
              "      <td>NaN</td>\n",
              "      <td>[]</td>\n",
              "    </tr>\n",
              "    <tr>\n",
              "      <th>80604</th>\n",
              "      <td>2020-03-19 23:43:02</td>\n",
              "      <td>Cavalinho do Cruzeiro</td>\n",
              "      <td>cavalinhodocec</td>\n",
              "      <td>Já sei a solução para resolver o problema de r...</td>\n",
              "      <td>79</td>\n",
              "      <td>50003</td>\n",
              "      <td>pt</td>\n",
              "      <td>NaN</td>\n",
              "      <td>NaN</td>\n",
              "      <td>NaN</td>\n",
              "      <td>NaN</td>\n",
              "      <td>NaN</td>\n",
              "      <td>[]</td>\n",
              "    </tr>\n",
              "    <tr>\n",
              "      <th>881861</th>\n",
              "      <td>2020-02-04 21:44:04</td>\n",
              "      <td>MyNews</td>\n",
              "      <td>CanalMyNews</td>\n",
              "      <td>O presidente @jairbolsonaro e os governadores ...</td>\n",
              "      <td>0</td>\n",
              "      <td>50003</td>\n",
              "      <td>pt</td>\n",
              "      <td>NaN</td>\n",
              "      <td>NaN</td>\n",
              "      <td>NaN</td>\n",
              "      <td>NaN</td>\n",
              "      <td>NaN</td>\n",
              "      <td>[]</td>\n",
              "    </tr>\n",
              "  </tbody>\n",
              "</table>\n",
              "<p>69575 rows × 13 columns</p>\n",
              "</div>"
            ],
            "text/plain": [
              "                        data                usuario  ... longitude hashtags\n",
              "788393   2020-05-23 23:08:17        Donald J. Trump  ...       NaN       []\n",
              "610962   2020-05-12 09:40:41                Reuters  ...       NaN       []\n",
              "113733   2020-04-16 15:40:07         CNN en Español  ...       NaN       []\n",
              "1491980  2020-04-07 21:30:08         CNN en Español  ...       NaN       []\n",
              "1519974  2020-02-26 03:28:52         Danilo Gentili  ...       NaN       []\n",
              "...                      ...                    ...  ...       ...      ...\n",
              "1440766  2020-05-28 21:36:54              Patriotas  ...       NaN       []\n",
              "1202168  2020-03-24 20:43:38          Paulo Mathias  ...       NaN       []\n",
              "18865    2020-03-31 19:41:31          Revista Oeste  ...       NaN       []\n",
              "80604    2020-03-19 23:43:02  Cavalinho do Cruzeiro  ...       NaN       []\n",
              "881861   2020-02-04 21:44:04                 MyNews  ...       NaN       []\n",
              "\n",
              "[69575 rows x 13 columns]"
            ]
          },
          "metadata": {
            "tags": []
          },
          "execution_count": 33
        }
      ]
    },
    {
      "cell_type": "markdown",
      "metadata": {
        "id": "XcFfDVuIig_V"
      },
      "source": [
        "\n",
        "\n",
        "> Segue abaixo um top 20 dos usuarios que possuem mais seguidores, considerando os campos usuário e seguidores do dataframe `influenciadores`\n",
        "\n"
      ]
    },
    {
      "cell_type": "code",
      "metadata": {
        "id": "mF6di0YOq4Tn"
      },
      "source": [
        "top = dataset.groupby('usuario').seguidores.sum().reset_index().rename(columns={'index': 'usuario', 'seguidores': 'seguidores'})\n",
        "\n",
        "top_20 = top.sort_values(ascending=False, by='seguidores')[:20]"
      ],
      "execution_count": null,
      "outputs": []
    },
    {
      "cell_type": "markdown",
      "metadata": {
        "id": "SiRPRdJYro3x"
      },
      "source": [
        "\n",
        "\n",
        "> Apresentação dos 20 maiores influenciadores do dataset:\n",
        "\n"
      ]
    },
    {
      "cell_type": "markdown",
      "metadata": {
        "id": "Ap5cuIBSrcJ4"
      },
      "source": [
        "\n",
        "\n",
        "**Formato Tabela:**\n",
        "\n"
      ]
    },
    {
      "cell_type": "code",
      "metadata": {
        "id": "ptfT6KRorjgd",
        "outputId": "232292b7-18a6-4071-a361-88162291fb71",
        "colab": {
          "base_uri": "https://localhost:8080/"
        }
      },
      "source": [
        "top_20"
      ],
      "execution_count": null,
      "outputs": [
        {
          "output_type": "execute_result",
          "data": {
            "text/html": [
              "<div>\n",
              "<style scoped>\n",
              "    .dataframe tbody tr th:only-of-type {\n",
              "        vertical-align: middle;\n",
              "    }\n",
              "\n",
              "    .dataframe tbody tr th {\n",
              "        vertical-align: top;\n",
              "    }\n",
              "\n",
              "    .dataframe thead th {\n",
              "        text-align: right;\n",
              "    }\n",
              "</style>\n",
              "<table border=\"1\" class=\"dataframe\">\n",
              "  <thead>\n",
              "    <tr style=\"text-align: right;\">\n",
              "      <th></th>\n",
              "      <th>usuario</th>\n",
              "      <th>seguidores</th>\n",
              "    </tr>\n",
              "  </thead>\n",
              "  <tbody>\n",
              "    <tr>\n",
              "      <th>152536</th>\n",
              "      <td>G1</td>\n",
              "      <td>5409345836</td>\n",
              "    </tr>\n",
              "    <tr>\n",
              "      <th>147289</th>\n",
              "      <td>Folha de S.Paulo</td>\n",
              "      <td>4332229009</td>\n",
              "    </tr>\n",
              "    <tr>\n",
              "      <th>203032</th>\n",
              "      <td>Jornal O Globo</td>\n",
              "      <td>3019264535</td>\n",
              "    </tr>\n",
              "    <tr>\n",
              "      <th>130513</th>\n",
              "      <td>Estadão</td>\n",
              "      <td>2821184577</td>\n",
              "    </tr>\n",
              "    <tr>\n",
              "      <th>402816</th>\n",
              "      <td>VEJA</td>\n",
              "      <td>2246152190</td>\n",
              "    </tr>\n",
              "    <tr>\n",
              "      <th>326832</th>\n",
              "      <td>Portal R7.com</td>\n",
              "      <td>2161235916</td>\n",
              "    </tr>\n",
              "    <tr>\n",
              "      <th>400361</th>\n",
              "      <td>UOL Notícias</td>\n",
              "      <td>1894098527</td>\n",
              "    </tr>\n",
              "    <tr>\n",
              "      <th>46708</th>\n",
              "      <td>BBC News Brasil</td>\n",
              "      <td>917150525</td>\n",
              "    </tr>\n",
              "    <tr>\n",
              "      <th>468384</th>\n",
              "      <td>exame</td>\n",
              "      <td>892725138</td>\n",
              "    </tr>\n",
              "    <tr>\n",
              "      <th>164159</th>\n",
              "      <td>GloboNews</td>\n",
              "      <td>787834472</td>\n",
              "    </tr>\n",
              "    <tr>\n",
              "      <th>400354</th>\n",
              "      <td>UOL</td>\n",
              "      <td>746057174</td>\n",
              "    </tr>\n",
              "    <tr>\n",
              "      <th>360216</th>\n",
              "      <td>SBT (de 🏠)</td>\n",
              "      <td>565428424</td>\n",
              "    </tr>\n",
              "    <tr>\n",
              "      <th>360746</th>\n",
              "      <td>SIC Notícias</td>\n",
              "      <td>549009017</td>\n",
              "    </tr>\n",
              "    <tr>\n",
              "      <th>388308</th>\n",
              "      <td>Terra</td>\n",
              "      <td>484384596</td>\n",
              "    </tr>\n",
              "    <tr>\n",
              "      <th>304177</th>\n",
              "      <td>O Antagonista</td>\n",
              "      <td>481620515</td>\n",
              "    </tr>\n",
              "    <tr>\n",
              "      <th>331682</th>\n",
              "      <td>Público</td>\n",
              "      <td>455407236</td>\n",
              "    </tr>\n",
              "    <tr>\n",
              "      <th>203007</th>\n",
              "      <td>Jornal Nacional</td>\n",
              "      <td>435115429</td>\n",
              "    </tr>\n",
              "    <tr>\n",
              "      <th>358764</th>\n",
              "      <td>Rádio BandNews FM</td>\n",
              "      <td>399048560</td>\n",
              "    </tr>\n",
              "    <tr>\n",
              "      <th>51975</th>\n",
              "      <td>Bem Estar</td>\n",
              "      <td>383816983</td>\n",
              "    </tr>\n",
              "    <tr>\n",
              "      <th>106370</th>\n",
              "      <td>Diario de Pernambuco</td>\n",
              "      <td>363566879</td>\n",
              "    </tr>\n",
              "  </tbody>\n",
              "</table>\n",
              "</div>"
            ],
            "text/plain": [
              "                     usuario  seguidores\n",
              "152536                    G1  5409345836\n",
              "147289      Folha de S.Paulo  4332229009\n",
              "203032        Jornal O Globo  3019264535\n",
              "130513               Estadão  2821184577\n",
              "402816                  VEJA  2246152190\n",
              "326832         Portal R7.com  2161235916\n",
              "400361          UOL Notícias  1894098527\n",
              "46708        BBC News Brasil   917150525\n",
              "468384                 exame   892725138\n",
              "164159             GloboNews   787834472\n",
              "400354                   UOL   746057174\n",
              "360216            SBT (de 🏠)   565428424\n",
              "360746          SIC Notícias   549009017\n",
              "388308                 Terra   484384596\n",
              "304177         O Antagonista   481620515\n",
              "331682               Público   455407236\n",
              "203007       Jornal Nacional   435115429\n",
              "358764     Rádio BandNews FM   399048560\n",
              "51975              Bem Estar   383816983\n",
              "106370  Diario de Pernambuco   363566879"
            ]
          },
          "metadata": {
            "tags": []
          },
          "execution_count": 35
        }
      ]
    },
    {
      "cell_type": "markdown",
      "metadata": {
        "id": "lWo3wrfor6bU"
      },
      "source": [
        "**Formato gráfico:**"
      ]
    },
    {
      "cell_type": "code",
      "metadata": {
        "id": "hSAK6nu2r-2A",
        "outputId": "22a1ce8d-1206-401b-c805-6222980ef6bb",
        "colab": {
          "base_uri": "https://localhost:8080/"
        }
      },
      "source": [
        "plt.barh(top_20.usuario, top_20.seguidores, color='blue')\n",
        "plt.ylabel('Seguidores')\n",
        "plt.xlabel('Usuário')\n",
        "plt.title('Os 20 maiores seguidores')\n",
        "plt.show()"
      ],
      "execution_count": null,
      "outputs": [
        {
          "output_type": "stream",
          "text": [
            "/usr/local/lib/python3.6/dist-packages/matplotlib/backends/backend_agg.py:214: RuntimeWarning: Glyph 127968 missing from current font.\n",
            "  font.set_text(s, 0.0, flags=flags)\n",
            "/usr/local/lib/python3.6/dist-packages/matplotlib/backends/backend_agg.py:183: RuntimeWarning: Glyph 127968 missing from current font.\n",
            "  font.set_text(s, 0, flags=flags)\n"
          ],
          "name": "stderr"
        },
        {
          "output_type": "display_data",
          "data": {
            "image/png": "[encoded data removed]",
            "text/plain": [
              "<Figure size 720x480 with 1 Axes>"
            ]
          },
          "metadata": {
            "tags": []
          }
        }
      ]
    },
    {
      "cell_type": "markdown",
      "metadata": {
        "id": "G8U-XtLP7dUI"
      },
      "source": [
        "### Sumário para o campo *idioma*"
      ]
    },
    {
      "cell_type": "markdown",
      "metadata": {
        "id": "4xxn-C3r7xkh"
      },
      "source": [
        "**Resumo geral:**\n",
        "\n",
        "\n",
        "\n",
        "> No campo idioma temos 59 registros únicos, onde o maior frequente é \"pt\" com 1586796\n",
        "\n"
      ]
    },
    {
      "cell_type": "code",
      "metadata": {
        "id": "-5TOI56572GZ",
        "outputId": "fb7990b3-1eed-47a7-a66f-0dc31af02a35",
        "colab": {
          "base_uri": "https://localhost:8080/"
        }
      },
      "source": [
        "dataset.idioma.describe()"
      ],
      "execution_count": null,
      "outputs": [
        {
          "output_type": "execute_result",
          "data": {
            "text/plain": [
              "count     1658825\n",
              "unique         59\n",
              "top            pt\n",
              "freq      1586796\n",
              "Name: idioma, dtype: object"
            ]
          },
          "metadata": {
            "tags": []
          },
          "execution_count": 37
        }
      ]
    },
    {
      "cell_type": "markdown",
      "metadata": {
        "id": "9-Alg_Jv8Gjt"
      },
      "source": [
        "\n",
        "\n",
        "> Contagem de registro por pais\n",
        "\n"
      ]
    },
    {
      "cell_type": "code",
      "metadata": {
        "id": "i2kL6-zP7jE3",
        "outputId": "092dac2d-413b-4302-a6b5-772f472a671e",
        "colab": {
          "base_uri": "https://localhost:8080/"
        }
      },
      "source": [
        "dataset.idioma.value_counts()"
      ],
      "execution_count": null,
      "outputs": [
        {
          "output_type": "execute_result",
          "data": {
            "text/plain": [
              "pt     1586796\n",
              "en       23991\n",
              "es       14255\n",
              "it        6480\n",
              "und       5656\n",
              "ar        4579\n",
              "fr        3656\n",
              "ca        2600\n",
              "tr        2296\n",
              "ja        1955\n",
              "in         948\n",
              "th         890\n",
              "tl         604\n",
              "ko         544\n",
              "hi         485\n",
              "ru         417\n",
              "de         361\n",
              "pl         262\n",
              "fa         258\n",
              "nl         208\n",
              "ur         179\n",
              "ht         167\n",
              "et         162\n",
              "eu         116\n",
              "el          94\n",
              "lt          86\n",
              "sv          84\n",
              "cs          72\n",
              "no          56\n",
              "zh          51\n",
              "ro          45\n",
              "da          45\n",
              "fi          44\n",
              "cy          39\n",
              "uk          37\n",
              "iw          36\n",
              "lv          36\n",
              "ta          32\n",
              "hu          26\n",
              "vi          23\n",
              "is          21\n",
              "sr          20\n",
              "sl          18\n",
              "te          17\n",
              "sd          12\n",
              "ne          11\n",
              "bn          10\n",
              "mr          10\n",
              "gu           7\n",
              "ps           6\n",
              "ckb          5\n",
              "bg           4\n",
              "am           4\n",
              "or           2\n",
              "ml           2\n",
              "si           2\n",
              "dv           1\n",
              "kn           1\n",
              "my           1\n",
              "Name: idioma, dtype: int64"
            ]
          },
          "metadata": {
            "tags": []
          },
          "execution_count": 38
        }
      ]
    },
    {
      "cell_type": "markdown",
      "metadata": {
        "id": "u3NUuHK983aP"
      },
      "source": [
        "\n",
        "\n",
        "> Contagem de usuarios por pais\n",
        "\n"
      ]
    },
    {
      "cell_type": "code",
      "metadata": {
        "id": "uzhbpB868m18",
        "outputId": "d8a06459-7baa-4a0e-c48a-f35b79f38e69",
        "colab": {
          "base_uri": "https://localhost:8080/"
        }
      },
      "source": [
        "dataset.groupby('idioma').usuario.count()"
      ],
      "execution_count": null,
      "outputs": [
        {
          "output_type": "execute_result",
          "data": {
            "text/plain": [
              "idioma\n",
              "am           4\n",
              "ar        4578\n",
              "bg           4\n",
              "bn          10\n",
              "ca        2600\n",
              "ckb          5\n",
              "cs          72\n",
              "cy          39\n",
              "da          45\n",
              "de         361\n",
              "dv           1\n",
              "el          94\n",
              "en       23991\n",
              "es       14255\n",
              "et         162\n",
              "eu         116\n",
              "fa         258\n",
              "fi          44\n",
              "fr        3655\n",
              "gu           7\n",
              "hi         485\n",
              "ht         167\n",
              "hu          26\n",
              "in         948\n",
              "is          21\n",
              "it        6480\n",
              "iw          36\n",
              "ja        1955\n",
              "kn           1\n",
              "ko         544\n",
              "lt          86\n",
              "lv          36\n",
              "ml           2\n",
              "mr          10\n",
              "my           1\n",
              "ne          11\n",
              "nl         208\n",
              "no          56\n",
              "or           2\n",
              "pl         262\n",
              "ps           6\n",
              "pt     1586743\n",
              "ro          45\n",
              "ru         417\n",
              "sd          12\n",
              "si           2\n",
              "sl          18\n",
              "sr          20\n",
              "sv          84\n",
              "ta          32\n",
              "te          17\n",
              "th         889\n",
              "tl         604\n",
              "tr        2296\n",
              "uk          37\n",
              "und       5655\n",
              "ur         179\n",
              "vi          23\n",
              "zh          51\n",
              "Name: usuario, dtype: int64"
            ]
          },
          "metadata": {
            "tags": []
          },
          "execution_count": 39
        }
      ]
    },
    {
      "cell_type": "markdown",
      "metadata": {
        "id": "UIrBPW95Ih2U"
      },
      "source": [
        "### Sumário para o campo *lugar*"
      ]
    },
    {
      "cell_type": "markdown",
      "metadata": {
        "id": "EDJpMdvOIm2s"
      },
      "source": [
        "\n",
        "**Resumo geral:**\n",
        "\n",
        "> Possui um total de 74605 registros, 4500 úncios, com maior frequência \"Rio de Janeiro\" com 8443 registros.\n",
        "\n"
      ]
    },
    {
      "cell_type": "code",
      "metadata": {
        "id": "zVsbgd8PIn1o",
        "outputId": "0728cdeb-d66f-4a99-c6a2-8bf0d2d2fbcd",
        "colab": {
          "base_uri": "https://localhost:8080/"
        }
      },
      "source": [
        "dataset.lugar.describe()"
      ],
      "execution_count": null,
      "outputs": [
        {
          "output_type": "execute_result",
          "data": {
            "text/plain": [
              "count              74605\n",
              "unique              4500\n",
              "top       Rio de Janeiro\n",
              "freq                8443\n",
              "Name: lugar, dtype: object"
            ]
          },
          "metadata": {
            "tags": []
          },
          "execution_count": 40
        }
      ]
    },
    {
      "cell_type": "markdown",
      "metadata": {
        "id": "xaPmYkpoJOwA"
      },
      "source": [
        "\n",
        "\n",
        "> Quantidade de valores nulos\n",
        "\n"
      ]
    },
    {
      "cell_type": "code",
      "metadata": {
        "id": "QPtZwsy2JaTN",
        "outputId": "8267f57c-5bdb-46dc-c128-2d82dac1cec2",
        "colab": {
          "base_uri": "https://localhost:8080/"
        }
      },
      "source": [
        "dataset.lugar.isnull().sum()"
      ],
      "execution_count": null,
      "outputs": [
        {
          "output_type": "execute_result",
          "data": {
            "text/plain": [
              "1584220"
            ]
          },
          "metadata": {
            "tags": []
          },
          "execution_count": 41
        }
      ]
    },
    {
      "cell_type": "markdown",
      "metadata": {
        "id": "1Vc6kejSJrP1"
      },
      "source": [
        "\n",
        "\n",
        "> Quantidade usuários por lugarm os 50 maiores registros\n",
        "\n"
      ]
    },
    {
      "cell_type": "code",
      "metadata": {
        "id": "6qpBMCK3J2Zu"
      },
      "source": [
        "lugar_usuario = dataset.groupby('lugar').usuario.count().sort_values(ascending=False).reset_index().rename(columns={'index': 'lugar', 'usuario': 'usuario'})"
      ],
      "execution_count": null,
      "outputs": []
    },
    {
      "cell_type": "code",
      "metadata": {
        "id": "7fnRVwArKSvG",
        "outputId": "fe7bc7ef-1eab-4e84-ec88-45beff9aff11",
        "colab": {
          "base_uri": "https://localhost:8080/"
        }
      },
      "source": [
        "lugar_usuario[:10]"
      ],
      "execution_count": null,
      "outputs": [
        {
          "output_type": "execute_result",
          "data": {
            "text/html": [
              "<div>\n",
              "<style scoped>\n",
              "    .dataframe tbody tr th:only-of-type {\n",
              "        vertical-align: middle;\n",
              "    }\n",
              "\n",
              "    .dataframe tbody tr th {\n",
              "        vertical-align: top;\n",
              "    }\n",
              "\n",
              "    .dataframe thead th {\n",
              "        text-align: right;\n",
              "    }\n",
              "</style>\n",
              "<table border=\"1\" class=\"dataframe\">\n",
              "  <thead>\n",
              "    <tr style=\"text-align: right;\">\n",
              "      <th></th>\n",
              "      <th>lugar</th>\n",
              "      <th>usuario</th>\n",
              "    </tr>\n",
              "  </thead>\n",
              "  <tbody>\n",
              "    <tr>\n",
              "      <th>0</th>\n",
              "      <td>Rio de Janeiro</td>\n",
              "      <td>8443</td>\n",
              "    </tr>\n",
              "    <tr>\n",
              "      <th>1</th>\n",
              "      <td>Sao Paulo</td>\n",
              "      <td>7469</td>\n",
              "    </tr>\n",
              "    <tr>\n",
              "      <th>2</th>\n",
              "      <td>Brasília</td>\n",
              "      <td>2822</td>\n",
              "    </tr>\n",
              "    <tr>\n",
              "      <th>3</th>\n",
              "      <td>Porto Alegre</td>\n",
              "      <td>1866</td>\n",
              "    </tr>\n",
              "    <tr>\n",
              "      <th>4</th>\n",
              "      <td>Belo Horizonte</td>\n",
              "      <td>1764</td>\n",
              "    </tr>\n",
              "    <tr>\n",
              "      <th>5</th>\n",
              "      <td>Curitiba</td>\n",
              "      <td>1418</td>\n",
              "    </tr>\n",
              "    <tr>\n",
              "      <th>6</th>\n",
              "      <td>Recife</td>\n",
              "      <td>1361</td>\n",
              "    </tr>\n",
              "    <tr>\n",
              "      <th>7</th>\n",
              "      <td>Fortaleza</td>\n",
              "      <td>1282</td>\n",
              "    </tr>\n",
              "    <tr>\n",
              "      <th>8</th>\n",
              "      <td>Belém</td>\n",
              "      <td>1246</td>\n",
              "    </tr>\n",
              "    <tr>\n",
              "      <th>9</th>\n",
              "      <td>Salvador</td>\n",
              "      <td>1201</td>\n",
              "    </tr>\n",
              "  </tbody>\n",
              "</table>\n",
              "</div>"
            ],
            "text/plain": [
              "            lugar  usuario\n",
              "0  Rio de Janeiro     8443\n",
              "1       Sao Paulo     7469\n",
              "2        Brasília     2822\n",
              "3    Porto Alegre     1866\n",
              "4  Belo Horizonte     1764\n",
              "5        Curitiba     1418\n",
              "6          Recife     1361\n",
              "7       Fortaleza     1282\n",
              "8           Belém     1246\n",
              "9        Salvador     1201"
            ]
          },
          "metadata": {
            "tags": []
          },
          "execution_count": 43
        }
      ]
    },
    {
      "cell_type": "markdown",
      "metadata": {
        "id": "QTFl0HvbccEz"
      },
      "source": [
        "\n",
        "\n",
        "> Soma de retweets por lugares\n",
        "\n"
      ]
    },
    {
      "cell_type": "code",
      "metadata": {
        "id": "gwZFik6AMMd-"
      },
      "source": [
        "lugar_retweet = dataset.groupby('lugar').retweet.sum().sort_values(ascending=False).reset_index().rename(columns={'index': 'lugar', 'retweet': 'retweet'})"
      ],
      "execution_count": null,
      "outputs": []
    },
    {
      "cell_type": "markdown",
      "metadata": {
        "id": "dOg6uqnmcwn-"
      },
      "source": [
        "**Representação em tabela dos 15 primeiros registros:**"
      ]
    },
    {
      "cell_type": "code",
      "metadata": {
        "id": "t286dOD8c1HT",
        "outputId": "fc0d8f35-eb36-417f-d0bc-7008610cbb05",
        "colab": {
          "base_uri": "https://localhost:8080/"
        }
      },
      "source": [
        "lugar_retweet[:15]"
      ],
      "execution_count": null,
      "outputs": [
        {
          "output_type": "execute_result",
          "data": {
            "text/html": [
              "<div>\n",
              "<style scoped>\n",
              "    .dataframe tbody tr th:only-of-type {\n",
              "        vertical-align: middle;\n",
              "    }\n",
              "\n",
              "    .dataframe tbody tr th {\n",
              "        vertical-align: top;\n",
              "    }\n",
              "\n",
              "    .dataframe thead th {\n",
              "        text-align: right;\n",
              "    }\n",
              "</style>\n",
              "<table border=\"1\" class=\"dataframe\">\n",
              "  <thead>\n",
              "    <tr style=\"text-align: right;\">\n",
              "      <th></th>\n",
              "      <th>lugar</th>\n",
              "      <th>retweet</th>\n",
              "    </tr>\n",
              "  </thead>\n",
              "  <tbody>\n",
              "    <tr>\n",
              "      <th>0</th>\n",
              "      <td>Rio de Janeiro</td>\n",
              "      <td>58043</td>\n",
              "    </tr>\n",
              "    <tr>\n",
              "      <th>1</th>\n",
              "      <td>Brasília</td>\n",
              "      <td>51200</td>\n",
              "    </tr>\n",
              "    <tr>\n",
              "      <th>2</th>\n",
              "      <td>Sao Paulo</td>\n",
              "      <td>27304</td>\n",
              "    </tr>\n",
              "    <tr>\n",
              "      <th>3</th>\n",
              "      <td>Porto Alegre</td>\n",
              "      <td>14676</td>\n",
              "    </tr>\n",
              "    <tr>\n",
              "      <th>4</th>\n",
              "      <td>Mata de São João</td>\n",
              "      <td>8912</td>\n",
              "    </tr>\n",
              "    <tr>\n",
              "      <th>5</th>\n",
              "      <td>Vila Nova de Gaia</td>\n",
              "      <td>6076</td>\n",
              "    </tr>\n",
              "    <tr>\n",
              "      <th>6</th>\n",
              "      <td>Lisbon</td>\n",
              "      <td>4208</td>\n",
              "    </tr>\n",
              "    <tr>\n",
              "      <th>7</th>\n",
              "      <td>Recife</td>\n",
              "      <td>4185</td>\n",
              "    </tr>\n",
              "    <tr>\n",
              "      <th>8</th>\n",
              "      <td>Goiânia</td>\n",
              "      <td>3999</td>\n",
              "    </tr>\n",
              "    <tr>\n",
              "      <th>9</th>\n",
              "      <td>Canoas</td>\n",
              "      <td>3049</td>\n",
              "    </tr>\n",
              "    <tr>\n",
              "      <th>10</th>\n",
              "      <td>Uberlândia</td>\n",
              "      <td>3049</td>\n",
              "    </tr>\n",
              "    <tr>\n",
              "      <th>11</th>\n",
              "      <td>Manaus</td>\n",
              "      <td>2633</td>\n",
              "    </tr>\n",
              "    <tr>\n",
              "      <th>12</th>\n",
              "      <td>Paris</td>\n",
              "      <td>2482</td>\n",
              "    </tr>\n",
              "    <tr>\n",
              "      <th>13</th>\n",
              "      <td>Santarém</td>\n",
              "      <td>2253</td>\n",
              "    </tr>\n",
              "    <tr>\n",
              "      <th>14</th>\n",
              "      <td>Belém</td>\n",
              "      <td>2194</td>\n",
              "    </tr>\n",
              "  </tbody>\n",
              "</table>\n",
              "</div>"
            ],
            "text/plain": [
              "                lugar  retweet\n",
              "0      Rio de Janeiro    58043\n",
              "1            Brasília    51200\n",
              "2           Sao Paulo    27304\n",
              "3        Porto Alegre    14676\n",
              "4    Mata de São João     8912\n",
              "5   Vila Nova de Gaia     6076\n",
              "6              Lisbon     4208\n",
              "7              Recife     4185\n",
              "8             Goiânia     3999\n",
              "9              Canoas     3049\n",
              "10         Uberlândia     3049\n",
              "11             Manaus     2633\n",
              "12              Paris     2482\n",
              "13           Santarém     2253\n",
              "14              Belém     2194"
            ]
          },
          "metadata": {
            "tags": []
          },
          "execution_count": 45
        }
      ]
    },
    {
      "cell_type": "markdown",
      "metadata": {
        "id": "YNRdt-lOdBdD"
      },
      "source": [
        "**Representação em gráfico de pizza dos 5 primeiros registros:**"
      ]
    },
    {
      "cell_type": "code",
      "metadata": {
        "id": "vFffWG6KRPXY",
        "outputId": "b704a774-0bfd-4d5d-eaf3-045b78d0196b",
        "colab": {
          "base_uri": "https://localhost:8080/"
        }
      },
      "source": [
        "lugar_retweet = lugar_retweet[:5]\n",
        "plt.figure(figsize=(15,10))\n",
        "ax1 = plt.subplot(121, aspect='equal')\n",
        "lugar_retweet.plot(kind='pie', y = 'retweet', ax=ax1, autopct='%1.1f%%', \n",
        " startangle=90, shadow=False, labels=lugar_retweet['lugar'], legend = False, fontsize=10)\n",
        "\n",
        "ax1.set_title('Os 5 principais lugares com maiores retweets')\n",
        "plt.show()"
      ],
      "execution_count": null,
      "outputs": [
        {
          "output_type": "display_data",
          "data": {
            "image/png": "[encoded data removed]",
            "text/plain": [
              "<Figure size 1800x1200 with 1 Axes>"
            ]
          },
          "metadata": {
            "tags": []
          }
        }
      ]
    },
    {
      "cell_type": "markdown",
      "metadata": {
        "id": "YFmDcqqrTr1v"
      },
      "source": [
        "### Sumário para o campo *pais*"
      ]
    },
    {
      "cell_type": "markdown",
      "metadata": {
        "id": "4MWfEepLT3wA"
      },
      "source": [
        "**Resumo geral:**\n",
        "> Possui 1.658.825 campos, onde 121 são únicos e 1.584.225 estão nulos.\n",
        "\n",
        "> País com maior frequência 'Brazil',  aparece 67.247 vezes."
      ]
    },
    {
      "cell_type": "code",
      "metadata": {
        "id": "gENVAA2OT417",
        "outputId": "f520ec92-eda0-440e-af43-1ce201cef6b1",
        "colab": {
          "base_uri": "https://localhost:8080/"
        }
      },
      "source": [
        "dataset.pais.describe()"
      ],
      "execution_count": null,
      "outputs": [
        {
          "output_type": "execute_result",
          "data": {
            "text/plain": [
              "count      74600\n",
              "unique       121\n",
              "top       Brazil\n",
              "freq       67247\n",
              "Name: pais, dtype: object"
            ]
          },
          "metadata": {
            "tags": []
          },
          "execution_count": 47
        }
      ]
    },
    {
      "cell_type": "code",
      "metadata": {
        "id": "65PMWRFSUDTM",
        "outputId": "7724eb12-3dd5-415b-9811-a8d90b8959ee",
        "colab": {
          "base_uri": "https://localhost:8080/"
        }
      },
      "source": [
        "pais_total = len(dataset.pais)\n",
        "pais_unicos = dataset.pais.nunique()\n",
        "pais_null = dataset.pais.isnull().sum()\n",
        "pais_duplicados = pais_total - pais_unicos - pais_null\n",
        "pais_preenchido = pais_duplicados + pais_unicos\n",
        "pais_df = pd.DataFrame({\n",
        "                  'pais': ['únicos', 'duplicados', 'vazio', 'preenchidos'] ,\n",
        "                   'Contagem' : [pais_unicos, pais_duplicados, pais_null, pais_preenchido],\n",
        "                   'Porcentagem' : [(pais_unicos/pais_total)*100, (pais_duplicados/pais_total)*100, (pais_null/pais_total)*100, (pais_preenchido/pais_total)*100]})\n",
        "pais_df"
      ],
      "execution_count": null,
      "outputs": [
        {
          "output_type": "execute_result",
          "data": {
            "text/html": [
              "<div>\n",
              "<style scoped>\n",
              "    .dataframe tbody tr th:only-of-type {\n",
              "        vertical-align: middle;\n",
              "    }\n",
              "\n",
              "    .dataframe tbody tr th {\n",
              "        vertical-align: top;\n",
              "    }\n",
              "\n",
              "    .dataframe thead th {\n",
              "        text-align: right;\n",
              "    }\n",
              "</style>\n",
              "<table border=\"1\" class=\"dataframe\">\n",
              "  <thead>\n",
              "    <tr style=\"text-align: right;\">\n",
              "      <th></th>\n",
              "      <th>pais</th>\n",
              "      <th>Contagem</th>\n",
              "      <th>Porcentagem</th>\n",
              "    </tr>\n",
              "  </thead>\n",
              "  <tbody>\n",
              "    <tr>\n",
              "      <th>0</th>\n",
              "      <td>únicos</td>\n",
              "      <td>121</td>\n",
              "      <td>0.007294</td>\n",
              "    </tr>\n",
              "    <tr>\n",
              "      <th>1</th>\n",
              "      <td>duplicados</td>\n",
              "      <td>74479</td>\n",
              "      <td>4.489865</td>\n",
              "    </tr>\n",
              "    <tr>\n",
              "      <th>2</th>\n",
              "      <td>vazio</td>\n",
              "      <td>1584225</td>\n",
              "      <td>95.502841</td>\n",
              "    </tr>\n",
              "    <tr>\n",
              "      <th>3</th>\n",
              "      <td>preenchidos</td>\n",
              "      <td>74600</td>\n",
              "      <td>4.497159</td>\n",
              "    </tr>\n",
              "  </tbody>\n",
              "</table>\n",
              "</div>"
            ],
            "text/plain": [
              "          pais  Contagem  Porcentagem\n",
              "0       únicos       121     0.007294\n",
              "1   duplicados     74479     4.489865\n",
              "2        vazio   1584225    95.502841\n",
              "3  preenchidos     74600     4.497159"
            ]
          },
          "metadata": {
            "tags": []
          },
          "execution_count": 48
        }
      ]
    },
    {
      "cell_type": "markdown",
      "metadata": {
        "id": "K0Zx-U0GL_RO"
      },
      "source": [
        "### Sumário para o campo *sigla*"
      ]
    },
    {
      "cell_type": "markdown",
      "metadata": {
        "id": "3TVSUHwkMGAL"
      },
      "source": [
        "**Resumo geral:**\n",
        "> Possui 1.658.825 campos, onde 120 são únicos e 1.584.230 estão nulos.\n",
        "\n",
        "> Sigla com maior frequência 'BR',  aparece 67.247 vezes."
      ]
    },
    {
      "cell_type": "code",
      "metadata": {
        "id": "yoF4AI32MOk6",
        "outputId": "ddbb2a49-48b6-42ca-b06c-93fa6b6c237d",
        "colab": {
          "base_uri": "https://localhost:8080/"
        }
      },
      "source": [
        "dataset.sigla.describe()"
      ],
      "execution_count": null,
      "outputs": [
        {
          "output_type": "execute_result",
          "data": {
            "text/plain": [
              "count     74595\n",
              "unique      120\n",
              "top          BR\n",
              "freq      67247\n",
              "Name: sigla, dtype: object"
            ]
          },
          "metadata": {
            "tags": []
          },
          "execution_count": 49
        }
      ]
    },
    {
      "cell_type": "code",
      "metadata": {
        "id": "OoQej0ypMNjG",
        "outputId": "ac204d24-8c89-491d-bdf4-1389490b1e16",
        "colab": {
          "base_uri": "https://localhost:8080/"
        }
      },
      "source": [
        "sigla_total = len(dataset.sigla)\n",
        "sigla_unicos = dataset.sigla.nunique()\n",
        "sigla_null = dataset.sigla.isnull().sum()\n",
        "sigla_duplicados = sigla_total - sigla_unicos - sigla_null\n",
        "sigla_preenchido = sigla_duplicados + sigla_unicos\n",
        "sigla_df = pd.DataFrame({\n",
        "                  'sigla': ['únicos', 'duplicados', 'vazio', 'preenchidos'] ,\n",
        "                   'Contagem' : [sigla_unicos, sigla_duplicados, sigla_null, sigla_preenchido],\n",
        "                   'Porcentagem' : [(sigla_unicos/sigla_total)*100, (sigla_duplicados/sigla_total)*100, (sigla_null/sigla_total)*100, (sigla_preenchido/sigla_total)*100]})\n",
        "sigla_df"
      ],
      "execution_count": null,
      "outputs": [
        {
          "output_type": "execute_result",
          "data": {
            "text/html": [
              "<div>\n",
              "<style scoped>\n",
              "    .dataframe tbody tr th:only-of-type {\n",
              "        vertical-align: middle;\n",
              "    }\n",
              "\n",
              "    .dataframe tbody tr th {\n",
              "        vertical-align: top;\n",
              "    }\n",
              "\n",
              "    .dataframe thead th {\n",
              "        text-align: right;\n",
              "    }\n",
              "</style>\n",
              "<table border=\"1\" class=\"dataframe\">\n",
              "  <thead>\n",
              "    <tr style=\"text-align: right;\">\n",
              "      <th></th>\n",
              "      <th>sigla</th>\n",
              "      <th>Contagem</th>\n",
              "      <th>Porcentagem</th>\n",
              "    </tr>\n",
              "  </thead>\n",
              "  <tbody>\n",
              "    <tr>\n",
              "      <th>0</th>\n",
              "      <td>únicos</td>\n",
              "      <td>120</td>\n",
              "      <td>0.007234</td>\n",
              "    </tr>\n",
              "    <tr>\n",
              "      <th>1</th>\n",
              "      <td>duplicados</td>\n",
              "      <td>74475</td>\n",
              "      <td>4.489624</td>\n",
              "    </tr>\n",
              "    <tr>\n",
              "      <th>2</th>\n",
              "      <td>vazio</td>\n",
              "      <td>1584230</td>\n",
              "      <td>95.503142</td>\n",
              "    </tr>\n",
              "    <tr>\n",
              "      <th>3</th>\n",
              "      <td>preenchidos</td>\n",
              "      <td>74595</td>\n",
              "      <td>4.496858</td>\n",
              "    </tr>\n",
              "  </tbody>\n",
              "</table>\n",
              "</div>"
            ],
            "text/plain": [
              "         sigla  Contagem  Porcentagem\n",
              "0       únicos       120     0.007234\n",
              "1   duplicados     74475     4.489624\n",
              "2        vazio   1584230    95.503142\n",
              "3  preenchidos     74595     4.496858"
            ]
          },
          "metadata": {
            "tags": []
          },
          "execution_count": 50
        }
      ]
    },
    {
      "cell_type": "markdown",
      "metadata": {
        "id": "8sYs2tm1qek0"
      },
      "source": [
        "### Sumário para os campos *latitude* e *longitude*"
      ]
    },
    {
      "cell_type": "markdown",
      "metadata": {
        "id": "lRRD5JmyMIFA"
      },
      "source": [
        "**Resumo geral campo latitude:**"
      ]
    },
    {
      "cell_type": "code",
      "metadata": {
        "id": "2DaWin20L_0C",
        "outputId": "f88d860e-8f9e-44d6-faab-c0d9bb925678",
        "colab": {
          "base_uri": "https://localhost:8080/"
        }
      },
      "source": [
        "dataset.latitude.describe()"
      ],
      "execution_count": null,
      "outputs": [
        {
          "output_type": "execute_result",
          "data": {
            "text/plain": [
              "count    8720.000000\n",
              "mean      -40.237583\n",
              "std        20.808494\n",
              "min      -123.120400\n",
              "25%       -47.864334\n",
              "50%       -43.955615\n",
              "75%       -38.453198\n",
              "max       174.789310\n",
              "Name: latitude, dtype: float64"
            ]
          },
          "metadata": {
            "tags": []
          },
          "execution_count": 51
        }
      ]
    },
    {
      "cell_type": "markdown",
      "metadata": {
        "id": "fOFBkSTpMNGP"
      },
      "source": [
        "**Resumo geral lagitude:**"
      ]
    },
    {
      "cell_type": "code",
      "metadata": {
        "id": "sI3WoLssMQv2",
        "outputId": "0dd36795-ddd5-4405-8316-8c42dcfee33f",
        "colab": {
          "base_uri": "https://localhost:8080/"
        }
      },
      "source": [
        "dataset.longitude.describe()"
      ],
      "execution_count": null,
      "outputs": [
        {
          "output_type": "execute_result",
          "data": {
            "text/plain": [
              "count    8720.000000\n",
              "mean      -11.117100\n",
              "std        19.169105\n",
              "min       -37.818769\n",
              "25%       -23.305300\n",
              "50%       -19.624400\n",
              "75%        -7.120700\n",
              "max        58.257776\n",
              "Name: longitude, dtype: float64"
            ]
          },
          "metadata": {
            "tags": []
          },
          "execution_count": 52
        }
      ]
    },
    {
      "cell_type": "markdown",
      "metadata": {
        "id": "ezyxIQL2L0S3"
      },
      "source": [
        "Mapa com apresentação dos lugares dos tweets dos usuarios"
      ]
    },
    {
      "cell_type": "code",
      "metadata": {
        "id": "vszG5czwqw-a",
        "outputId": "52ffa650-df69-4ea7-bf20-9bfdd429ab6c",
        "colab": {
          "base_uri": "https://localhost:8080/"
        }
      },
      "source": [
        "geometry = [Point(xy) for xy in zip(dataset['latitude'], dataset['longitude'])]\n",
        "gdf = GeoDataFrame(dataset, geometry=geometry)   \n",
        "\n",
        "world = gpd.read_file(gpd.datasets.get_path('naturalearth_lowres'))\n",
        "gdf.plot(ax=world.plot(figsize=(10, 6)), marker='o', color='red', markersize=15);\n"
      ],
      "execution_count": null,
      "outputs": [
        {
          "output_type": "display_data",
          "data": {
            "image/png": "[encoded data removed]",
            "text/plain": [
              "<Figure size 1200x720 with 1 Axes>"
            ]
          },
          "metadata": {
            "tags": []
          }
        }
      ]
    },
    {
      "cell_type": "markdown",
      "metadata": {
        "id": "wLxEQ5marPJF"
      },
      "source": [
        "### Sumario para o campo *hashtags*"
      ]
    },
    {
      "cell_type": "markdown",
      "metadata": {
        "id": "sSh-sR6Kv6U9"
      },
      "source": [
        "**Resumo geral:**\n",
        "\n",
        "> Este campo possui 63838 campos únicos, a informação mais frenquente é o \"[ ]\"\n",
        "\n"
      ]
    },
    {
      "cell_type": "code",
      "metadata": {
        "id": "RXvNrCedwFQT",
        "outputId": "cb8b0b0e-f2c6-4b96-c9ed-336f8aea61cd",
        "colab": {
          "base_uri": "https://localhost:8080/",
          "height": 104
        }
      },
      "source": [
        "dataset.hashtags.describe()"
      ],
      "execution_count": null,
      "outputs": [
        {
          "output_type": "execute_result",
          "data": {
            "text/plain": [
              "count     1658825\n",
              "unique      63838\n",
              "top            []\n",
              "freq      1495569\n",
              "Name: hashtags, dtype: object"
            ]
          },
          "metadata": {
            "tags": []
          },
          "execution_count": 54
        }
      ]
    },
    {
      "cell_type": "markdown",
      "metadata": {
        "id": "ASDkYo1h56a8"
      },
      "source": [
        "**Hashtags em destaque:**\n",
        "\n",
        "\n",
        "\n",
        "> Segue abaixo as 10 hashtags mais usadas:\n",
        "\n"
      ]
    },
    {
      "cell_type": "code",
      "metadata": {
        "id": "MN8FhrclzevY",
        "outputId": "b2b7e0be-ad14-46e4-b146-838466576e15",
        "colab": {
          "base_uri": "https://localhost:8080/",
          "height": 208
        }
      },
      "source": [
        "dataset.hashtags.value_counts()[:10]"
      ],
      "execution_count": null,
      "outputs": [
        {
          "output_type": "execute_result",
          "data": {
            "text/plain": [
              "[]                 1495569\n",
              "['COVID19']           9951\n",
              "['coronavirus']       6658\n",
              "['Coronavirus']       3294\n",
              "['coronavírus']       2890\n",
              "['Covid_19']          2485\n",
              "['covid19']           2403\n",
              "['Covid19']           2367\n",
              "['Coronavírus']       1566\n",
              "['Repost']             831\n",
              "Name: hashtags, dtype: int64"
            ]
          },
          "metadata": {
            "tags": []
          },
          "execution_count": 55
        }
      ]
    },
    {
      "cell_type": "markdown",
      "metadata": {
        "id": "AcxhIIQr3xRn"
      },
      "source": [
        "\n",
        "\n",
        "> Uma apresentação das hashtags mais frequentes acima e menos frequentes abaixo.\n",
        "\n"
      ]
    },
    {
      "cell_type": "code",
      "metadata": {
        "id": "a8vkNIV7xs-h",
        "outputId": "eb106112-b7be-483a-c9b7-85a273c137fb",
        "colab": {
          "base_uri": "https://localhost:8080/",
          "height": 225
        }
      },
      "source": [
        "dataset.hashtags.value_counts()"
      ],
      "execution_count": null,
      "outputs": [
        {
          "output_type": "execute_result",
          "data": {
            "text/plain": [
              "[]                                                                             1495569\n",
              "['COVID19']                                                                       9951\n",
              "['coronavirus']                                                                   6658\n",
              "['Coronavirus']                                                                   3294\n",
              "['coronavírus']                                                                   2890\n",
              "                                                                                ...   \n",
              "['guerreiros']                                                                       1\n",
              "['EuQueLute']                                                                        1\n",
              "['innerbeauty', 'LifeLesson', 'inspiringquote', 'GoldenHearts', 'JoyTrain']          1\n",
              "['ResenhaAlternativa']                                                               1\n",
              "['CamõesIP', 'Cooperação']                                                           1\n",
              "Name: hashtags, Length: 63838, dtype: int64"
            ]
          },
          "metadata": {
            "tags": []
          },
          "execution_count": 56
        }
      ]
    },
    {
      "cell_type": "markdown",
      "metadata": {
        "id": "bHgFMh5qOMGq"
      },
      "source": [
        "## Aplicando tratamento ao *dataset*"
      ]
    },
    {
      "cell_type": "code",
      "metadata": {
        "id": "P2JEzfOJ5eWW"
      },
      "source": [
        "# Trocando o nome  das colunas apelido e usuario\n",
        "dataset_com_tratamento = dataset.rename(columns={\"apelido\": \"usuario\", \"usuario\" : \"apelido\"})\n",
        "\n",
        "# Removendo linhas duplicadas\n",
        "dataset_com_tratamento = dataset_com_tratamento[dataset_com_tratamento.duplicated() == False]\n",
        "\n",
        "# Seleciona apenas tweets com o idioma em portugues\n",
        "dataset_com_tratamento = dataset_com_tratamento[dataset_com_tratamento.idioma == 'pt']\n",
        "\n",
        "# Remove as colunas que nao sao uteis\n",
        "dataset_com_tratamento = dataset_com_tratamento.drop(columns=['apelido', 'usuario', 'retweet', 'seguidores', 'idioma', 'pais', 'sigla', 'hashtags'])\n",
        "\n",
        "# Reseta os indices\n",
        "dataset_com_tratamento = dataset_com_tratamento.reset_index(drop=True)"
      ],
      "execution_count": 6,
      "outputs": []
    },
    {
      "cell_type": "markdown",
      "metadata": {
        "id": "TI5TF5Rzd8Rt"
      },
      "source": [
        "# Modelagem"
      ]
    },
    {
      "cell_type": "markdown",
      "metadata": {
        "id": "_TZuMf1a5hWW"
      },
      "source": [
        "## Criando o *dataset* DuvidasDB"
      ]
    },
    {
      "cell_type": "code",
      "metadata": {
        "id": "uT1phCkzBOpb"
      },
      "source": [
        "all_stopwords = list()\n",
        "with open(\"/content/drive/My Drive/trabalho-pratico/custom_portuguese.txt\", \"r\") as a_file:\n",
        "  for line in a_file:\n",
        "    stripped_line = line.strip()\n",
        "    all_stopwords.append(stripped_line)"
      ],
      "execution_count": 7,
      "outputs": []
    },
    {
      "cell_type": "code",
      "metadata": {
        "id": "cHDFLj-lcU_7",
        "outputId": "a457a8b6-c3a1-481c-d6e7-4c2f5a7deffc",
        "colab": {
          "base_uri": "https://localhost:8080/",
          "height": 34
        }
      },
      "source": [
        "datasetFileName = 'DuvidasDB.csv'\n",
        "dirName = 'trabalho-pratico'\n",
        "\n",
        "if True == os.path.isfile('/content/drive/My Drive/' + dirName + '/' + datasetFileName):\n",
        "  DuvidasDB = pd.read_csv('/content/drive/My Drive/' + dirName + '/' + datasetFileName)\n",
        "  print('Dataset DuvidasDB carregado apartir do drive')\n",
        "else:\n",
        "  DuvidasDB = pd.DataFrame(data={\"data\" : [np.nan],\"lugar\" : [np.nan], \"latitude\" : [np.nan], \"longitude\" : [np.nan], \"texto\": [np.nan]})\n",
        "  z = 0\n",
        "  for i in range(0, len(dataset_com_tratamento)):\n",
        "    sentencas = re.sub(r'http\\S+', '',dataset_com_tratamento['texto'][i] ) # remove links\n",
        "    sentencas = nltk.sent_tokenize(sentencas) # quebra o texto em sentencas\n",
        "    for pergunta in sentencas:\n",
        "      if r'?'in pergunta: # adiciona somente se tiver o caractere '?'\n",
        "        pergunta = re.sub(\"[^a-zA-Z\\?]\", ' ', unidecode.unidecode(pergunta)) # remove acentuacao e pontuacao # verifica se a string nao ficou vazia\n",
        "        if re.search('[a-zA-Z]+',pergunta): # verifica se a string restante nao ficou vazia\n",
        "          pergunta = pergunta.lower()\n",
        "          pergunta = pergunta.split()\n",
        "          pergunta = [word for word in pergunta if not word in set(all_stopwords)] # remove stopwords\n",
        "          pergunta = ' '.join(pergunta)\n",
        "          DuvidasDB.loc[z] = dataset_com_tratamento.iloc[i,:-1]\n",
        "          DuvidasDB.iloc[z,-1] = pergunta\n",
        "          z = z + 1\n",
        "  DuvidasDB['tema'] = np.nan\n",
        "  DuvidasDB.to_csv('/content/drive/My Drive/trabalho-pratico/DuvidasDB.csv', sep=',',index=False)"
      ],
      "execution_count": 8,
      "outputs": [
        {
          "output_type": "stream",
          "text": [
            "Dataset DuvidasDB carregado apartir do drive\n"
          ],
          "name": "stdout"
        }
      ]
    },
    {
      "cell_type": "markdown",
      "metadata": {
        "id": "e7dLY8dP9jWa"
      },
      "source": [
        "## Classificando os textos do *dataset* DuvidasDB"
      ]
    },
    {
      "cell_type": "code",
      "metadata": {
        "id": "yum02GoKnuuz"
      },
      "source": [
        "#Lista palavras chaves\n",
        "\n",
        "doenca = [\"virus\",\"Sars-CoV-2\",\"coronavirus\",\"corona\",\"Covid\",\"coronga\",\"Covid-19\",\"gripe\",\"gripezinha\",\"pneumonia\",\"dor no peito\",\"cansaço\",\"falta de ar\",\"febre\",\"coriza\",\"febre alta\",\"sem olfato\",\"sem paladar\",\"sem olfato e paladar\",\"dificuldade de respirar\", \"pandemia\", \"espirro\", \"tosse\",\"pneumonia viral\",\"assintomático\", \"dor garganta\",\"grupo de risco\",\"aglomeração\",\"infecção respiratória\",\"sintomática\",\"dificultade de respirar\"]\n",
        "\n",
        "medicamentos = [\"cloroquina\",\"hidroxicloroquina\",\"cha de boldo\",\"cha de alho\",\"sabao\",\"vitamina\",\"cha de jambu\",\"cha de limao\",\"anticoagulação\",\"vitamina C\",\"vitaminca D\",\"azitromicina\",\"corticoides\",\"remdesivir\",\"vacina\",\"ivermectina\",\"anticoagulação\",\"inalação\",\"UTI\",\"isolamamento\",\"dexametasona\",\"prednisona\",\"ibuprofeno\",\"mascara\",\"distanciamento social\",\"EPI\",\"quarentena\",\"Respirador\", \"Lockdown\",\"alcool em gel\",\"nitazoxanida\",\"lavar as maos\",\"decreto\",\"período de incubação\"]\n",
        "\n",
        "organizacoes = [\"OPAS\",\"FVS\",\"Fundação de Vigilancia em Saude\",\"SUS\",\"OMS\",\"Organização Mundial da Saude\",\"STF\",\"Supremo Tribunal Federal\", \"Ministério da Saúde\",\"Governo\",\"Jornal Nacional\",\"Globo\",\"TV Globo\",\"Folha de S.Paulo\",\"SBI\",\"Sociedade Brasileira de Infectologia\",\"AMIB\",\"Associação de Medicina Intensiva Brasileira\", \"SBPT\",\"Sociedade Brasileira de Pneumologia e Tisiologia\",\"Ministro da Saude\", \"Governo Federal\",\"Oxford\",\"CRM\",\"Conselho Regional de Medicina\",\"CNS\",\"Conselho Nacional de Saude\"]\n",
        "\n",
        "pessoas = [\"Trump\", \"Donald Trump\",\"Bolsonaro\", \"Guedes\",\"Flavio Bolsonaro\",\"Varella\",\"Mandetta\",\"Nelson Teich\",\"Wilson Witzel\",\"Ghebreyesus\",\"Alberto Fernández\",\"Katrín Jakobsdóttir\",\"Xi Jinping\",\"Presidente\"]"
      ],
      "execution_count": 9,
      "outputs": []
    },
    {
      "cell_type": "code",
      "metadata": {
        "id": "X-bbZZFJheed"
      },
      "source": [
        "# Remove acentos, pontuacao, stopwrods e deixa tudo minusculo\n",
        "for i in range(0, len(doenca)):\n",
        "  doenca[i] = re.sub(\"[^a-zA-Z]\", ' ', unidecode.unidecode(doenca[i]))\n",
        "  doenca[i] = doenca[i].lower()\n",
        "  doenca[i] = doenca[i].split()\n",
        "  doenca[i] = [word for word in doenca[i] if not word in set(all_stopwords)]\n",
        "  doenca[i] = ' '.join(doenca[i])\n",
        "\n",
        "for i in range(0, len(medicamentos)):\n",
        "  medicamentos[i] = re.sub(\"[^a-zA-Z]\", ' ', unidecode.unidecode(medicamentos[i]))\n",
        "  medicamentos[i] = medicamentos[i].lower()\n",
        "  medicamentos[i] = medicamentos[i].split()\n",
        "  medicamentos[i] = [word for word in medicamentos[i] if not word in set(all_stopwords)]\n",
        "  medicamentos[i] = ' '.join(medicamentos[i])\n",
        "\n",
        "for i in range(0, len(organizacoes)):\n",
        "  organizacoes[i] = re.sub(\"[^a-zA-Z]\", ' ', unidecode.unidecode(organizacoes[i]))\n",
        "  organizacoes[i] = organizacoes[i].lower()\n",
        "  organizacoes[i] = organizacoes[i].split()\n",
        "  organizacoes[i] = [word for word in organizacoes[i] if not word in set(all_stopwords)]\n",
        "  organizacoes[i] = ' '.join(organizacoes[i])\n",
        "\n",
        "for i in range(0, len(pessoas)):\n",
        "  pessoas[i] = re.sub(\"[^a-zA-Z]\", ' ', unidecode.unidecode(pessoas[i])) # remove acentuacao e pontuacao\n",
        "  pessoas[i] = pessoas[i].lower()\n",
        "  pessoas[i] = pessoas[i].split()\n",
        "  pessoas[i] = [word for word in pessoas[i] if not word in set(all_stopwords)] # remove stopwords\n",
        "  pessoas[i] = ' '.join(pessoas[i])"
      ],
      "execution_count": 10,
      "outputs": []
    },
    {
      "cell_type": "code",
      "metadata": {
        "id": "bdat6fRtAfpa",
        "outputId": "f27290c7-49d8-4a76-964c-324a87df93da",
        "colab": {
          "base_uri": "https://localhost:8080/",
          "height": 223
        }
      },
      "source": [
        "if DuvidasDB.tema.isnull().any() == False:\n",
        "  print('Dataset DuvidasDB ja foi classificado')\n",
        "else:\n",
        "  compile_doenca = re.compile('|'.join(doenca))\n",
        "  compile_organizacoes = re.compile('|'.join(organizacoes))\n",
        "  compile_pessoas = re.compile('|'.join(pessoas))\n",
        "  compile_medicamentos = re.compile('|'.join(medicamentos))\n",
        "  for i in range(0, len(DuvidasDB)):\n",
        "    if compile_doenca.search(DuvidasDB['texto'][i]):\n",
        "      DuvidasDB.iloc[i,-1] = [\"doenca\"]\n",
        "    elif compile_medicamentos.search(DuvidasDB['texto'][i]):\n",
        "      DuvidasDB.iloc[i,-1] = [\"medicamentos\"]\n",
        "    elif compile_organizacoes.search(DuvidasDB['texto'][i]):\n",
        "      DuvidasDB.iloc[i,-1] = [\"organizacoes\"]\n",
        "    elif compile_pessoas.search(DuvidasDB['texto'][i]):\n",
        "      DuvidasDB.iloc[i,-1] = [\"pessoas\"]\n",
        "    else:\n",
        "      DuvidasDB.iloc[i,-1] = [\"indefinido\"]\n",
        "  DuvidasDB.to_csv('/content/drive/My Drive/trabalho-pratico/DuvidasDB.csv', sep=',',index=False)\n",
        "DuvidasDB.head()"
      ],
      "execution_count": 11,
      "outputs": [
        {
          "output_type": "stream",
          "text": [
            "Dataset DuvidasDB ja foi classificado\n"
          ],
          "name": "stdout"
        },
        {
          "output_type": "execute_result",
          "data": {
            "text/html": [
              "<div>\n",
              "<style scoped>\n",
              "    .dataframe tbody tr th:only-of-type {\n",
              "        vertical-align: middle;\n",
              "    }\n",
              "\n",
              "    .dataframe tbody tr th {\n",
              "        vertical-align: top;\n",
              "    }\n",
              "\n",
              "    .dataframe thead th {\n",
              "        text-align: right;\n",
              "    }\n",
              "</style>\n",
              "<table border=\"1\" class=\"dataframe\">\n",
              "  <thead>\n",
              "    <tr style=\"text-align: right;\">\n",
              "      <th></th>\n",
              "      <th>data</th>\n",
              "      <th>lugar</th>\n",
              "      <th>latitude</th>\n",
              "      <th>longitude</th>\n",
              "      <th>texto</th>\n",
              "      <th>tema</th>\n",
              "    </tr>\n",
              "  </thead>\n",
              "  <tbody>\n",
              "    <tr>\n",
              "      <th>0</th>\n",
              "      <td>2020-03-23 18:51:14</td>\n",
              "      <td>NaN</td>\n",
              "      <td>NaN</td>\n",
              "      <td>NaN</td>\n",
              "      <td>bolsonarosp cade fundao deputado???</td>\n",
              "      <td>pessoas</td>\n",
              "    </tr>\n",
              "    <tr>\n",
              "      <th>1</th>\n",
              "      <td>2020-04-01 21:11:07</td>\n",
              "      <td>NaN</td>\n",
              "      <td>NaN</td>\n",
              "      <td>NaN</td>\n",
              "      <td>fumaca cigarro pode propagar coronavirus?</td>\n",
              "      <td>doenca</td>\n",
              "    </tr>\n",
              "    <tr>\n",
              "      <th>2</th>\n",
              "      <td>2020-06-25 11:09:19</td>\n",
              "      <td>NaN</td>\n",
              "      <td>NaN</td>\n",
              "      <td>NaN</td>\n",
              "      <td>ipratesmd dr pampers corremos risco termos pio...</td>\n",
              "      <td>indefinido</td>\n",
              "    </tr>\n",
              "    <tr>\n",
              "      <th>3</th>\n",
              "      <td>2020-04-06 15:44:36</td>\n",
              "      <td>NaN</td>\n",
              "      <td>NaN</td>\n",
              "      <td>NaN</td>\n",
              "      <td>prioridade ?</td>\n",
              "      <td>indefinido</td>\n",
              "    </tr>\n",
              "    <tr>\n",
              "      <th>4</th>\n",
              "      <td>2020-03-30 00:43:36</td>\n",
              "      <td>NaN</td>\n",
              "      <td>NaN</td>\n",
              "      <td>NaN</td>\n",
              "      <td>tal noticia boa indo contramao midia corrupta ...</td>\n",
              "      <td>indefinido</td>\n",
              "    </tr>\n",
              "  </tbody>\n",
              "</table>\n",
              "</div>"
            ],
            "text/plain": [
              "                  data  ...        tema\n",
              "0  2020-03-23 18:51:14  ...     pessoas\n",
              "1  2020-04-01 21:11:07  ...      doenca\n",
              "2  2020-06-25 11:09:19  ...  indefinido\n",
              "3  2020-04-06 15:44:36  ...  indefinido\n",
              "4  2020-03-30 00:43:36  ...  indefinido\n",
              "\n",
              "[5 rows x 6 columns]"
            ]
          },
          "metadata": {
            "tags": []
          },
          "execution_count": 11
        }
      ]
    },
    {
      "cell_type": "markdown",
      "metadata": {
        "id": "vwszGUdRgO5Z"
      },
      "source": [
        "# Visualização do Dados"
      ]
    },
    {
      "cell_type": "markdown",
      "metadata": {
        "id": "_sJZnO2SgV5I"
      },
      "source": [
        "\n",
        "\n",
        "> Esta seção consiste na apresentação final dos dados após a classificação das perguntas.\n",
        "\n"
      ]
    },
    {
      "cell_type": "markdown",
      "metadata": {
        "id": "XDgAspAeI6os"
      },
      "source": [
        "### Estatísticas das perguntas classificadas"
      ]
    },
    {
      "cell_type": "markdown",
      "metadata": {
        "id": "tNMDg24LWaBk"
      },
      "source": [
        "Carregando dataset `df_perguntas_classificacao.csv`\n",
        "\n",
        "\n",
        "\n",
        "\n",
        "\n"
      ]
    },
    {
      "cell_type": "code",
      "metadata": {
        "id": "gD1SpamRI_Dr"
      },
      "source": [
        "df_estatistica = pd.read_csv('/content/drive/My Drive/trabalho-pratico/df_perguntas_classificadas.csv')"
      ],
      "execution_count": null,
      "outputs": []
    },
    {
      "cell_type": "markdown",
      "metadata": {
        "id": "jBwFh8eHWp4L"
      },
      "source": [
        "Contagem dos registros de acordo com cada classficação"
      ]
    },
    {
      "cell_type": "code",
      "metadata": {
        "id": "-LI8lda8U0eT"
      },
      "source": [
        "estatistica_total = len(df_estatistica.tema) \n",
        "estatistica_pessoas = len(df_estatistica.loc[df_estatistica['tema'] == 'pessoas'])\n",
        "estatistica_doenca = len(df_estatistica.loc[df_estatistica['tema'] == 'doenca'])\n",
        "estatistica_organizacoes = len(df_estatistica.loc[df_estatistica['tema'] == 'organizacoes'])\n",
        "estatistica_medicamentos = len(df_estatistica.loc[df_estatistica['tema'] == 'medicamentos'])\n",
        "estatistica_indefinido = len(df_estatistica.loc[df_estatistica['tema'] == 'indefinido'])\n"
      ],
      "execution_count": null,
      "outputs": []
    },
    {
      "cell_type": "markdown",
      "metadata": {
        "id": "jkNllKMjW_cC"
      },
      "source": [
        "Adiconando todos os registros contados das **pessoas**, **doenca**, **organizacoes**, **medicamentos** e **indefinido** e um dataframe `df_estatistica`"
      ]
    },
    {
      "cell_type": "code",
      "metadata": {
        "id": "wm2cdrsjTghc"
      },
      "source": [
        "df_estatistica = pd.DataFrame({\n",
        "    'tema': ['pessoas', 'doenca', 'organizacoes', 'medicamentos', 'indefinido'],\n",
        "    'total': [estatistica_pessoas,estatistica_doenca, estatistica_organizacoes, estatistica_medicamentos, estatistica_indefinido],\n",
        "    'porcentagem': [(estatistica_pessoas/estatistica_total)*100, (estatistica_doenca/estatistica_total)*100, (estatistica_organizacoes/estatistica_total)*100, (estatistica_medicamentos/estatistica_total)*100,\n",
        "                    (estatistica_indefinido/estatistica_total)*100]})"
      ],
      "execution_count": null,
      "outputs": []
    },
    {
      "cell_type": "code",
      "metadata": {
        "id": "kR7ugZJtfQkI"
      },
      "source": [
        "df_estatistica = df_estatistica.sort_values(ascending=False, by='porcentagem')"
      ],
      "execution_count": null,
      "outputs": []
    },
    {
      "cell_type": "markdown",
      "metadata": {
        "id": "VNLgPkQiXUF8"
      },
      "source": [
        "\n",
        "> **Apresentação dos dados:** tendo como conclusão que de acordo com dados analisados o tema **Doença** possui a maior valor de menções no twitter com 39,93% e o menor valor temos **Pessoas** representando 1,55%.\n",
        "\n",
        "**Formato Tabela:**\n",
        "\n"
      ]
    },
    {
      "cell_type": "code",
      "metadata": {
        "id": "mzWNaEq2Ohpm",
        "outputId": "c30e67ca-05ec-44a5-ba68-b3ee856da498",
        "colab": {
          "base_uri": "https://localhost:8080/",
          "height": 198
        }
      },
      "source": [
        "df_estatistica"
      ],
      "execution_count": null,
      "outputs": [
        {
          "output_type": "execute_result",
          "data": {
            "text/html": [
              "<div>\n",
              "<style scoped>\n",
              "    .dataframe tbody tr th:only-of-type {\n",
              "        vertical-align: middle;\n",
              "    }\n",
              "\n",
              "    .dataframe tbody tr th {\n",
              "        vertical-align: top;\n",
              "    }\n",
              "\n",
              "    .dataframe thead th {\n",
              "        text-align: right;\n",
              "    }\n",
              "</style>\n",
              "<table border=\"1\" class=\"dataframe\">\n",
              "  <thead>\n",
              "    <tr style=\"text-align: right;\">\n",
              "      <th></th>\n",
              "      <th>tema</th>\n",
              "      <th>total</th>\n",
              "      <th>porcentagem</th>\n",
              "    </tr>\n",
              "  </thead>\n",
              "  <tbody>\n",
              "    <tr>\n",
              "      <th>1</th>\n",
              "      <td>doenca</td>\n",
              "      <td>239613</td>\n",
              "      <td>39.935500</td>\n",
              "    </tr>\n",
              "    <tr>\n",
              "      <th>4</th>\n",
              "      <td>indefinido</td>\n",
              "      <td>152870</td>\n",
              "      <td>25.478333</td>\n",
              "    </tr>\n",
              "    <tr>\n",
              "      <th>2</th>\n",
              "      <td>organizacoes</td>\n",
              "      <td>104913</td>\n",
              "      <td>17.485500</td>\n",
              "    </tr>\n",
              "    <tr>\n",
              "      <th>3</th>\n",
              "      <td>medicamentos</td>\n",
              "      <td>93253</td>\n",
              "      <td>15.542167</td>\n",
              "    </tr>\n",
              "    <tr>\n",
              "      <th>0</th>\n",
              "      <td>pessoas</td>\n",
              "      <td>9351</td>\n",
              "      <td>1.558500</td>\n",
              "    </tr>\n",
              "  </tbody>\n",
              "</table>\n",
              "</div>"
            ],
            "text/plain": [
              "           tema   total  porcentagem\n",
              "1        doenca  239613    39.935500\n",
              "4    indefinido  152870    25.478333\n",
              "2  organizacoes  104913    17.485500\n",
              "3  medicamentos   93253    15.542167\n",
              "0       pessoas    9351     1.558500"
            ]
          },
          "metadata": {
            "tags": []
          },
          "execution_count": 69
        }
      ]
    },
    {
      "cell_type": "markdown",
      "metadata": {
        "id": "DsGgaqJjXzAi"
      },
      "source": [
        "**Formato Gráfico:**"
      ]
    },
    {
      "cell_type": "code",
      "metadata": {
        "id": "HAPm4zSbZNNE",
        "outputId": "b273ecee-d2b7-4c15-9549-1c7f618b0afc",
        "colab": {
          "base_uri": "https://localhost:8080/",
          "height": 394
        }
      },
      "source": [
        "sns.set(style=\"darkgrid\")\n",
        "plt.rcParams['figure.dpi'] = 120\n",
        "f, ax = plt.subplots(figsize=(10, 3))\n",
        "sns.set_color_codes(\"pastel\")\n",
        "sns.barplot(x=\"porcentagem\", y=\"tema\", data=df_estatistica)\n",
        "sns.despine(left=True, bottom=True)\n",
        "plt.title(\"Estatistica dos Temas\")\n",
        "fig.tight_layout()"
      ],
      "execution_count": null,
      "outputs": [
        {
          "output_type": "display_data",
          "data": {
            "image/png": "[encoded data removed]",
            "text/plain": [
              "<Figure size 1200x360 with 1 Axes>"
            ]
          },
          "metadata": {
            "tags": []
          }
        }
      ]
    }
  ]
}