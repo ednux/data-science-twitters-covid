{
  "nbformat": 4,
  "nbformat_minor": 0,
  "metadata": {
    "colab": {
      "name": "main.ipynb",
      "provenance": [],
      "collapsed_sections": [
        "cQYwi7538mn7",
        "_WQzEZyzIRNu",
        "fR_8hjZ52jmn",
        "wLxEQ5marPJF",
        "bHgFMh5qOMGq"
      ],
      "toc_visible": true,
      "include_colab_link": true
    },
    "kernelspec": {
      "name": "python3",
      "display_name": "Python 3"
    }
  },
  "cells": [
    {
      "cell_type": "markdown",
      "metadata": {
        "id": "view-in-github",
        "colab_type": "text"
      },
      "source": [
        "<a href=\"https://colab.research.google.com/github/ehdob-cid20/trabalho-pratico/blob/master/main.ipynb\" target=\"_parent\"><img src=\"https://colab.research.google.com/assets/colab-badge.svg\" alt=\"Open In Colab\"/></a>"
      ]
    },
    {
      "cell_type": "code",
      "metadata": {
        "id": "Wx0uiePrALoV",
        "outputId": "dd893c69-3ffd-4c09-bacf-0631fe722754",
        "colab": {
          "base_uri": "https://localhost:8080/",
          "height": 34
        }
      },
      "source": [
        "from google.colab import drive\n",
        "drive.mount('/content/drive')"
      ],
      "execution_count": 1,
      "outputs": [
        {
          "output_type": "stream",
          "text": [
            "Mounted at /content/drive\n"
          ],
          "name": "stdout"
        }
      ]
    },
    {
      "cell_type": "markdown",
      "metadata": {
        "id": "vjBzc5Ox7E1F"
      },
      "source": [
        "#  Pré Processamento"
      ]
    },
    {
      "cell_type": "markdown",
      "metadata": {
        "id": "cQYwi7538mn7"
      },
      "source": [
        "## Importando as bibliotecas"
      ]
    },
    {
      "cell_type": "code",
      "metadata": {
        "id": "rgaKgD7bUhCk",
        "outputId": "d5ac5d5a-fbbc-4def-e6a5-f0cad8585183",
        "colab": {
          "base_uri": "https://localhost:8080/",
          "height": 52
        }
      },
      "source": [
        "import pandas as pd\n",
        "import numpy as np\n",
        "import matplotlib.pyplot as plt\n",
        "import seaborn as sns"
      ],
      "execution_count": 2,
      "outputs": [
        {
          "output_type": "stream",
          "text": [
            "/usr/local/lib/python3.6/dist-packages/statsmodels/tools/_testing.py:19: FutureWarning: pandas.util.testing is deprecated. Use the functions in the public API at pandas.testing instead.\n",
            "  import pandas.util.testing as tm\n"
          ],
          "name": "stderr"
        }
      ]
    },
    {
      "cell_type": "markdown",
      "metadata": {
        "id": "hEcp8tKR8uKM"
      },
      "source": [
        "## Importando o *dataset*"
      ]
    },
    {
      "cell_type": "markdown",
      "metadata": {
        "id": "_WQzEZyzIRNu"
      },
      "source": [
        "### Verifica se o dataset já foi importado para o google drive"
      ]
    },
    {
      "cell_type": "markdown",
      "metadata": {
        "id": "NlH5_zg1IRGK"
      },
      "source": [
        "Um script que verifica se o dataset já foi importado para o google drive. Caso ainda não tenha sido importado, ele faz o download do arquivo e extrai para a pasta informada na variável **dirName**.\n",
        "\n",
        "Variáveis:\n",
        "\n",
        "> **datasetFileName** é o nome do arquivo com extensão.\n",
        "\n",
        "> **datsetUrl** é o endereço web onde o arquivo está disponível.\n",
        "\n",
        "> **dirName** é o diretório do google drive onde o dataset será salvo.\n",
        "\n",
        "Nota: O diretório de salvamento (*dirName*) precisa existir.\n"
      ]
    },
    {
      "cell_type": "code",
      "metadata": {
        "id": "z_lj59w9JoXK",
        "outputId": "3093e6bb-365f-4467-c234-81c77a6a8f89",
        "colab": {
          "base_uri": "https://localhost:8080/",
          "height": 0
        }
      },
      "source": [
        "import os\n",
        "\n",
        "datasetFileName = 'dados-curso-completo.csv.tar.gz'\n",
        "datsetUrl = 'http://tiagodemelo.info/datasets/dados-curso-completo.csv.tar.gz'\n",
        "dirName = 'trabalho-pratico' # Este diretorio pode ser alterado se ja tiver o dataset no google drive.\n",
        "\n",
        "if False == os.path.isfile('/content/drive/My Drive/' + dirName + '/' + datasetFileName[:-7]):\n",
        "  if False == os.path.isdir('/content/drive'):\n",
        "    print('Google driver não está montado!')\n",
        "  elif False == os.path.isdir('/content/drive/My Drive/' +  dirName + '/'):\n",
        "    print('Diretório ' + dirName + ' não encontrado.')\n",
        "  elif False == os.path.isfile('/content/drive/My Drive/' + dirName + '/' + datasetFileName):\n",
        "    !wget -O '/content/drive/My Drive/$dirName/$datasetFileName' '$datsetUrl' #TODO: handle download errors.\n",
        "    !tar -C '/content/drive/My Drive/$dirName/{datasetFileName[:-7]}' -zxf '/content/drive/My Drive/$dirName/$datasetFileName' #TODO: handle extract errors.\n",
        "  else:\n",
        "    !tar -C '/content/drive/My Drive/$dirName/' -zxf '/content/drive/My Drive/$dirName/$datasetFileName' #TODO: handle extract errors.\n",
        "else:\n",
        "  print('O dataset ' + datasetFileName[:-7] + ' foi encontrado.')"
      ],
      "execution_count": 3,
      "outputs": [
        {
          "output_type": "stream",
          "text": [
            "O dataset dados-curso-completo.csv foi encontrado.\n"
          ],
          "name": "stdout"
        }
      ]
    },
    {
      "cell_type": "markdown",
      "metadata": {
        "id": "0MQ-QxKNJnGN"
      },
      "source": [
        "### Importando o *dataset* usando pandas"
      ]
    },
    {
      "cell_type": "code",
      "metadata": {
        "id": "Ey0uEq__Lgdp"
      },
      "source": [
        "dataset = pd.read_csv('/content/drive/My Drive/' + dirName + '/' + datasetFileName[:-7])"
      ],
      "execution_count": 4,
      "outputs": []
    },
    {
      "cell_type": "markdown",
      "metadata": {
        "id": "HPEvldwlNEU4"
      },
      "source": [
        "## Visualizando o *dataset* inicial (sem qualquer tratamento)"
      ]
    },
    {
      "cell_type": "markdown",
      "metadata": {
        "id": "BRUjyfTJ475S"
      },
      "source": [
        "\n",
        "\n",
        "> Segue uma informação geral do dataset tento colunas, contagem e tipo\n",
        "\n"
      ]
    },
    {
      "cell_type": "code",
      "metadata": {
        "id": "XmJaNSzL49-l",
        "outputId": "3703bfb2-1121-4867-8ed7-653e41e3fac0",
        "colab": {
          "base_uri": "https://localhost:8080/",
          "height": 364
        }
      },
      "source": [
        "dataset.info()"
      ],
      "execution_count": 5,
      "outputs": [
        {
          "output_type": "stream",
          "text": [
            "<class 'pandas.core.frame.DataFrame'>\n",
            "RangeIndex: 1658825 entries, 0 to 1658824\n",
            "Data columns (total 13 columns):\n",
            " #   Column      Non-Null Count    Dtype  \n",
            "---  ------      --------------    -----  \n",
            " 0   data        1658825 non-null  object \n",
            " 1   usuario     1658768 non-null  object \n",
            " 2   apelido     1658825 non-null  object \n",
            " 3   texto       1658825 non-null  object \n",
            " 4   retweet     1658825 non-null  int64  \n",
            " 5   seguidores  1658825 non-null  int64  \n",
            " 6   idioma      1658825 non-null  object \n",
            " 7   lugar       74605 non-null    object \n",
            " 8   pais        74600 non-null    object \n",
            " 9   sigla       74595 non-null    object \n",
            " 10  latitude    8720 non-null     float64\n",
            " 11  longitude   8720 non-null     float64\n",
            " 12  hashtags    1658825 non-null  object \n",
            "dtypes: float64(2), int64(2), object(9)\n",
            "memory usage: 164.5+ MB\n"
          ],
          "name": "stdout"
        }
      ]
    },
    {
      "cell_type": "markdown",
      "metadata": {
        "id": "-kr7kzNR_mbF"
      },
      "source": [
        "\n",
        "\n",
        "> Campos nulos do dataset. Em seguida segue uma visão geral de cada campo\n",
        "\n"
      ]
    },
    {
      "cell_type": "code",
      "metadata": {
        "id": "HJE3AYuH_p1A",
        "outputId": "4d279a12-a154-4938-99e8-468d4c728fd6",
        "colab": {
          "base_uri": "https://localhost:8080/",
          "height": 260
        }
      },
      "source": [
        "dataset.isnull().sum()"
      ],
      "execution_count": 6,
      "outputs": [
        {
          "output_type": "execute_result",
          "data": {
            "text/plain": [
              "data                0\n",
              "usuario            57\n",
              "apelido             0\n",
              "texto               0\n",
              "retweet             0\n",
              "seguidores          0\n",
              "idioma              0\n",
              "lugar         1584220\n",
              "pais          1584225\n",
              "sigla         1584230\n",
              "latitude      1650105\n",
              "longitude     1650105\n",
              "hashtags            0\n",
              "dtype: int64"
            ]
          },
          "metadata": {
            "tags": []
          },
          "execution_count": 6
        }
      ]
    },
    {
      "cell_type": "markdown",
      "metadata": {
        "id": "8n1treyy5vtF"
      },
      "source": [
        "### Sumário para o campo *usuario*"
      ]
    },
    {
      "cell_type": "markdown",
      "metadata": {
        "id": "Zi5IBQN0Asvm"
      },
      "source": [
        "**Resumo geral:**\n",
        "> Possui 1.658.825 campos, onde 632.601 são únicos, 1.026.167 são duplicados e 57 estão nulos.\n",
        "\n",
        "> Usuário com maior frequência '.',  aparece 1624."
      ]
    },
    {
      "cell_type": "code",
      "metadata": {
        "id": "DsfHscVNAnWi",
        "outputId": "8328034a-75f1-4bde-bb8f-8b36d3c1a2e3",
        "colab": {
          "base_uri": "https://localhost:8080/",
          "height": 104
        }
      },
      "source": [
        "dataset.usuario.describe()"
      ],
      "execution_count": 7,
      "outputs": [
        {
          "output_type": "execute_result",
          "data": {
            "text/plain": [
              "count     1658768\n",
              "unique     632601\n",
              "top             .\n",
              "freq         1624\n",
              "Name: usuario, dtype: object"
            ]
          },
          "metadata": {
            "tags": []
          },
          "execution_count": 7
        }
      ]
    },
    {
      "cell_type": "code",
      "metadata": {
        "id": "2ZtrmkLyKf-i",
        "outputId": "0436ffdc-b0c6-41a8-fd25-8eaae38519f0",
        "colab": {
          "base_uri": "https://localhost:8080/",
          "height": 143
        }
      },
      "source": [
        "usuarios_total = len(dataset.usuario)\n",
        "usuarios_unicos = dataset.usuario.nunique()\n",
        "usuarios_null = dataset.usuario.isnull().sum()\n",
        "usuarios_duplicados = usuarios_total - usuarios_unicos - usuarios_null\n",
        "usuarios_df = pd.DataFrame({\n",
        "                  'Usuários': ['únicos', 'duplicados', 'vazio'] ,\n",
        "                   'Contagem' : [usuarios_unicos, usuarios_duplicados, usuarios_null],\n",
        "                   'Porcentagem' : [(usuarios_unicos/usuarios_total)*100, (usuarios_duplicados/usuarios_total)*100, (usuarios_null/usuarios_total)*100]})\n",
        "usuarios_df"
      ],
      "execution_count": 8,
      "outputs": [
        {
          "output_type": "execute_result",
          "data": {
            "text/html": [
              "<div>\n",
              "<style scoped>\n",
              "    .dataframe tbody tr th:only-of-type {\n",
              "        vertical-align: middle;\n",
              "    }\n",
              "\n",
              "    .dataframe tbody tr th {\n",
              "        vertical-align: top;\n",
              "    }\n",
              "\n",
              "    .dataframe thead th {\n",
              "        text-align: right;\n",
              "    }\n",
              "</style>\n",
              "<table border=\"1\" class=\"dataframe\">\n",
              "  <thead>\n",
              "    <tr style=\"text-align: right;\">\n",
              "      <th></th>\n",
              "      <th>Usuários</th>\n",
              "      <th>Contagem</th>\n",
              "      <th>Porcentagem</th>\n",
              "    </tr>\n",
              "  </thead>\n",
              "  <tbody>\n",
              "    <tr>\n",
              "      <th>0</th>\n",
              "      <td>únicos</td>\n",
              "      <td>632601</td>\n",
              "      <td>38.135487</td>\n",
              "    </tr>\n",
              "    <tr>\n",
              "      <th>1</th>\n",
              "      <td>duplicados</td>\n",
              "      <td>1026167</td>\n",
              "      <td>61.861076</td>\n",
              "    </tr>\n",
              "    <tr>\n",
              "      <th>2</th>\n",
              "      <td>vazio</td>\n",
              "      <td>57</td>\n",
              "      <td>0.003436</td>\n",
              "    </tr>\n",
              "  </tbody>\n",
              "</table>\n",
              "</div>"
            ],
            "text/plain": [
              "     Usuários  Contagem  Porcentagem\n",
              "0      únicos    632601    38.135487\n",
              "1  duplicados   1026167    61.861076\n",
              "2       vazio        57     0.003436"
            ]
          },
          "metadata": {
            "tags": []
          },
          "execution_count": 8
        }
      ]
    },
    {
      "cell_type": "markdown",
      "metadata": {
        "id": "5Gb74KX8Sn2Z"
      },
      "source": [
        "Nota: O campo 'usuario' está trocado com o campo 'apelido', pois usuário é usado como um campo único, enquanto que um apelido pode ser usado por mais de um usuário."
      ]
    },
    {
      "cell_type": "markdown",
      "metadata": {
        "id": "5kPZ6ZniVZHw"
      },
      "source": [
        "### Sumário para o campo *apelido*"
      ]
    },
    {
      "cell_type": "markdown",
      "metadata": {
        "id": "cILRgEkRVoeY"
      },
      "source": [
        "**Resumo geral:**\n",
        "> Possui 1.658.825 campos, onde 774.516 são únicos e 0 estão nulos.\n",
        "\n",
        "> Apelido com maior frequência 'Lusa_noticias',  aparece 1404."
      ]
    },
    {
      "cell_type": "code",
      "metadata": {
        "id": "FAnBfTp4ViPY",
        "outputId": "91bdac0f-ac0a-4457-ef3b-e9bb835a369f",
        "colab": {
          "base_uri": "https://localhost:8080/",
          "height": 104
        }
      },
      "source": [
        "dataset.apelido.describe()"
      ],
      "execution_count": 9,
      "outputs": [
        {
          "output_type": "execute_result",
          "data": {
            "text/plain": [
              "count           1658825\n",
              "unique           774516\n",
              "top       Lusa_noticias\n",
              "freq               1404\n",
              "Name: apelido, dtype: object"
            ]
          },
          "metadata": {
            "tags": []
          },
          "execution_count": 9
        }
      ]
    },
    {
      "cell_type": "code",
      "metadata": {
        "id": "YlrNtCL7YXi2",
        "outputId": "1a010345-94da-4411-b645-e50cc8450d71",
        "colab": {
          "base_uri": "https://localhost:8080/",
          "height": 143
        }
      },
      "source": [
        "apelidos_total = len(dataset.apelido)\n",
        "apelidos_unicos = dataset.apelido.nunique()\n",
        "apelidos_null = dataset.apelido.isnull().sum()\n",
        "apelidos_duplicados = apelidos_total - apelidos_unicos - apelidos_null\n",
        "apelidos_df = pd.DataFrame({\n",
        "                  'Apelidos': ['únicos', 'duplicados', 'vazio'] ,\n",
        "                   'Contagem' : [apelidos_unicos, apelidos_duplicados, apelidos_null],\n",
        "                   'Porcentagem' : [(apelidos_unicos/apelidos_total)*100, (apelidos_duplicados/apelidos_total)*100, (apelidos_null/apelidos_total)*100]})\n",
        "apelidos_df"
      ],
      "execution_count": 10,
      "outputs": [
        {
          "output_type": "execute_result",
          "data": {
            "text/html": [
              "<div>\n",
              "<style scoped>\n",
              "    .dataframe tbody tr th:only-of-type {\n",
              "        vertical-align: middle;\n",
              "    }\n",
              "\n",
              "    .dataframe tbody tr th {\n",
              "        vertical-align: top;\n",
              "    }\n",
              "\n",
              "    .dataframe thead th {\n",
              "        text-align: right;\n",
              "    }\n",
              "</style>\n",
              "<table border=\"1\" class=\"dataframe\">\n",
              "  <thead>\n",
              "    <tr style=\"text-align: right;\">\n",
              "      <th></th>\n",
              "      <th>Apelidos</th>\n",
              "      <th>Contagem</th>\n",
              "      <th>Porcentagem</th>\n",
              "    </tr>\n",
              "  </thead>\n",
              "  <tbody>\n",
              "    <tr>\n",
              "      <th>0</th>\n",
              "      <td>únicos</td>\n",
              "      <td>774516</td>\n",
              "      <td>46.690639</td>\n",
              "    </tr>\n",
              "    <tr>\n",
              "      <th>1</th>\n",
              "      <td>duplicados</td>\n",
              "      <td>884309</td>\n",
              "      <td>53.309361</td>\n",
              "    </tr>\n",
              "    <tr>\n",
              "      <th>2</th>\n",
              "      <td>vazio</td>\n",
              "      <td>0</td>\n",
              "      <td>0.000000</td>\n",
              "    </tr>\n",
              "  </tbody>\n",
              "</table>\n",
              "</div>"
            ],
            "text/plain": [
              "     Apelidos  Contagem  Porcentagem\n",
              "0      únicos    774516    46.690639\n",
              "1  duplicados    884309    53.309361\n",
              "2       vazio         0     0.000000"
            ]
          },
          "metadata": {
            "tags": []
          },
          "execution_count": 10
        }
      ]
    },
    {
      "cell_type": "markdown",
      "metadata": {
        "id": "ctrhY8buHtYu"
      },
      "source": [
        "**Número de apelidos por País**"
      ]
    },
    {
      "cell_type": "code",
      "metadata": {
        "id": "6CwgfKEeH9gp",
        "outputId": "11caa72b-9bd4-4a62-f96f-39241f3ac5bc",
        "colab": {
          "base_uri": "https://localhost:8080/",
          "height": 237
        }
      },
      "source": [
        "# Agrupa todos os usuários por pais e conta quantos usuários tem de cada país.\n",
        "apelido_pais = dataset.groupby(\"pais\", as_index=False)[\"apelido\"].count().sort_values(\"apelido\", ascending=False)\n",
        "\n",
        "# Calcula a porcentagem de participação\n",
        "apelido_pais['apelido']= (apelido_pais['apelido']/apelido_pais['apelido'].sum())*100\n",
        "\n",
        "# Divide o dataset apelido_pais em duas partes. \n",
        "# apelido_pais_grandes representa todos os países com pelo menos 0.5% de participação\n",
        "# apelido_pais_pequenos representa todos os países com menos de 0.5% de participação\n",
        "apelido_pais_grandes = apelido_pais[apelido_pais.apelido >= 0.5] .sort_values(\"apelido\", ascending=False)\n",
        "apelido_pais_pequenos = apelido_pais[apelido_pais.apelido < 0.5]\n",
        "\n",
        "# Calcula a porcentagem de participação total de todos os países com menos de 0.5% de participação\n",
        "apelidos_total_outros_paises = apelido_pais_pequenos['apelido'].sum()\n",
        "\n",
        "# Reseta o indice do dataset apelido_pais_grandes para evitar warnings ao adicionar uma nova linha\n",
        "apelido_pais_grandes = apelido_pais_grandes.reset_index(drop=True)\n",
        "\n",
        "# Adiciona a nova linha 'Outros Países' ao dataset apelido_pais_grandes\n",
        "apelido_pais_grandes.loc[len(apelido_pais_grandes.index)] = ['Outros Países',apelidos_total_outros_paises]\n",
        "\n",
        "# Ordena o dataset apelido_pais_grandes do maior para o menor\n",
        "apelido_pais_grandes = apelido_pais_grandes.sort_values(\"apelido\", ascending=False).reset_index(drop=True)\n",
        "\n",
        "# Exibe o dataset apelido_pais_grandes\n",
        "apelido_pais_grandes = apelido_pais_grandes.rename(columns={\"pais\" : \"Pais\", \"apelido\" : \"Presença de usuários (em %)\"})\n",
        "apelido_pais_grandes"
      ],
      "execution_count": 11,
      "outputs": [
        {
          "output_type": "execute_result",
          "data": {
            "text/html": [
              "<div>\n",
              "<style scoped>\n",
              "    .dataframe tbody tr th:only-of-type {\n",
              "        vertical-align: middle;\n",
              "    }\n",
              "\n",
              "    .dataframe tbody tr th {\n",
              "        vertical-align: top;\n",
              "    }\n",
              "\n",
              "    .dataframe thead th {\n",
              "        text-align: right;\n",
              "    }\n",
              "</style>\n",
              "<table border=\"1\" class=\"dataframe\">\n",
              "  <thead>\n",
              "    <tr style=\"text-align: right;\">\n",
              "      <th></th>\n",
              "      <th>Pais</th>\n",
              "      <th>Presença de usuários (em %)</th>\n",
              "    </tr>\n",
              "  </thead>\n",
              "  <tbody>\n",
              "    <tr>\n",
              "      <th>0</th>\n",
              "      <td>Brazil</td>\n",
              "      <td>90.143432</td>\n",
              "    </tr>\n",
              "    <tr>\n",
              "      <th>1</th>\n",
              "      <td>Outros Países</td>\n",
              "      <td>3.682306</td>\n",
              "    </tr>\n",
              "    <tr>\n",
              "      <th>2</th>\n",
              "      <td>Portugal</td>\n",
              "      <td>3.585791</td>\n",
              "    </tr>\n",
              "    <tr>\n",
              "      <th>3</th>\n",
              "      <td>United States</td>\n",
              "      <td>1.431635</td>\n",
              "    </tr>\n",
              "    <tr>\n",
              "      <th>4</th>\n",
              "      <td>Italy</td>\n",
              "      <td>0.648794</td>\n",
              "    </tr>\n",
              "    <tr>\n",
              "      <th>5</th>\n",
              "      <td>Spain</td>\n",
              "      <td>0.508043</td>\n",
              "    </tr>\n",
              "  </tbody>\n",
              "</table>\n",
              "</div>"
            ],
            "text/plain": [
              "            Pais  Presença de usuários (em %)\n",
              "0         Brazil                    90.143432\n",
              "1  Outros Países                     3.682306\n",
              "2       Portugal                     3.585791\n",
              "3  United States                     1.431635\n",
              "4          Italy                     0.648794\n",
              "5          Spain                     0.508043"
            ]
          },
          "metadata": {
            "tags": []
          },
          "execution_count": 11
        }
      ]
    },
    {
      "cell_type": "markdown",
      "metadata": {
        "id": "SJhqfm6_H_yj"
      },
      "source": [
        "**Gráfico de apelidos por país**"
      ]
    },
    {
      "cell_type": "code",
      "metadata": {
        "id": "xArFTqB1IFiB",
        "outputId": "52634292-4f8b-4533-d708-3f2ff780ef8e",
        "colab": {
          "base_uri": "https://localhost:8080/",
          "height": 373
        }
      },
      "source": [
        "sns.set(style=\"whitegrid\")\n",
        "plt.rcParams['figure.dpi'] = 120\n",
        "f, ax = plt.subplots(figsize=(10, 3))\n",
        "sns.set_color_codes(\"pastel\")\n",
        "sns.barplot(x=\"Presença de usuários (em %)\", y=\"Pais\", data=apelido_pais_grandes)\n",
        "ax.set(xlim=(0, 100), ylabel=\"\", xlabel=\"Presença de usuários por país (em %)\")\n",
        "sns.despine(left=True, bottom=True)"
      ],
      "execution_count": 12,
      "outputs": [
        {
          "output_type": "display_data",
          "data": {
            "image/png": "[encoded data removed]",
            "text/plain": [
              "<Figure size 1200x360 with 1 Axes>"
            ]
          },
          "metadata": {
            "tags": []
          }
        }
      ]
    },
    {
      "cell_type": "markdown",
      "metadata": {
        "id": "ZXeu5y7KJfab"
      },
      "source": [
        "Nota: A porcentagem de presença de usuários por país se refere ao real número de usuários no campo 'apelido'. A definição de 'usuario' e 'apelido' está trocada no dataset."
      ]
    },
    {
      "cell_type": "markdown",
      "metadata": {
        "id": "F4nqEcx6nAdL"
      },
      "source": [
        "**Número de apelidos por Idioma**"
      ]
    },
    {
      "cell_type": "code",
      "metadata": {
        "id": "ngdrIU4dnCyd",
        "outputId": "91a6ba30-200c-47d6-b74c-fe434aaf2576",
        "colab": {
          "base_uri": "https://localhost:8080/",
          "height": 237
        }
      },
      "source": [
        "# Agrupa todos os usuários por idioma e conta quantos usuários tem de cada idioma.\n",
        "apelido_idioma = dataset.groupby(\"idioma\", as_index=False)[\"apelido\"].count().sort_values(\"apelido\", ascending=False)\n",
        "\n",
        "# Calcula a porcentagem de participação\n",
        "apelido_idioma['apelido']= (apelido_idioma['apelido']/apelido_idioma['apelido'].sum())*100\n",
        "\n",
        "# Divide o dataset apelido_idioma em duas partes.\n",
        "# apelido_idioma_grandes representa os cinco idiomas mais representativos do dataset\n",
        "# apelido_idioma_pequenos representa todos os outros idiomas depois do quinto mais representativo\n",
        "apelido_idioma_grandes = apelido_idioma[:5]\n",
        "apelido_idioma_pequenos = apelido_idioma[5:]\n",
        "\n",
        "# Calcula a porcentagem de participação total de todos os idiomas com depois do quinto mais representativo\n",
        "apelidos_total_outros_idiomas = apelido_idioma_pequenos['apelido'].sum()\n",
        "\n",
        "# Reseta o indice do dataset apelido_idioma_grandes para evitar warnings ao adicionar uma nova linha\n",
        "apelido_idioma_grandes = apelido_idioma_grandes.reset_index(drop=True)\n",
        "\n",
        "# Adiciona a nova linha 'Outros Idiomas' ao dataset apelido_idioma_grandes\n",
        "apelido_idioma_grandes.loc[len(apelido_idioma_grandes.index)] = ['Outros Idiomas',apelidos_total_outros_idiomas]\n",
        "\n",
        "# Ordena o dataset apelido_idioma_grandes do maior para o menor\n",
        "apelido_idioma_grandes = apelido_idioma_grandes.sort_values(\"apelido\", ascending=False).reset_index(drop=True)\n",
        "\n",
        "# Exibe o dataset apelido_idioma_grandes\n",
        "apelido_idioma_grandes = apelido_idioma_grandes.rename(columns={\"idioma\" : \"Idioma\", \"apelido\" : \"Presença de usuários (em %)\"})\n",
        "apelido_idioma_grandes"
      ],
      "execution_count": 13,
      "outputs": [
        {
          "output_type": "execute_result",
          "data": {
            "text/html": [
              "<div>\n",
              "<style scoped>\n",
              "    .dataframe tbody tr th:only-of-type {\n",
              "        vertical-align: middle;\n",
              "    }\n",
              "\n",
              "    .dataframe tbody tr th {\n",
              "        vertical-align: top;\n",
              "    }\n",
              "\n",
              "    .dataframe thead th {\n",
              "        text-align: right;\n",
              "    }\n",
              "</style>\n",
              "<table border=\"1\" class=\"dataframe\">\n",
              "  <thead>\n",
              "    <tr style=\"text-align: right;\">\n",
              "      <th></th>\n",
              "      <th>Idioma</th>\n",
              "      <th>Presença de usuários (em %)</th>\n",
              "    </tr>\n",
              "  </thead>\n",
              "  <tbody>\n",
              "    <tr>\n",
              "      <th>0</th>\n",
              "      <td>pt</td>\n",
              "      <td>95.657830</td>\n",
              "    </tr>\n",
              "    <tr>\n",
              "      <th>1</th>\n",
              "      <td>en</td>\n",
              "      <td>1.446265</td>\n",
              "    </tr>\n",
              "    <tr>\n",
              "      <th>2</th>\n",
              "      <td>Outros Idiomas</td>\n",
              "      <td>1.304960</td>\n",
              "    </tr>\n",
              "    <tr>\n",
              "      <th>3</th>\n",
              "      <td>es</td>\n",
              "      <td>0.859343</td>\n",
              "    </tr>\n",
              "    <tr>\n",
              "      <th>4</th>\n",
              "      <td>it</td>\n",
              "      <td>0.390638</td>\n",
              "    </tr>\n",
              "    <tr>\n",
              "      <th>5</th>\n",
              "      <td>und</td>\n",
              "      <td>0.340964</td>\n",
              "    </tr>\n",
              "  </tbody>\n",
              "</table>\n",
              "</div>"
            ],
            "text/plain": [
              "           Idioma  Presença de usuários (em %)\n",
              "0              pt                    95.657830\n",
              "1              en                     1.446265\n",
              "2  Outros Idiomas                     1.304960\n",
              "3              es                     0.859343\n",
              "4              it                     0.390638\n",
              "5             und                     0.340964"
            ]
          },
          "metadata": {
            "tags": []
          },
          "execution_count": 13
        }
      ]
    },
    {
      "cell_type": "markdown",
      "metadata": {
        "id": "P6YGXyZxokjg"
      },
      "source": [
        "Observações:\n",
        "\n",
        "1. A porcentagem de presença de usuários por idioma se refere ao real número de usuários no campo 'apelido'. A definição de 'usuario' e 'apelido' está trocada no dataset.\n",
        "2. O idioma '**und**' significa **undefined**, que em português seria \"**não definido**\". Os usuários no twitter podem escolher opções de privacidade para não compartilhar o idioma."
      ]
    },
    {
      "cell_type": "markdown",
      "metadata": {
        "id": "mV7pSiYux41e"
      },
      "source": [
        "**Comparando apelidos por país com apelidos por idioma**"
      ]
    },
    {
      "cell_type": "code",
      "metadata": {
        "id": "S4Sy9i53x7Md",
        "outputId": "29ad7bff-50f0-4fbb-fc87-8bc37198f94e",
        "colab": {
          "base_uri": "https://localhost:8080/",
          "height": 237
        }
      },
      "source": [
        "apelido_pais_grandes"
      ],
      "execution_count": 14,
      "outputs": [
        {
          "output_type": "execute_result",
          "data": {
            "text/html": [
              "<div>\n",
              "<style scoped>\n",
              "    .dataframe tbody tr th:only-of-type {\n",
              "        vertical-align: middle;\n",
              "    }\n",
              "\n",
              "    .dataframe tbody tr th {\n",
              "        vertical-align: top;\n",
              "    }\n",
              "\n",
              "    .dataframe thead th {\n",
              "        text-align: right;\n",
              "    }\n",
              "</style>\n",
              "<table border=\"1\" class=\"dataframe\">\n",
              "  <thead>\n",
              "    <tr style=\"text-align: right;\">\n",
              "      <th></th>\n",
              "      <th>Pais</th>\n",
              "      <th>Presença de usuários (em %)</th>\n",
              "    </tr>\n",
              "  </thead>\n",
              "  <tbody>\n",
              "    <tr>\n",
              "      <th>0</th>\n",
              "      <td>Brazil</td>\n",
              "      <td>90.143432</td>\n",
              "    </tr>\n",
              "    <tr>\n",
              "      <th>1</th>\n",
              "      <td>Outros Países</td>\n",
              "      <td>3.682306</td>\n",
              "    </tr>\n",
              "    <tr>\n",
              "      <th>2</th>\n",
              "      <td>Portugal</td>\n",
              "      <td>3.585791</td>\n",
              "    </tr>\n",
              "    <tr>\n",
              "      <th>3</th>\n",
              "      <td>United States</td>\n",
              "      <td>1.431635</td>\n",
              "    </tr>\n",
              "    <tr>\n",
              "      <th>4</th>\n",
              "      <td>Italy</td>\n",
              "      <td>0.648794</td>\n",
              "    </tr>\n",
              "    <tr>\n",
              "      <th>5</th>\n",
              "      <td>Spain</td>\n",
              "      <td>0.508043</td>\n",
              "    </tr>\n",
              "  </tbody>\n",
              "</table>\n",
              "</div>"
            ],
            "text/plain": [
              "            Pais  Presença de usuários (em %)\n",
              "0         Brazil                    90.143432\n",
              "1  Outros Países                     3.682306\n",
              "2       Portugal                     3.585791\n",
              "3  United States                     1.431635\n",
              "4          Italy                     0.648794\n",
              "5          Spain                     0.508043"
            ]
          },
          "metadata": {
            "tags": []
          },
          "execution_count": 14
        }
      ]
    },
    {
      "cell_type": "code",
      "metadata": {
        "id": "p1jJ_KZtx89W",
        "outputId": "8d5548bf-1af6-4f61-c5fd-e49f13874cb5",
        "colab": {
          "base_uri": "https://localhost:8080/",
          "height": 237
        }
      },
      "source": [
        "apelido_idioma_grandes"
      ],
      "execution_count": 15,
      "outputs": [
        {
          "output_type": "execute_result",
          "data": {
            "text/html": [
              "<div>\n",
              "<style scoped>\n",
              "    .dataframe tbody tr th:only-of-type {\n",
              "        vertical-align: middle;\n",
              "    }\n",
              "\n",
              "    .dataframe tbody tr th {\n",
              "        vertical-align: top;\n",
              "    }\n",
              "\n",
              "    .dataframe thead th {\n",
              "        text-align: right;\n",
              "    }\n",
              "</style>\n",
              "<table border=\"1\" class=\"dataframe\">\n",
              "  <thead>\n",
              "    <tr style=\"text-align: right;\">\n",
              "      <th></th>\n",
              "      <th>Idioma</th>\n",
              "      <th>Presença de usuários (em %)</th>\n",
              "    </tr>\n",
              "  </thead>\n",
              "  <tbody>\n",
              "    <tr>\n",
              "      <th>0</th>\n",
              "      <td>pt</td>\n",
              "      <td>95.657830</td>\n",
              "    </tr>\n",
              "    <tr>\n",
              "      <th>1</th>\n",
              "      <td>en</td>\n",
              "      <td>1.446265</td>\n",
              "    </tr>\n",
              "    <tr>\n",
              "      <th>2</th>\n",
              "      <td>Outros Idiomas</td>\n",
              "      <td>1.304960</td>\n",
              "    </tr>\n",
              "    <tr>\n",
              "      <th>3</th>\n",
              "      <td>es</td>\n",
              "      <td>0.859343</td>\n",
              "    </tr>\n",
              "    <tr>\n",
              "      <th>4</th>\n",
              "      <td>it</td>\n",
              "      <td>0.390638</td>\n",
              "    </tr>\n",
              "    <tr>\n",
              "      <th>5</th>\n",
              "      <td>und</td>\n",
              "      <td>0.340964</td>\n",
              "    </tr>\n",
              "  </tbody>\n",
              "</table>\n",
              "</div>"
            ],
            "text/plain": [
              "           Idioma  Presença de usuários (em %)\n",
              "0              pt                    95.657830\n",
              "1              en                     1.446265\n",
              "2  Outros Idiomas                     1.304960\n",
              "3              es                     0.859343\n",
              "4              it                     0.390638\n",
              "5             und                     0.340964"
            ]
          },
          "metadata": {
            "tags": []
          },
          "execution_count": 15
        }
      ]
    },
    {
      "cell_type": "markdown",
      "metadata": {
        "id": "lTDSYNOOyBe1"
      },
      "source": [
        "Observações:\n",
        "\n",
        "1. O Brasil é o país com o maior número de usuários, seguido por Portugal e ambos falam português. Porém se somarmos o número de usuários de Brasil e Portugal não dará o mesmo número de usuários por idioma em pt. Isso quer dizer que há mais países que falam português no dataset além de Brasil e Portugal.\n",
        "2. O número de usuários na Itália é maior do que na Espanha. Entretanto, o idioma Espanhol tem mais do que o dobro de usuários que o Italiano. Isso é porque há mais países falam Espanhol do que Italiano.\n",
        "3. Podemos observar que o número de usuários nos EUA é muito próximo do número de usuários que falam inglês, com isso poderíamos **erroneamente** considerar que a maioria dos usuários que estão nos EUA falam inglês. No entanto, podem haver usuários que estão no EUA e falam outro idioma. Os dois sub datasets apresentados são relacionados entre si apenas para o número de usuários. Para confirmar a hipótese de que a maioria dos usuários dos EUA falam inglẽs, seria necessário fazer uma relação entre país e idioma."
      ]
    },
    {
      "cell_type": "markdown",
      "metadata": {
        "id": "fR_8hjZ52jmn"
      },
      "source": [
        "### Sumário para o campo *texto*"
      ]
    },
    {
      "cell_type": "markdown",
      "metadata": {
        "id": "yDAufgPl2pW9"
      },
      "source": [
        "**Resuno geral:**\n",
        "> Possui 1658825 campos, onde 1653599 são únicos\n",
        "\n",
        "\n",
        "> Texto com maior frequência \"covid 19? desculpa eu entendi convite para ficar de love\", frequência do texto 120."
      ]
    },
    {
      "cell_type": "code",
      "metadata": {
        "id": "15PZlCpO2t4i",
        "outputId": "9c2746c7-44d3-47e3-a5a0-f86cb70f67e4",
        "colab": {
          "base_uri": "https://localhost:8080/",
          "height": 104
        }
      },
      "source": [
        "dataset.texto.describe()"
      ],
      "execution_count": 16,
      "outputs": [
        {
          "output_type": "execute_result",
          "data": {
            "text/plain": [
              "count                                               1658825\n",
              "unique                                              1653599\n",
              "top       covid 19? desculpa eu entendi convite pra fica...\n",
              "freq                                                    120\n",
              "Name: texto, dtype: object"
            ]
          },
          "metadata": {
            "tags": []
          },
          "execution_count": 16
        }
      ]
    },
    {
      "cell_type": "markdown",
      "metadata": {
        "id": "aC2QSw5j25oa"
      },
      "source": [
        "**Texto duplicados:**\n",
        "\n",
        "\n",
        "> Os texto que possuem maior duplicidade são:\n",
        "\n",
        "*   covid 19? desculpa eu entendi convite para ficar de love\n",
        "*   e vamos de pandemia\n",
        "* Temos muitos infectados, mas não é de coronavírus, é maldade e inveja...\n",
        "* e vamos de isolamento social"
      ]
    },
    {
      "cell_type": "code",
      "metadata": {
        "id": "BpYLItw63EOY",
        "outputId": "ceb7521f-62cd-4eee-9a73-a0f8f938e6da",
        "colab": {
          "base_uri": "https://localhost:8080/",
          "height": 424
        }
      },
      "source": [
        "duplicado  = dataset.texto.value_counts().reset_index().rename(columns={'index': 'Texto', 'texto': 'Total'})\n",
        "duplicado"
      ],
      "execution_count": 17,
      "outputs": [
        {
          "output_type": "execute_result",
          "data": {
            "text/html": [
              "<div>\n",
              "<style scoped>\n",
              "    .dataframe tbody tr th:only-of-type {\n",
              "        vertical-align: middle;\n",
              "    }\n",
              "\n",
              "    .dataframe tbody tr th {\n",
              "        vertical-align: top;\n",
              "    }\n",
              "\n",
              "    .dataframe thead th {\n",
              "        text-align: right;\n",
              "    }\n",
              "</style>\n",
              "<table border=\"1\" class=\"dataframe\">\n",
              "  <thead>\n",
              "    <tr style=\"text-align: right;\">\n",
              "      <th></th>\n",
              "      <th>Texto</th>\n",
              "      <th>Total</th>\n",
              "    </tr>\n",
              "  </thead>\n",
              "  <tbody>\n",
              "    <tr>\n",
              "      <th>0</th>\n",
              "      <td>covid 19? desculpa eu entendi convite pra fica...</td>\n",
              "      <td>120</td>\n",
              "    </tr>\n",
              "    <tr>\n",
              "      <th>1</th>\n",
              "      <td>e vamos de pandemia</td>\n",
              "      <td>82</td>\n",
              "    </tr>\n",
              "    <tr>\n",
              "      <th>2</th>\n",
              "      <td>Tem muitos infectados, mas não é de coronavíru...</td>\n",
              "      <td>70</td>\n",
              "    </tr>\n",
              "    <tr>\n",
              "      <th>3</th>\n",
              "      <td>e vamos de isolamento social</td>\n",
              "      <td>63</td>\n",
              "    </tr>\n",
              "    <tr>\n",
              "      <th>4</th>\n",
              "      <td>#Podcast - Tudo sobre o #Coronavirus aqui. Ouç...</td>\n",
              "      <td>50</td>\n",
              "    </tr>\n",
              "    <tr>\n",
              "      <th>...</th>\n",
              "      <td>...</td>\n",
              "      <td>...</td>\n",
              "    </tr>\n",
              "    <tr>\n",
              "      <th>1653594</th>\n",
              "      <td>Os dias do Governo Bolsonaro estão contados, o...</td>\n",
              "      <td>1</td>\n",
              "    </tr>\n",
              "    <tr>\n",
              "      <th>1653595</th>\n",
              "      <td>Quem tem epilepsia, controlada com medicamento...</td>\n",
              "      <td>1</td>\n",
              "    </tr>\n",
              "    <tr>\n",
              "      <th>1653596</th>\n",
              "      <td>@ArthurWeint O sr. Tem todo o direito de falar...</td>\n",
              "      <td>1</td>\n",
              "    </tr>\n",
              "    <tr>\n",
              "      <th>1653597</th>\n",
              "      <td>@rdsousapl Roger??\\nQuarentena, covid-19\\nQuer...</td>\n",
              "      <td>1</td>\n",
              "    </tr>\n",
              "    <tr>\n",
              "      <th>1653598</th>\n",
              "      <td>@danillopp @gjmederos @mateusfgoias @nadiabamb...</td>\n",
              "      <td>1</td>\n",
              "    </tr>\n",
              "  </tbody>\n",
              "</table>\n",
              "<p>1653599 rows × 2 columns</p>\n",
              "</div>"
            ],
            "text/plain": [
              "                                                     Texto  Total\n",
              "0        covid 19? desculpa eu entendi convite pra fica...    120\n",
              "1                                      e vamos de pandemia     82\n",
              "2        Tem muitos infectados, mas não é de coronavíru...     70\n",
              "3                             e vamos de isolamento social     63\n",
              "4        #Podcast - Tudo sobre o #Coronavirus aqui. Ouç...     50\n",
              "...                                                    ...    ...\n",
              "1653594  Os dias do Governo Bolsonaro estão contados, o...      1\n",
              "1653595  Quem tem epilepsia, controlada com medicamento...      1\n",
              "1653596  @ArthurWeint O sr. Tem todo o direito de falar...      1\n",
              "1653597  @rdsousapl Roger??\\nQuarentena, covid-19\\nQuer...      1\n",
              "1653598  @danillopp @gjmederos @mateusfgoias @nadiabamb...      1\n",
              "\n",
              "[1653599 rows x 2 columns]"
            ]
          },
          "metadata": {
            "tags": []
          },
          "execution_count": 17
        }
      ]
    },
    {
      "cell_type": "markdown",
      "metadata": {
        "id": "wLxEQ5marPJF"
      },
      "source": [
        "### Sumario para o campo *hashtags*"
      ]
    },
    {
      "cell_type": "markdown",
      "metadata": {
        "id": "sSh-sR6Kv6U9"
      },
      "source": [
        "**Resumo geral:**\n",
        "\n",
        "> Este campo possui 63838 campos únicos, a informação mais frenquente é o \"[ ]\"\n",
        "\n"
      ]
    },
    {
      "cell_type": "code",
      "metadata": {
        "id": "RXvNrCedwFQT",
        "outputId": "57daac03-0cc0-4b01-b2e9-26cebfea3caf",
        "colab": {
          "base_uri": "https://localhost:8080/",
          "height": 104
        }
      },
      "source": [
        "dataset.hashtags.describe()"
      ],
      "execution_count": 18,
      "outputs": [
        {
          "output_type": "execute_result",
          "data": {
            "text/plain": [
              "count     1658825\n",
              "unique      63838\n",
              "top            []\n",
              "freq      1495569\n",
              "Name: hashtags, dtype: object"
            ]
          },
          "metadata": {
            "tags": []
          },
          "execution_count": 18
        }
      ]
    },
    {
      "cell_type": "markdown",
      "metadata": {
        "id": "ASDkYo1h56a8"
      },
      "source": [
        "**Hashtags em destaque:**\n",
        "\n",
        "\n",
        "\n",
        "> Segue abaixo as 10 hashtags mais usadas:\n",
        "\n"
      ]
    },
    {
      "cell_type": "code",
      "metadata": {
        "id": "MN8FhrclzevY",
        "outputId": "ac5804bc-ea2a-40c8-d3c7-3f5379bce886",
        "colab": {
          "base_uri": "https://localhost:8080/",
          "height": 208
        }
      },
      "source": [
        "dataset.hashtags.value_counts()[:10]"
      ],
      "execution_count": 19,
      "outputs": [
        {
          "output_type": "execute_result",
          "data": {
            "text/plain": [
              "[]                 1495569\n",
              "['COVID19']           9951\n",
              "['coronavirus']       6658\n",
              "['Coronavirus']       3294\n",
              "['coronavírus']       2890\n",
              "['Covid_19']          2485\n",
              "['covid19']           2403\n",
              "['Covid19']           2367\n",
              "['Coronavírus']       1566\n",
              "['Repost']             831\n",
              "Name: hashtags, dtype: int64"
            ]
          },
          "metadata": {
            "tags": []
          },
          "execution_count": 19
        }
      ]
    },
    {
      "cell_type": "markdown",
      "metadata": {
        "id": "AcxhIIQr3xRn"
      },
      "source": [
        "\n",
        "\n",
        "> Uma apresentação das hashtags mais frequentes acima e menos frequentes abaixo.\n",
        "\n"
      ]
    },
    {
      "cell_type": "code",
      "metadata": {
        "id": "a8vkNIV7xs-h",
        "outputId": "217954af-9b83-430d-a6cb-635979a3dddf",
        "colab": {
          "base_uri": "https://localhost:8080/",
          "height": 225
        }
      },
      "source": [
        "dataset.hashtags.value_counts()"
      ],
      "execution_count": 20,
      "outputs": [
        {
          "output_type": "execute_result",
          "data": {
            "text/plain": [
              "[]                                                           1495569\n",
              "['COVID19']                                                     9951\n",
              "['coronavirus']                                                 6658\n",
              "['Coronavirus']                                                 3294\n",
              "['coronavírus']                                                 2890\n",
              "                                                              ...   \n",
              "['EndThisNightmare', 'COVID19', 'November3rd']                     1\n",
              "['anonymus', 'coronavirus', 'BlakeLivesMatter']                    1\n",
              "['grandescontos', 'hplovecraft', 'lovecraft']                      1\n",
              "['EUA', 'Brasil', 'Cloroquina']                                    1\n",
              "['flamengo', 'Covid19', 'CoronaUpdate', 'MengaoQueridao']          1\n",
              "Name: hashtags, Length: 63838, dtype: int64"
            ]
          },
          "metadata": {
            "tags": []
          },
          "execution_count": 20
        }
      ]
    },
    {
      "cell_type": "markdown",
      "metadata": {
        "id": "G8U-XtLP7dUI"
      },
      "source": [
        "### Sumario para o campo *idioma*"
      ]
    },
    {
      "cell_type": "markdown",
      "metadata": {
        "id": "4xxn-C3r7xkh"
      },
      "source": [
        "**Resumo geral:**\n",
        "\n",
        "\n",
        "\n",
        "> No campo idioma temos 59 registros únicos, onde o maior frequente é \"pt\" com 1586796\n",
        "\n"
      ]
    },
    {
      "cell_type": "code",
      "metadata": {
        "id": "-5TOI56572GZ",
        "outputId": "aaaf8534-987b-4be4-865e-f5327ee43f3e",
        "colab": {
          "base_uri": "https://localhost:8080/",
          "height": 104
        }
      },
      "source": [
        "dataset.idioma.describe()"
      ],
      "execution_count": 21,
      "outputs": [
        {
          "output_type": "execute_result",
          "data": {
            "text/plain": [
              "count     1658825\n",
              "unique         59\n",
              "top            pt\n",
              "freq      1586796\n",
              "Name: idioma, dtype: object"
            ]
          },
          "metadata": {
            "tags": []
          },
          "execution_count": 21
        }
      ]
    },
    {
      "cell_type": "markdown",
      "metadata": {
        "id": "9-Alg_Jv8Gjt"
      },
      "source": [
        "\n",
        "\n",
        "> Contagem de registro por pais\n",
        "\n"
      ]
    },
    {
      "cell_type": "code",
      "metadata": {
        "id": "i2kL6-zP7jE3",
        "outputId": "fb4c2c6a-69aa-4c2a-baab-f06cea4131ff",
        "colab": {
          "base_uri": "https://localhost:8080/",
          "height": 1000
        }
      },
      "source": [
        "dataset.idioma.value_counts()"
      ],
      "execution_count": 22,
      "outputs": [
        {
          "output_type": "execute_result",
          "data": {
            "text/plain": [
              "pt     1586796\n",
              "en       23991\n",
              "es       14255\n",
              "it        6480\n",
              "und       5656\n",
              "ar        4579\n",
              "fr        3656\n",
              "ca        2600\n",
              "tr        2296\n",
              "ja        1955\n",
              "in         948\n",
              "th         890\n",
              "tl         604\n",
              "ko         544\n",
              "hi         485\n",
              "ru         417\n",
              "de         361\n",
              "pl         262\n",
              "fa         258\n",
              "nl         208\n",
              "ur         179\n",
              "ht         167\n",
              "et         162\n",
              "eu         116\n",
              "el          94\n",
              "lt          86\n",
              "sv          84\n",
              "cs          72\n",
              "no          56\n",
              "zh          51\n",
              "da          45\n",
              "ro          45\n",
              "fi          44\n",
              "cy          39\n",
              "uk          37\n",
              "iw          36\n",
              "lv          36\n",
              "ta          32\n",
              "hu          26\n",
              "vi          23\n",
              "is          21\n",
              "sr          20\n",
              "sl          18\n",
              "te          17\n",
              "sd          12\n",
              "ne          11\n",
              "bn          10\n",
              "mr          10\n",
              "gu           7\n",
              "ps           6\n",
              "ckb          5\n",
              "bg           4\n",
              "am           4\n",
              "or           2\n",
              "si           2\n",
              "ml           2\n",
              "my           1\n",
              "dv           1\n",
              "kn           1\n",
              "Name: idioma, dtype: int64"
            ]
          },
          "metadata": {
            "tags": []
          },
          "execution_count": 22
        }
      ]
    },
    {
      "cell_type": "markdown",
      "metadata": {
        "id": "u3NUuHK983aP"
      },
      "source": [
        "\n",
        "\n",
        "> Contagem de usuarios por pais\n",
        "\n"
      ]
    },
    {
      "cell_type": "code",
      "metadata": {
        "id": "uzhbpB868m18",
        "outputId": "27a35083-e6bb-413d-ea11-5797678c01db",
        "colab": {
          "base_uri": "https://localhost:8080/",
          "height": 1000
        }
      },
      "source": [
        "dataset.groupby('idioma').usuario.count()"
      ],
      "execution_count": 23,
      "outputs": [
        {
          "output_type": "execute_result",
          "data": {
            "text/plain": [
              "idioma\n",
              "am           4\n",
              "ar        4578\n",
              "bg           4\n",
              "bn          10\n",
              "ca        2600\n",
              "ckb          5\n",
              "cs          72\n",
              "cy          39\n",
              "da          45\n",
              "de         361\n",
              "dv           1\n",
              "el          94\n",
              "en       23991\n",
              "es       14255\n",
              "et         162\n",
              "eu         116\n",
              "fa         258\n",
              "fi          44\n",
              "fr        3655\n",
              "gu           7\n",
              "hi         485\n",
              "ht         167\n",
              "hu          26\n",
              "in         948\n",
              "is          21\n",
              "it        6480\n",
              "iw          36\n",
              "ja        1955\n",
              "kn           1\n",
              "ko         544\n",
              "lt          86\n",
              "lv          36\n",
              "ml           2\n",
              "mr          10\n",
              "my           1\n",
              "ne          11\n",
              "nl         208\n",
              "no          56\n",
              "or           2\n",
              "pl         262\n",
              "ps           6\n",
              "pt     1586743\n",
              "ro          45\n",
              "ru         417\n",
              "sd          12\n",
              "si           2\n",
              "sl          18\n",
              "sr          20\n",
              "sv          84\n",
              "ta          32\n",
              "te          17\n",
              "th         889\n",
              "tl         604\n",
              "tr        2296\n",
              "uk          37\n",
              "und       5655\n",
              "ur         179\n",
              "vi          23\n",
              "zh          51\n",
              "Name: usuario, dtype: int64"
            ]
          },
          "metadata": {
            "tags": []
          },
          "execution_count": 23
        }
      ]
    },
    {
      "cell_type": "markdown",
      "metadata": {
        "id": "GqdF_V6wwJUg"
      },
      "source": [
        "### Sumario para o campo retweet\n",
        "\n",
        "\n",
        "> Média de retweets por idioma\n",
        "\n"
      ]
    },
    {
      "cell_type": "code",
      "metadata": {
        "id": "cWPR5teD03aN",
        "outputId": "ef3a132b-9be2-4352-d26d-6056d47dfe05",
        "colab": {
          "base_uri": "https://localhost:8080/",
          "height": 1000
        }
      },
      "source": [
        "retweet_idioma = dataset.groupby('idioma').retweet.mean()\n",
        "\n",
        "retweet_idioma.sort_values(ascending=False)"
      ],
      "execution_count": 24,
      "outputs": [
        {
          "output_type": "execute_result",
          "data": {
            "text/plain": [
              "idioma\n",
              "ko     71714.169118\n",
              "th     11485.112360\n",
              "en      8583.975574\n",
              "und     2974.349364\n",
              "in      2073.594937\n",
              "ja      2048.657289\n",
              "fr      1897.999726\n",
              "da      1181.511111\n",
              "cy       973.871795\n",
              "es       853.611926\n",
              "zh       754.588235\n",
              "fi       620.909091\n",
              "hi       589.490722\n",
              "et       561.043210\n",
              "tr       533.895035\n",
              "te       496.117647\n",
              "ro       393.066667\n",
              "ar       367.008080\n",
              "ht       306.419162\n",
              "cs       275.305556\n",
              "tl       259.064570\n",
              "ur       253.055866\n",
              "sd       239.166667\n",
              "ta       214.750000\n",
              "dv       205.000000\n",
              "hu       199.307692\n",
              "de       183.986150\n",
              "lt       164.872093\n",
              "uk       145.054054\n",
              "sl       140.833333\n",
              "vi       118.956522\n",
              "eu       117.465517\n",
              "my       108.000000\n",
              "or       106.500000\n",
              "fa        82.992248\n",
              "pl        79.530534\n",
              "sr        74.950000\n",
              "kn        62.000000\n",
              "ru        56.093525\n",
              "el        46.882979\n",
              "nl        43.788462\n",
              "mr        43.000000\n",
              "bn        30.500000\n",
              "it        27.114969\n",
              "gu        19.428571\n",
              "ca        18.160769\n",
              "pt        16.993245\n",
              "ne        13.363636\n",
              "sv        10.940476\n",
              "ps         9.833333\n",
              "is         9.380952\n",
              "no         5.589286\n",
              "iw         4.666667\n",
              "bg         1.250000\n",
              "ckb        0.800000\n",
              "lv         0.305556\n",
              "ml         0.000000\n",
              "si         0.000000\n",
              "am         0.000000\n",
              "Name: retweet, dtype: float64"
            ]
          },
          "metadata": {
            "tags": []
          },
          "execution_count": 24
        }
      ]
    },
    {
      "cell_type": "markdown",
      "metadata": {
        "id": "UlKx-P-q7MSz"
      },
      "source": [
        "\n",
        "\n",
        "> Somatoria de retweets por texto\n",
        "\n"
      ]
    },
    {
      "cell_type": "code",
      "metadata": {
        "id": "n6OKQc993_Zq",
        "outputId": "ba1052ab-c412-4cec-9ff4-1ee43c32524c",
        "colab": {
          "base_uri": "https://localhost:8080/",
          "height": 243
        }
      },
      "source": [
        "retweet_texto = dataset.groupby('texto').retweet.sum()\n",
        "\n",
        "retweet_texto.sort_values(ascending=False)"
      ],
      "execution_count": 25,
      "outputs": [
        {
          "output_type": "execute_result",
          "data": {
            "text/plain": [
              "texto\n",
              "RT @BTS_twt: 하루종일 쉬는중!\\n우리 아미들도 쉬는날엔 하루종일 쉽시다\\n#BOTD #BTS_OF_THE_DAY https://t.co/1ImqLijZHa                                                     3630493\n",
              "RT @OfficialMLK3: As my father explained during his lifetime, a riot is the language of the unheard.                                             3334793\n",
              "RT @andymilonakis: Congratulations to the Astronauts that left Earth today. Good choice                                                          3219652\n",
              "RT @BTS_twt: D-2 #AgustD https://t.co/2BPGGs8KbN                                                                                                 3072179\n",
              "RT @OfficialMLK3: No justice, no peace. No justice, no peace. No justice, no peace.                                                              2878644\n",
              "                                                                                                                                                  ...   \n",
              "Isso é bobagem! A questão não é o Bozo, e sim tratar um continente chamado Brasil como se tudo se resumisse ao Rio… https://t.co/GCjPRRwi5y            0\n",
              "Isso é cachaceiro querendo tomar uma pinga pra combater o covid19 https://t.co/XBjsTic5Wv                                                              0\n",
              "Isso é cara que está em quarentena desde que nasceu. https://t.co/UMGhiuF4Ke                                                                           0\n",
              "Isso é carência ou corona vírus?                                                                                                                       0\n",
              "!\\nclaro que o coronavírus é importante mas aqui a gente já tem as nossas doenças tropicais que têm uma taxa de mort… https://t.co/xqKiTFhJ9K          0\n",
              "Name: retweet, Length: 1653599, dtype: int64"
            ]
          },
          "metadata": {
            "tags": []
          },
          "execution_count": 25
        }
      ]
    },
    {
      "cell_type": "markdown",
      "metadata": {
        "id": "9VIbXKvK7T54"
      },
      "source": [
        "\n",
        "\n",
        "> Somatorio de retweets por pais\n",
        "\n"
      ]
    },
    {
      "cell_type": "code",
      "metadata": {
        "id": "KS-rQolU412T",
        "outputId": "177e7fb4-5c40-4a17-84e5-42aa89140728",
        "colab": {
          "base_uri": "https://localhost:8080/",
          "height": 243
        }
      },
      "source": [
        "retweet_pais = dataset.groupby('pais').retweet.sum()\n",
        "\n",
        "retweet_pais.sort_values(ascending=False)"
      ],
      "execution_count": 26,
      "outputs": [
        {
          "output_type": "execute_result",
          "data": {
            "text/plain": [
              "pais\n",
              "Brazil           218346\n",
              "Portugal          11874\n",
              "United States      4501\n",
              "France             2534\n",
              "Italy               669\n",
              "                  ...  \n",
              "Lithuania             0\n",
              "Luxembourg            0\n",
              "Macau                 0\n",
              "Malaysia              0\n",
              "Andorra               0\n",
              "Name: retweet, Length: 121, dtype: int64"
            ]
          },
          "metadata": {
            "tags": []
          },
          "execution_count": 26
        }
      ]
    },
    {
      "cell_type": "markdown",
      "metadata": {
        "id": "WiOcd3K14gij"
      },
      "source": [
        "\n",
        "\n",
        "> Usuários com maiores retweets\n",
        "\n"
      ]
    },
    {
      "cell_type": "code",
      "metadata": {
        "id": "Pg_JdGuW9TaS",
        "outputId": "adc47c4d-e2a5-4603-cfb8-8e862e9fcfba",
        "colab": {
          "base_uri": "https://localhost:8080/",
          "height": 243
        }
      },
      "source": [
        "retweet_usuario = dataset.groupby('usuario').retweet.max()\n",
        "\n",
        "retweet_usuario.sort_values(ascending=False)"
      ],
      "execution_count": 27,
      "outputs": [
        {
          "output_type": "execute_result",
          "data": {
            "text/plain": [
              "usuario\n",
              "Maryy                         1139763\n",
              "My cabbages!!                  989485\n",
              "Tr1gger Mike                   901093\n",
              "tweets not loading             850226\n",
              "Lyndsay⁷                       842837\n",
              "                               ...   \n",
              "Thiago Vasconcelos                  0\n",
              "Thiago Vasconcelos Pereira          0\n",
              "Thiago Ventura 🇧🇷 🚘                 0\n",
              "Thiago Viana Carraro                0\n",
              " ESTSOCCIENCIA                      0\n",
              "Name: retweet, Length: 632601, dtype: int64"
            ]
          },
          "metadata": {
            "tags": []
          },
          "execution_count": 27
        }
      ]
    },
    {
      "cell_type": "markdown",
      "metadata": {
        "id": "AsWHQYCl-VFZ"
      },
      "source": [
        "\n",
        "\n",
        "> Hashtags com maiores quantidade de retweets\n",
        "\n"
      ]
    },
    {
      "cell_type": "code",
      "metadata": {
        "id": "fm1cnnZa-HWg",
        "outputId": "21df1f5f-fd35-4bec-c9c7-44d7bfc4c69a",
        "colab": {
          "base_uri": "https://localhost:8080/",
          "height": 243
        }
      },
      "source": [
        "retweent_hashtags = dataset.groupby('hashtags').retweet.sum()\n",
        "\n",
        "retweent_hashtags.sort_values(ascending=False)"
      ],
      "execution_count": 29,
      "outputs": [
        {
          "output_type": "execute_result",
          "data": {
            "text/plain": [
              "hashtags\n",
              "[]                                                                              287100210\n",
              "['BOTD', 'BTS_OF_THE_DAY']                                                        8416915\n",
              "['AgustD']                                                                        3072179\n",
              "['0613FM_0515']                                                                   2664793\n",
              "['JIMIN']                                                                         2504973\n",
              "                                                                                  ...    \n",
              "['bordercollie', 'covid_19', 'pastoreio', 'herdingdog']                                 0\n",
              "['boraviajar', 'ferias', 'virus', 'Coronavirus', 'saude']                               0\n",
              "['boratrabalhar']                                                                       0\n",
              "['boratrabalhar', 'ficaemcasa', 'ficaemcasaporra', 'covid_19', 'quarentena']            0\n",
              "['007SemTempoParaMorrer', 'Coronavirus']                                                0\n",
              "Name: retweet, Length: 63838, dtype: int64"
            ]
          },
          "metadata": {
            "tags": []
          },
          "execution_count": 29
        }
      ]
    },
    {
      "cell_type": "markdown",
      "metadata": {
        "id": "bHgFMh5qOMGq"
      },
      "source": [
        "## Aplicando tratamento ao *dataset*"
      ]
    },
    {
      "cell_type": "markdown",
      "metadata": {
        "id": "NZdV3JIUNc7y"
      },
      "source": [
        "### Removendo duplicatas"
      ]
    },
    {
      "cell_type": "markdown",
      "metadata": {
        "id": "1VDVwNyCN95t"
      },
      "source": [
        "### Categorizando variáveis"
      ]
    },
    {
      "cell_type": "markdown",
      "metadata": {
        "id": "e7dLY8dP9jWa"
      },
      "source": [
        "## Dividindo o dataset em *Training set* e *Test set*"
      ]
    }
  ]
}