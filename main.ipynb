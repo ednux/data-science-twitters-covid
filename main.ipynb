{
  "nbformat": 4,
  "nbformat_minor": 0,
  "metadata": {
    "colab": {
      "name": "main.ipynb",
      "provenance": [],
      "collapsed_sections": [
        "_WQzEZyzIRNu",
        "8n1treyy5vtF",
        "fR_8hjZ52jmn",
        "wLxEQ5marPJF",
        "G8U-XtLP7dUI",
        "bHgFMh5qOMGq"
      ],
      "toc_visible": true,
      "include_colab_link": true
    },
    "kernelspec": {
      "name": "python3",
      "display_name": "Python 3"
    }
  },
  "cells": [
    {
      "cell_type": "markdown",
      "metadata": {
        "id": "view-in-github",
        "colab_type": "text"
      },
      "source": [
        "<a href=\"https://colab.research.google.com/github/ehdob-cid20/trabalho-pratico/blob/master/main.ipynb\" target=\"_parent\"><img src=\"https://colab.research.google.com/assets/colab-badge.svg\" alt=\"Open In Colab\"/></a>"
      ]
    },
    {
      "cell_type": "code",
      "metadata": {
        "id": "Wx0uiePrALoV",
        "colab_type": "code",
        "colab": {
          "base_uri": "https://localhost:8080/",
          "height": 54
        },
        "outputId": "843ae3e5-e043-44bd-eaf5-9054cb20a4c9"
      },
      "source": [
        "from google.colab import drive\n",
        "drive.mount('/content/drive')"
      ],
      "execution_count": 18,
      "outputs": [
        {
          "output_type": "stream",
          "text": [
            "Drive already mounted at /content/drive; to attempt to forcibly remount, call drive.mount(\"/content/drive\", force_remount=True).\n"
          ],
          "name": "stdout"
        }
      ]
    },
    {
      "cell_type": "markdown",
      "metadata": {
        "id": "vjBzc5Ox7E1F",
        "colab_type": "text"
      },
      "source": [
        "#  Pré Processamento"
      ]
    },
    {
      "cell_type": "markdown",
      "metadata": {
        "id": "cQYwi7538mn7",
        "colab_type": "text"
      },
      "source": [
        "## Importando as bibliotecas"
      ]
    },
    {
      "cell_type": "code",
      "metadata": {
        "id": "rgaKgD7bUhCk",
        "colab_type": "code",
        "colab": {}
      },
      "source": [
        "import pandas as pd\n",
        "import numpy as np\n",
        "import matplotlib.pyplot as plt"
      ],
      "execution_count": 19,
      "outputs": []
    },
    {
      "cell_type": "markdown",
      "metadata": {
        "id": "hEcp8tKR8uKM",
        "colab_type": "text"
      },
      "source": [
        "## Importando o *dataset*"
      ]
    },
    {
      "cell_type": "markdown",
      "metadata": {
        "id": "_WQzEZyzIRNu",
        "colab_type": "text"
      },
      "source": [
        "### Verifica se o dataset já foi importado para o google drive"
      ]
    },
    {
      "cell_type": "markdown",
      "metadata": {
        "id": "NlH5_zg1IRGK",
        "colab_type": "text"
      },
      "source": [
        "Um script que verifica se o dataset já foi importado para o google drive. Caso ainda não tenha sido importado, ele faz o download do arquivo e extrai para a pasta informada na variável **dirName**.\n",
        "\n",
        "Variáveis:\n",
        "\n",
        "> **datasetFileName** é o nome do arquivo com extensão.\n",
        "\n",
        "> **datsetUrl** é o endereço web onde o arquivo está disponível.\n",
        "\n",
        "> **dirName** é o diretório do google drive onde o dataset será salvo.\n",
        "\n",
        "Nota: O diretório de salvamento (*dirName*) precisa existir.\n"
      ]
    },
    {
      "cell_type": "code",
      "metadata": {
        "id": "z_lj59w9JoXK",
        "colab_type": "code",
        "colab": {
          "base_uri": "https://localhost:8080/",
          "height": 0
        },
        "outputId": "35bb4e18-cf51-40ce-ac12-897da8f34449"
      },
      "source": [
        "import os\n",
        "\n",
        "datasetFileName = 'dados-curso-completo.csv.tar.gz'\n",
        "datsetUrl = 'http://tiagodemelo.info/datasets/dados-curso-completo.csv.tar.gz'\n",
        "dirName = 'trabalho-pratico' # Este diretorio pode ser alterado se ja tiver o dataset no google drive.\n",
        "\n",
        "if False == os.path.isfile('/content/drive/My Drive/' + dirName + '/' + datasetFileName[:-7]):\n",
        "  if False == os.path.isdir('/content/drive'):\n",
        "    print('Google driver não está montado!')\n",
        "  elif False == os.path.isdir('/content/drive/My Drive/' +  dirName + '/'):\n",
        "    print('Diretório ' + dirName + ' não encontrado.')\n",
        "  elif False == os.path.isfile('/content/drive/My Drive/' + dirName + '/' + datasetFileName):\n",
        "    !wget -O '/content/drive/My Drive/$dirName/$datasetFileName' '$datsetUrl' #TODO: handle download errors.\n",
        "    !tar -C '/content/drive/My Drive/$dirName/{datasetFileName[:-7]}' -zxf '/content/drive/My Drive/$dirName/$datasetFileName' #TODO: handle extract errors.\n",
        "  else:\n",
        "    !tar -C '/content/drive/My Drive/$dirName/' -zxf '/content/drive/My Drive/$dirName/$datasetFileName' #TODO: handle extract errors.\n",
        "else:\n",
        "  print('O dataset ' + datasetFileName[:-7] + ' foi encontrado.')"
      ],
      "execution_count": 20,
      "outputs": [
        {
          "output_type": "stream",
          "text": [
            "O dataset dados-curso-completo.csv foi encontrado.\n"
          ],
          "name": "stdout"
        }
      ]
    },
    {
      "cell_type": "markdown",
      "metadata": {
        "id": "0MQ-QxKNJnGN",
        "colab_type": "text"
      },
      "source": [
        "### Importando o *dataset* usando pandas"
      ]
    },
    {
      "cell_type": "code",
      "metadata": {
        "id": "Ey0uEq__Lgdp",
        "colab_type": "code",
        "colab": {}
      },
      "source": [
        "dataset = pd.read_csv('/content/drive/My Drive/' + dirName + '/' + datasetFileName[:-7])"
      ],
      "execution_count": 21,
      "outputs": []
    },
    {
      "cell_type": "markdown",
      "metadata": {
        "id": "HPEvldwlNEU4",
        "colab_type": "text"
      },
      "source": [
        "## Visualizando o *dataset* inicial (sem qualquer tratamento)"
      ]
    },
    {
      "cell_type": "markdown",
      "metadata": {
        "id": "BRUjyfTJ475S",
        "colab_type": "text"
      },
      "source": [
        "\n",
        "\n",
        "> Segue uma informação geral do dataset tento colunas, contagem e tipo. Em seguida segue uma visão geral de cada campo.\n",
        "\n"
      ]
    },
    {
      "cell_type": "code",
      "metadata": {
        "id": "XmJaNSzL49-l",
        "colab_type": "code",
        "colab": {
          "base_uri": "https://localhost:8080/",
          "height": 357
        },
        "outputId": "6a9b11b5-7606-498b-c602-f576342864ed"
      },
      "source": [
        "dataset.info()"
      ],
      "execution_count": 28,
      "outputs": [
        {
          "output_type": "stream",
          "text": [
            "<class 'pandas.core.frame.DataFrame'>\n",
            "RangeIndex: 1658825 entries, 0 to 1658824\n",
            "Data columns (total 13 columns):\n",
            " #   Column      Non-Null Count    Dtype  \n",
            "---  ------      --------------    -----  \n",
            " 0   data        1658825 non-null  object \n",
            " 1   usuario     1658768 non-null  object \n",
            " 2   apelido     1658825 non-null  object \n",
            " 3   texto       1658825 non-null  object \n",
            " 4   retweet     1658825 non-null  int64  \n",
            " 5   seguidores  1658825 non-null  int64  \n",
            " 6   idioma      1658825 non-null  object \n",
            " 7   lugar       74605 non-null    object \n",
            " 8   pais        74600 non-null    object \n",
            " 9   sigla       74595 non-null    object \n",
            " 10  latitude    8720 non-null     float64\n",
            " 11  longitude   8720 non-null     float64\n",
            " 12  hashtags    1658825 non-null  object \n",
            "dtypes: float64(2), int64(2), object(9)\n",
            "memory usage: 164.5+ MB\n"
          ],
          "name": "stdout"
        }
      ]
    },
    {
      "cell_type": "markdown",
      "metadata": {
        "id": "8n1treyy5vtF",
        "colab_type": "text"
      },
      "source": [
        "### Sumário para o campo *usuario*"
      ]
    },
    {
      "cell_type": "markdown",
      "metadata": {
        "id": "Zi5IBQN0Asvm",
        "colab_type": "text"
      },
      "source": [
        "**Resumo geral:**\n",
        "> Possui 1.658.768 campos, onde 632.601 são únicos e 57 estão nulos.\n",
        "\n",
        "> Usuário com maior frequência '.',  aparece 1624."
      ]
    },
    {
      "cell_type": "code",
      "metadata": {
        "id": "DsfHscVNAnWi",
        "colab_type": "code",
        "colab": {
          "base_uri": "https://localhost:8080/",
          "height": 104
        },
        "outputId": "ffc5ec5c-02ba-48a8-9fc2-a95a7d9c6370"
      },
      "source": [
        "dataset.usuario.describe()"
      ],
      "execution_count": null,
      "outputs": [
        {
          "output_type": "execute_result",
          "data": {
            "text/plain": [
              "count     1658768\n",
              "unique     632601\n",
              "top             .\n",
              "freq         1624\n",
              "Name: usuario, dtype: object"
            ]
          },
          "metadata": {
            "tags": []
          },
          "execution_count": 20
        }
      ]
    },
    {
      "cell_type": "code",
      "metadata": {
        "id": "mLC1pE6eAoFh",
        "colab_type": "code",
        "colab": {
          "base_uri": "https://localhost:8080/",
          "height": 34
        },
        "outputId": "3b002236-23d7-49a3-abe1-3088460fb77b"
      },
      "source": [
        "print ('Número de campos nulos: ' +str(dataset.usuario.isnull().sum()))"
      ],
      "execution_count": null,
      "outputs": [
        {
          "output_type": "stream",
          "text": [
            "Número de campos nulos: 57\n"
          ],
          "name": "stdout"
        }
      ]
    },
    {
      "cell_type": "markdown",
      "metadata": {
        "id": "fR_8hjZ52jmn",
        "colab_type": "text"
      },
      "source": [
        "### Sumário para o campo *texto*"
      ]
    },
    {
      "cell_type": "markdown",
      "metadata": {
        "id": "yDAufgPl2pW9",
        "colab_type": "text"
      },
      "source": [
        "**Resuno geral:**\n",
        "> Possui 1658825 campos, onde 1653599 são únicos\n",
        "\n",
        "\n",
        "> Texto com maior frequência \"covid 19? desculpa eu entendi convite para ficar de love\", frequência do texto 120."
      ]
    },
    {
      "cell_type": "code",
      "metadata": {
        "id": "15PZlCpO2t4i",
        "colab_type": "code",
        "colab": {
          "base_uri": "https://localhost:8080/",
          "height": 102
        },
        "outputId": "31879e32-0a28-416e-e01c-482d6799adcb"
      },
      "source": [
        "dataset.texto.describe()"
      ],
      "execution_count": null,
      "outputs": [
        {
          "output_type": "execute_result",
          "data": {
            "text/plain": [
              "count                                               1658825\n",
              "unique                                              1653599\n",
              "top       covid 19? desculpa eu entendi convite pra fica...\n",
              "freq                                                    120\n",
              "Name: texto, dtype: object"
            ]
          },
          "metadata": {
            "tags": []
          },
          "execution_count": 10
        }
      ]
    },
    {
      "cell_type": "markdown",
      "metadata": {
        "id": "aC2QSw5j25oa",
        "colab_type": "text"
      },
      "source": [
        "**Texto duplicados:**\n",
        "\n",
        "\n",
        "> Os texto que possuem maior duplicidade são:\n",
        "\n",
        "*   covid 19? desculpa eu entendi convite para ficar de love\n",
        "*   e vamos de pandemia\n",
        "* Temos muitos infectados, mas não é de coronavírus, é maldade e inveja...\n",
        "* e vamos de isolamento social"
      ]
    },
    {
      "cell_type": "code",
      "metadata": {
        "id": "BpYLItw63EOY",
        "colab_type": "code",
        "colab": {
          "base_uri": "https://localhost:8080/",
          "height": 419
        },
        "outputId": "397a24de-6b36-4ff7-8f95-eafb7b46a4a5"
      },
      "source": [
        "duplicado  = dataset.texto.value_counts().reset_index().rename(columns={'index': 'Texto', 'texto': 'Total'})\n",
        "duplicado"
      ],
      "execution_count": null,
      "outputs": [
        {
          "output_type": "execute_result",
          "data": {
            "text/html": [
              "<div>\n",
              "<style scoped>\n",
              "    .dataframe tbody tr th:only-of-type {\n",
              "        vertical-align: middle;\n",
              "    }\n",
              "\n",
              "    .dataframe tbody tr th {\n",
              "        vertical-align: top;\n",
              "    }\n",
              "\n",
              "    .dataframe thead th {\n",
              "        text-align: right;\n",
              "    }\n",
              "</style>\n",
              "<table border=\"1\" class=\"dataframe\">\n",
              "  <thead>\n",
              "    <tr style=\"text-align: right;\">\n",
              "      <th></th>\n",
              "      <th>Texto</th>\n",
              "      <th>Total</th>\n",
              "    </tr>\n",
              "  </thead>\n",
              "  <tbody>\n",
              "    <tr>\n",
              "      <th>0</th>\n",
              "      <td>covid 19? desculpa eu entendi convite pra fica...</td>\n",
              "      <td>120</td>\n",
              "    </tr>\n",
              "    <tr>\n",
              "      <th>1</th>\n",
              "      <td>e vamos de pandemia</td>\n",
              "      <td>82</td>\n",
              "    </tr>\n",
              "    <tr>\n",
              "      <th>2</th>\n",
              "      <td>Tem muitos infectados, mas não é de coronavíru...</td>\n",
              "      <td>70</td>\n",
              "    </tr>\n",
              "    <tr>\n",
              "      <th>3</th>\n",
              "      <td>e vamos de isolamento social</td>\n",
              "      <td>63</td>\n",
              "    </tr>\n",
              "    <tr>\n",
              "      <th>4</th>\n",
              "      <td>#Podcast - Tudo sobre o #Coronavirus aqui. Ouç...</td>\n",
              "      <td>50</td>\n",
              "    </tr>\n",
              "    <tr>\n",
              "      <th>...</th>\n",
              "      <td>...</td>\n",
              "      <td>...</td>\n",
              "    </tr>\n",
              "    <tr>\n",
              "      <th>1653594</th>\n",
              "      <td>“Decidi doar metade do meu salário de Vereador...</td>\n",
              "      <td>1</td>\n",
              "    </tr>\n",
              "    <tr>\n",
              "      <th>1653595</th>\n",
              "      <td>@OsmarTerra INFECTOLOGISTA DIDIER RAOULT QUE P...</td>\n",
              "      <td>1</td>\n",
              "    </tr>\n",
              "    <tr>\n",
              "      <th>1653596</th>\n",
              "      <td>RT @birbteef: BMR 41 https://t.co/SKmb7eaD8e</td>\n",
              "      <td>1</td>\n",
              "    </tr>\n",
              "    <tr>\n",
              "      <th>1653597</th>\n",
              "      <td>Coronavírus\\nApós cobranças do SINDSALEM, ALEM...</td>\n",
              "      <td>1</td>\n",
              "    </tr>\n",
              "    <tr>\n",
              "      <th>1653598</th>\n",
              "      <td>Comecei a jogar lol... Efeitos dessa quarentena</td>\n",
              "      <td>1</td>\n",
              "    </tr>\n",
              "  </tbody>\n",
              "</table>\n",
              "<p>1653599 rows × 2 columns</p>\n",
              "</div>"
            ],
            "text/plain": [
              "                                                     Texto  Total\n",
              "0        covid 19? desculpa eu entendi convite pra fica...    120\n",
              "1                                      e vamos de pandemia     82\n",
              "2        Tem muitos infectados, mas não é de coronavíru...     70\n",
              "3                             e vamos de isolamento social     63\n",
              "4        #Podcast - Tudo sobre o #Coronavirus aqui. Ouç...     50\n",
              "...                                                    ...    ...\n",
              "1653594  “Decidi doar metade do meu salário de Vereador...      1\n",
              "1653595  @OsmarTerra INFECTOLOGISTA DIDIER RAOULT QUE P...      1\n",
              "1653596       RT @birbteef: BMR 41 https://t.co/SKmb7eaD8e      1\n",
              "1653597  Coronavírus\\nApós cobranças do SINDSALEM, ALEM...      1\n",
              "1653598    Comecei a jogar lol... Efeitos dessa quarentena      1\n",
              "\n",
              "[1653599 rows x 2 columns]"
            ]
          },
          "metadata": {
            "tags": []
          },
          "execution_count": 12
        }
      ]
    },
    {
      "cell_type": "markdown",
      "metadata": {
        "id": "wLxEQ5marPJF",
        "colab_type": "text"
      },
      "source": [
        "### Sumario para o campo *hashtags*"
      ]
    },
    {
      "cell_type": "markdown",
      "metadata": {
        "id": "sSh-sR6Kv6U9",
        "colab_type": "text"
      },
      "source": [
        "**Resumo geral:**\n",
        "\n",
        "> Este campo possui 63838 campos únicos, a informação mais frenquente é o \"[ ]\"\n",
        "\n"
      ]
    },
    {
      "cell_type": "code",
      "metadata": {
        "id": "RXvNrCedwFQT",
        "colab_type": "code",
        "colab": {
          "base_uri": "https://localhost:8080/",
          "height": 102
        },
        "outputId": "912f861c-3b6d-460e-c577-76f0bb1ccff7"
      },
      "source": [
        "dataset.hashtags.describe()"
      ],
      "execution_count": 22,
      "outputs": [
        {
          "output_type": "execute_result",
          "data": {
            "text/plain": [
              "count     1658825\n",
              "unique      63838\n",
              "top            []\n",
              "freq      1495569\n",
              "Name: hashtags, dtype: object"
            ]
          },
          "metadata": {
            "tags": []
          },
          "execution_count": 22
        }
      ]
    },
    {
      "cell_type": "markdown",
      "metadata": {
        "id": "ASDkYo1h56a8",
        "colab_type": "text"
      },
      "source": [
        "**Hashtags em destaque:**\n",
        "\n",
        "\n",
        "\n",
        "> Segue abaixo as 10 hashtags mais usadas:\n",
        "\n"
      ]
    },
    {
      "cell_type": "code",
      "metadata": {
        "id": "MN8FhrclzevY",
        "colab_type": "code",
        "colab": {
          "base_uri": "https://localhost:8080/",
          "height": 204
        },
        "outputId": "91236140-da83-4a4b-81cf-50b1ea9968e9"
      },
      "source": [
        "dataset.hashtags.value_counts()[:10]"
      ],
      "execution_count": 31,
      "outputs": [
        {
          "output_type": "execute_result",
          "data": {
            "text/plain": [
              "[]                 1495569\n",
              "['COVID19']           9951\n",
              "['coronavirus']       6658\n",
              "['Coronavirus']       3294\n",
              "['coronavírus']       2890\n",
              "['Covid_19']          2485\n",
              "['covid19']           2403\n",
              "['Covid19']           2367\n",
              "['Coronavírus']       1566\n",
              "['Repost']             831\n",
              "Name: hashtags, dtype: int64"
            ]
          },
          "metadata": {
            "tags": []
          },
          "execution_count": 31
        }
      ]
    },
    {
      "cell_type": "markdown",
      "metadata": {
        "id": "AcxhIIQr3xRn",
        "colab_type": "text"
      },
      "source": [
        "\n",
        "\n",
        "> Uma apresentação das hashtags mais frequentes acima e menos frequentes abaixo.\n",
        "\n"
      ]
    },
    {
      "cell_type": "code",
      "metadata": {
        "id": "a8vkNIV7xs-h",
        "colab_type": "code",
        "colab": {
          "base_uri": "https://localhost:8080/",
          "height": 221
        },
        "outputId": "6b6007ac-58ff-4825-d3f3-b9bbd8c11e8c"
      },
      "source": [
        "dataset.hashtags.value_counts()"
      ],
      "execution_count": 30,
      "outputs": [
        {
          "output_type": "execute_result",
          "data": {
            "text/plain": [
              "[]                                                   1495569\n",
              "['COVID19']                                             9951\n",
              "['coronavirus']                                         6658\n",
              "['Coronavirus']                                         3294\n",
              "['coronavírus']                                         2890\n",
              "                                                      ...   \n",
              "['covid19', 'fozdoIguaçu']                                 1\n",
              "['mininaked', 'naked', 'present']                          1\n",
              "['ColunadoMafuz', 'clubes', 'jogadores']                   1\n",
              "['HCNoticias', 'esporte', 'suspenso', 'pandemia']          1\n",
              "['CoronaDiario']                                           1\n",
              "Name: hashtags, Length: 63838, dtype: int64"
            ]
          },
          "metadata": {
            "tags": []
          },
          "execution_count": 30
        }
      ]
    },
    {
      "cell_type": "markdown",
      "metadata": {
        "id": "G8U-XtLP7dUI",
        "colab_type": "text"
      },
      "source": [
        "### Sumario para o campo *idioma*"
      ]
    },
    {
      "cell_type": "markdown",
      "metadata": {
        "id": "4xxn-C3r7xkh",
        "colab_type": "text"
      },
      "source": [
        "**Resumo geral:**\n",
        "\n",
        "\n",
        "\n",
        "> No campo idioma temos 59 registros únicos, onde o maior frequente é \"pt\" com 1586796\n",
        "\n"
      ]
    },
    {
      "cell_type": "code",
      "metadata": {
        "id": "-5TOI56572GZ",
        "colab_type": "code",
        "colab": {
          "base_uri": "https://localhost:8080/",
          "height": 102
        },
        "outputId": "f2203e9a-2b91-4a5b-eeeb-25d9726c77bc"
      },
      "source": [
        "dataset.idioma.describe()"
      ],
      "execution_count": 34,
      "outputs": [
        {
          "output_type": "execute_result",
          "data": {
            "text/plain": [
              "count     1658825\n",
              "unique         59\n",
              "top            pt\n",
              "freq      1586796\n",
              "Name: idioma, dtype: object"
            ]
          },
          "metadata": {
            "tags": []
          },
          "execution_count": 34
        }
      ]
    },
    {
      "cell_type": "markdown",
      "metadata": {
        "id": "9-Alg_Jv8Gjt",
        "colab_type": "text"
      },
      "source": [
        "\n",
        "\n",
        "> Contagem de registro por pais\n",
        "\n"
      ]
    },
    {
      "cell_type": "code",
      "metadata": {
        "id": "i2kL6-zP7jE3",
        "colab_type": "code",
        "colab": {
          "base_uri": "https://localhost:8080/",
          "height": 1000
        },
        "outputId": "0d60bba7-b324-4f11-cbaa-620d854fe28c"
      },
      "source": [
        "dataset.idioma.value_counts()"
      ],
      "execution_count": 33,
      "outputs": [
        {
          "output_type": "execute_result",
          "data": {
            "text/plain": [
              "pt     1586796\n",
              "en       23991\n",
              "es       14255\n",
              "it        6480\n",
              "und       5656\n",
              "ar        4579\n",
              "fr        3656\n",
              "ca        2600\n",
              "tr        2296\n",
              "ja        1955\n",
              "in         948\n",
              "th         890\n",
              "tl         604\n",
              "ko         544\n",
              "hi         485\n",
              "ru         417\n",
              "de         361\n",
              "pl         262\n",
              "fa         258\n",
              "nl         208\n",
              "ur         179\n",
              "ht         167\n",
              "et         162\n",
              "eu         116\n",
              "el          94\n",
              "lt          86\n",
              "sv          84\n",
              "cs          72\n",
              "no          56\n",
              "zh          51\n",
              "da          45\n",
              "ro          45\n",
              "fi          44\n",
              "cy          39\n",
              "uk          37\n",
              "lv          36\n",
              "iw          36\n",
              "ta          32\n",
              "hu          26\n",
              "vi          23\n",
              "is          21\n",
              "sr          20\n",
              "sl          18\n",
              "te          17\n",
              "sd          12\n",
              "ne          11\n",
              "bn          10\n",
              "mr          10\n",
              "gu           7\n",
              "ps           6\n",
              "ckb          5\n",
              "bg           4\n",
              "am           4\n",
              "or           2\n",
              "si           2\n",
              "ml           2\n",
              "dv           1\n",
              "kn           1\n",
              "my           1\n",
              "Name: idioma, dtype: int64"
            ]
          },
          "metadata": {
            "tags": []
          },
          "execution_count": 33
        }
      ]
    },
    {
      "cell_type": "markdown",
      "metadata": {
        "id": "u3NUuHK983aP",
        "colab_type": "text"
      },
      "source": [
        "\n",
        "\n",
        "> Contagem de usuarios por pais\n",
        "\n"
      ]
    },
    {
      "cell_type": "code",
      "metadata": {
        "id": "uzhbpB868m18",
        "colab_type": "code",
        "colab": {
          "base_uri": "https://localhost:8080/",
          "height": 1000
        },
        "outputId": "ff639a90-0bd7-4da6-faab-957b1d7a8633"
      },
      "source": [
        "dataset.groupby('idioma').usuario.count()"
      ],
      "execution_count": 38,
      "outputs": [
        {
          "output_type": "execute_result",
          "data": {
            "text/plain": [
              "idioma\n",
              "am           4\n",
              "ar        4578\n",
              "bg           4\n",
              "bn          10\n",
              "ca        2600\n",
              "ckb          5\n",
              "cs          72\n",
              "cy          39\n",
              "da          45\n",
              "de         361\n",
              "dv           1\n",
              "el          94\n",
              "en       23991\n",
              "es       14255\n",
              "et         162\n",
              "eu         116\n",
              "fa         258\n",
              "fi          44\n",
              "fr        3655\n",
              "gu           7\n",
              "hi         485\n",
              "ht         167\n",
              "hu          26\n",
              "in         948\n",
              "is          21\n",
              "it        6480\n",
              "iw          36\n",
              "ja        1955\n",
              "kn           1\n",
              "ko         544\n",
              "lt          86\n",
              "lv          36\n",
              "ml           2\n",
              "mr          10\n",
              "my           1\n",
              "ne          11\n",
              "nl         208\n",
              "no          56\n",
              "or           2\n",
              "pl         262\n",
              "ps           6\n",
              "pt     1586743\n",
              "ro          45\n",
              "ru         417\n",
              "sd          12\n",
              "si           2\n",
              "sl          18\n",
              "sr          20\n",
              "sv          84\n",
              "ta          32\n",
              "te          17\n",
              "th         889\n",
              "tl         604\n",
              "tr        2296\n",
              "uk          37\n",
              "und       5655\n",
              "ur         179\n",
              "vi          23\n",
              "zh          51\n",
              "Name: usuario, dtype: int64"
            ]
          },
          "metadata": {
            "tags": []
          },
          "execution_count": 38
        }
      ]
    },
    {
      "cell_type": "markdown",
      "metadata": {
        "id": "bHgFMh5qOMGq",
        "colab_type": "text"
      },
      "source": [
        "## Aplicando tratamento ao *dataset*"
      ]
    },
    {
      "cell_type": "markdown",
      "metadata": {
        "id": "NZdV3JIUNc7y",
        "colab_type": "text"
      },
      "source": [
        "### Removendo duplicatas"
      ]
    },
    {
      "cell_type": "markdown",
      "metadata": {
        "id": "1VDVwNyCN95t",
        "colab_type": "text"
      },
      "source": [
        "### Categorizando variáveis"
      ]
    },
    {
      "cell_type": "markdown",
      "metadata": {
        "id": "e7dLY8dP9jWa",
        "colab_type": "text"
      },
      "source": [
        "## Dividindo o dataset em *Training set* e *Test set*"
      ]
    }
  ]
}