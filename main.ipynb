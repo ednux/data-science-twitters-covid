{
  "nbformat": 4,
  "nbformat_minor": 0,
  "metadata": {
    "colab": {
      "name": "main.ipynb",
      "provenance": [],
      "collapsed_sections": [
        "Ch63jjisLsCP",
        "cQYwi7538mn7",
        "hEcp8tKR8uKM",
        "_WQzEZyzIRNu",
        "0MQ-QxKNJnGN",
        "q6FrJ-kHTLGz",
        "x_LacmPHV380",
        "8n1treyy5vtF",
        "5kPZ6ZniVZHw",
        "fR_8hjZ52jmn",
        "GqdF_V6wwJUg",
        "G8U-XtLP7dUI",
        "UIrBPW95Ih2U",
        "YFmDcqqrTr1v",
        "8sYs2tm1qek0",
        "wLxEQ5marPJF"
      ],
      "include_colab_link": true
    },
    "kernelspec": {
      "name": "python3",
      "display_name": "Python 3"
    }
  },
  "cells": [
    {
      "cell_type": "markdown",
      "metadata": {
        "id": "view-in-github",
        "colab_type": "text"
      },
      "source": [
        "<a href=\"https://colab.research.google.com/github/ehdob-cid20/trabalho-pratico/blob/master/main.ipynb\" target=\"_parent\"><img src=\"https://colab.research.google.com/assets/colab-badge.svg\" alt=\"Open In Colab\"/></a>"
      ]
    },
    {
      "cell_type": "markdown",
      "metadata": {
        "id": "R0JtTk8PrHjj"
      },
      "source": [
        "Monta o Google Drive"
      ]
    },
    {
      "cell_type": "code",
      "metadata": {
        "id": "Wx0uiePrALoV",
        "outputId": "de7277c7-5fb3-4d8a-9bcd-4d4922a2aad3",
        "colab": {
          "base_uri": "https://localhost:8080/",
          "height": 34
        }
      },
      "source": [
        "from google.colab import drive\n",
        "drive.mount('/content/drive')"
      ],
      "execution_count": 1,
      "outputs": [
        {
          "output_type": "stream",
          "text": [
            "Mounted at /content/drive\n"
          ],
          "name": "stdout"
        }
      ]
    },
    {
      "cell_type": "markdown",
      "metadata": {
        "id": "vjBzc5Ox7E1F"
      },
      "source": [
        "#  Pré Processamento"
      ]
    },
    {
      "cell_type": "markdown",
      "metadata": {
        "id": "Ch63jjisLsCP"
      },
      "source": [
        "## Instalação pacotes"
      ]
    },
    {
      "cell_type": "code",
      "metadata": {
        "id": "hLuHM1xeLweP",
        "outputId": "8d4a37e9-a578-44c6-f049-16c89f3de823",
        "colab": {
          "base_uri": "https://localhost:8080/",
          "height": 0
        }
      },
      "source": [
        "!pip install geopandas"
      ],
      "execution_count": 2,
      "outputs": [
        {
          "output_type": "stream",
          "text": [
            "Collecting geopandas\n",
            "\u001b[?25l  Downloading https://files.pythonhosted.org/packages/f7/a4/e66aafbefcbb717813bf3a355c8c4fc3ed04ea1dd7feb2920f2f4f868921/geopandas-0.8.1-py2.py3-none-any.whl (962kB)\n",
            "\u001b[K     |████████████████████████████████| 972kB 2.8MB/s \n",
            "\u001b[?25hRequirement already satisfied: shapely in /usr/local/lib/python3.6/dist-packages (from geopandas) (1.7.1)\n",
            "Requirement already satisfied: pandas>=0.23.0 in /usr/local/lib/python3.6/dist-packages (from geopandas) (1.1.2)\n",
            "Collecting pyproj>=2.2.0\n",
            "\u001b[?25l  Downloading https://files.pythonhosted.org/packages/e5/c3/071e080230ac4b6c64f1a2e2f9161c9737a2bc7b683d2c90b024825000c0/pyproj-2.6.1.post1-cp36-cp36m-manylinux2010_x86_64.whl (10.9MB)\n",
            "\u001b[K     |████████████████████████████████| 10.9MB 42.5MB/s \n",
            "\u001b[?25hCollecting fiona\n",
            "\u001b[?25l  Downloading https://files.pythonhosted.org/packages/36/8b/e8b2c11bed5373c8e98edb85ce891b09aa1f4210fd451d0fb3696b7695a2/Fiona-1.8.17-cp36-cp36m-manylinux1_x86_64.whl (14.8MB)\n",
            "\u001b[K     |████████████████████████████████| 14.8MB 245kB/s \n",
            "\u001b[?25hRequirement already satisfied: python-dateutil>=2.7.3 in /usr/local/lib/python3.6/dist-packages (from pandas>=0.23.0->geopandas) (2.8.1)\n",
            "Requirement already satisfied: numpy>=1.15.4 in /usr/local/lib/python3.6/dist-packages (from pandas>=0.23.0->geopandas) (1.18.5)\n",
            "Requirement already satisfied: pytz>=2017.2 in /usr/local/lib/python3.6/dist-packages (from pandas>=0.23.0->geopandas) (2018.9)\n",
            "Requirement already satisfied: click<8,>=4.0 in /usr/local/lib/python3.6/dist-packages (from fiona->geopandas) (7.1.2)\n",
            "Requirement already satisfied: six>=1.7 in /usr/local/lib/python3.6/dist-packages (from fiona->geopandas) (1.15.0)\n",
            "Requirement already satisfied: attrs>=17 in /usr/local/lib/python3.6/dist-packages (from fiona->geopandas) (20.2.0)\n",
            "Collecting click-plugins>=1.0\n",
            "  Downloading https://files.pythonhosted.org/packages/e9/da/824b92d9942f4e472702488857914bdd50f73021efea15b4cad9aca8ecef/click_plugins-1.1.1-py2.py3-none-any.whl\n",
            "Collecting cligj>=0.5\n",
            "  Downloading https://files.pythonhosted.org/packages/e4/be/30a58b4b0733850280d01f8bd132591b4668ed5c7046761098d665ac2174/cligj-0.5.0-py3-none-any.whl\n",
            "Collecting munch\n",
            "  Downloading https://files.pythonhosted.org/packages/cc/ab/85d8da5c9a45e072301beb37ad7f833cd344e04c817d97e0cc75681d248f/munch-2.5.0-py2.py3-none-any.whl\n",
            "Installing collected packages: pyproj, click-plugins, cligj, munch, fiona, geopandas\n",
            "Successfully installed click-plugins-1.1.1 cligj-0.5.0 fiona-1.8.17 geopandas-0.8.1 munch-2.5.0 pyproj-2.6.1.post1\n"
          ],
          "name": "stdout"
        }
      ]
    },
    {
      "cell_type": "markdown",
      "metadata": {
        "id": "cQYwi7538mn7"
      },
      "source": [
        "## Importando as bibliotecas"
      ]
    },
    {
      "cell_type": "code",
      "metadata": {
        "id": "rgaKgD7bUhCk"
      },
      "source": [
        "import pandas as pd\n",
        "import numpy as np\n",
        "import matplotlib.pyplot as plt\n",
        "import seaborn as sns\n",
        "from shapely.geometry import Point\n",
        "import geopandas as gpd\n",
        "from geopandas import GeoDataFrame"
      ],
      "execution_count": 3,
      "outputs": []
    },
    {
      "cell_type": "markdown",
      "metadata": {
        "id": "hEcp8tKR8uKM"
      },
      "source": [
        "## Importando o *dataset*"
      ]
    },
    {
      "cell_type": "markdown",
      "metadata": {
        "id": "_WQzEZyzIRNu"
      },
      "source": [
        "### Verifica se o dataset já foi importado para o google drive"
      ]
    },
    {
      "cell_type": "markdown",
      "metadata": {
        "id": "NlH5_zg1IRGK"
      },
      "source": [
        "Um script que verifica se o dataset já foi importado para o google drive. Caso ainda não tenha sido importado, ele faz o download do arquivo e extrai para a pasta informada na variável **dirName**.\n",
        "\n",
        "Variáveis:\n",
        "\n",
        "> **datasetFileName** é o nome do arquivo com extensão.\n",
        "\n",
        "> **datsetUrl** é o endereço web onde o arquivo está disponível.\n",
        "\n",
        "> **dirName** é o diretório do google drive onde o dataset será salvo.\n",
        "\n",
        "Nota: O diretório de salvamento (*dirName*) precisa existir.\n"
      ]
    },
    {
      "cell_type": "code",
      "metadata": {
        "id": "z_lj59w9JoXK",
        "outputId": "8c5487e3-c0b6-4cc3-b47c-cb179d5e6215",
        "colab": {
          "base_uri": "https://localhost:8080/",
          "height": 0
        }
      },
      "source": [
        "import os\n",
        "\n",
        "datasetFileName = 'dados-curso-completo.csv.tar.gz'\n",
        "datsetUrl = 'http://tiagodemelo.info/datasets/dados-curso-completo.csv.tar.gz'\n",
        "dirName = 'trabalho-pratico' # Este diretorio pode ser alterado se ja tiver o dataset no google drive.\n",
        "\n",
        "if False == os.path.isfile('/content/drive/My Drive/' + dirName + '/' + datasetFileName[:-7]):\n",
        "  if False == os.path.isdir('/content/drive'):\n",
        "    print('Google driver não está montado!')\n",
        "  elif False == os.path.isdir('/content/drive/My Drive/' +  dirName + '/'):\n",
        "    print('Diretório ' + dirName + ' não encontrado.')\n",
        "  elif False == os.path.isfile('/content/drive/My Drive/' + dirName + '/' + datasetFileName):\n",
        "    !wget -O '/content/drive/My Drive/$dirName/$datasetFileName' '$datsetUrl' #TODO: handle download errors.\n",
        "    !tar -C '/content/drive/My Drive/$dirName/{datasetFileName[:-7]}' -zxf '/content/drive/My Drive/$dirName/$datasetFileName' #TODO: handle extract errors.\n",
        "  else:\n",
        "    !tar -C '/content/drive/My Drive/$dirName/' -zxf '/content/drive/My Drive/$dirName/$datasetFileName' #TODO: handle extract errors.\n",
        "else:\n",
        "  print('O dataset ' + datasetFileName[:-7] + ' foi encontrado.')"
      ],
      "execution_count": 4,
      "outputs": [
        {
          "output_type": "stream",
          "text": [
            "O dataset dados-curso-completo.csv foi encontrado.\n"
          ],
          "name": "stdout"
        }
      ]
    },
    {
      "cell_type": "markdown",
      "metadata": {
        "id": "0MQ-QxKNJnGN"
      },
      "source": [
        "### Importando o *dataset* usando pandas"
      ]
    },
    {
      "cell_type": "code",
      "metadata": {
        "id": "Ey0uEq__Lgdp"
      },
      "source": [
        "dataset = pd.read_csv('/content/drive/My Drive/' + dirName + '/' + datasetFileName[:-7])"
      ],
      "execution_count": 5,
      "outputs": []
    },
    {
      "cell_type": "markdown",
      "metadata": {
        "id": "HPEvldwlNEU4"
      },
      "source": [
        "## Visualizando o *dataset* inicial (sem qualquer tratamento)"
      ]
    },
    {
      "cell_type": "markdown",
      "metadata": {
        "id": "q6FrJ-kHTLGz"
      },
      "source": [
        "### Visualização geral do *dataset*"
      ]
    },
    {
      "cell_type": "markdown",
      "metadata": {
        "id": "BRUjyfTJ475S"
      },
      "source": [
        "\n",
        "\n",
        "> Segue uma informação geral do dataset tento colunas, contagem e tipo\n",
        "\n"
      ]
    },
    {
      "cell_type": "code",
      "metadata": {
        "id": "XmJaNSzL49-l",
        "outputId": "d2546071-db22-4237-f19b-23dfabd01c3d",
        "colab": {
          "base_uri": "https://localhost:8080/"
        }
      },
      "source": [
        "dataset.info()"
      ],
      "execution_count": null,
      "outputs": [
        {
          "output_type": "stream",
          "text": [
            "<class 'pandas.core.frame.DataFrame'>\n",
            "RangeIndex: 1658825 entries, 0 to 1658824\n",
            "Data columns (total 13 columns):\n",
            " #   Column      Non-Null Count    Dtype  \n",
            "---  ------      --------------    -----  \n",
            " 0   data        1658825 non-null  object \n",
            " 1   usuario     1658768 non-null  object \n",
            " 2   apelido     1658825 non-null  object \n",
            " 3   texto       1658825 non-null  object \n",
            " 4   retweet     1658825 non-null  int64  \n",
            " 5   seguidores  1658825 non-null  int64  \n",
            " 6   idioma      1658825 non-null  object \n",
            " 7   lugar       74605 non-null    object \n",
            " 8   pais        74600 non-null    object \n",
            " 9   sigla       74595 non-null    object \n",
            " 10  latitude    8720 non-null     float64\n",
            " 11  longitude   8720 non-null     float64\n",
            " 12  hashtags    1658825 non-null  object \n",
            "dtypes: float64(2), int64(2), object(9)\n",
            "memory usage: 164.5+ MB\n"
          ],
          "name": "stdout"
        }
      ]
    },
    {
      "cell_type": "markdown",
      "metadata": {
        "id": "-kr7kzNR_mbF"
      },
      "source": [
        "\n",
        "\n",
        "> Campos nulos do dataset. Em seguida segue uma visão geral de cada campo\n",
        "\n"
      ]
    },
    {
      "cell_type": "code",
      "metadata": {
        "id": "HJE3AYuH_p1A",
        "outputId": "b62548b8-cda7-4775-ebce-704bfe3c9ed5",
        "colab": {
          "base_uri": "https://localhost:8080/"
        }
      },
      "source": [
        "dataset.isnull().sum()"
      ],
      "execution_count": null,
      "outputs": [
        {
          "output_type": "execute_result",
          "data": {
            "text/plain": [
              "data                0\n",
              "usuario            57\n",
              "apelido             0\n",
              "texto               0\n",
              "retweet             0\n",
              "seguidores          0\n",
              "idioma              0\n",
              "lugar         1584220\n",
              "pais          1584225\n",
              "sigla         1584230\n",
              "latitude      1650105\n",
              "longitude     1650105\n",
              "hashtags            0\n",
              "dtype: int64"
            ]
          },
          "metadata": {
            "tags": []
          },
          "execution_count": 6
        }
      ]
    },
    {
      "cell_type": "code",
      "metadata": {
        "id": "pROjCZKUuw7T",
        "outputId": "962a1350-b3dd-4195-efb0-6df91c936eb8",
        "colab": {
          "base_uri": "https://localhost:8080/",
          "height": 289
        }
      },
      "source": [
        "dataset.head()"
      ],
      "execution_count": null,
      "outputs": [
        {
          "output_type": "execute_result",
          "data": {
            "text/html": [
              "<div>\n",
              "<style scoped>\n",
              "    .dataframe tbody tr th:only-of-type {\n",
              "        vertical-align: middle;\n",
              "    }\n",
              "\n",
              "    .dataframe tbody tr th {\n",
              "        vertical-align: top;\n",
              "    }\n",
              "\n",
              "    .dataframe thead th {\n",
              "        text-align: right;\n",
              "    }\n",
              "</style>\n",
              "<table border=\"1\" class=\"dataframe\">\n",
              "  <thead>\n",
              "    <tr style=\"text-align: right;\">\n",
              "      <th></th>\n",
              "      <th>data</th>\n",
              "      <th>usuario</th>\n",
              "      <th>apelido</th>\n",
              "      <th>texto</th>\n",
              "      <th>retweet</th>\n",
              "      <th>seguidores</th>\n",
              "      <th>idioma</th>\n",
              "      <th>lugar</th>\n",
              "      <th>pais</th>\n",
              "      <th>sigla</th>\n",
              "      <th>latitude</th>\n",
              "      <th>longitude</th>\n",
              "      <th>hashtags</th>\n",
              "    </tr>\n",
              "  </thead>\n",
              "  <tbody>\n",
              "    <tr>\n",
              "      <th>0</th>\n",
              "      <td>2020-03-23 18:51:14</td>\n",
              "      <td>Gaboardi</td>\n",
              "      <td>fraslee</td>\n",
              "      <td>@BolsonaroSP Cade o fundão deputado??? Congres...</td>\n",
              "      <td>0</td>\n",
              "      <td>138</td>\n",
              "      <td>pt</td>\n",
              "      <td>NaN</td>\n",
              "      <td>NaN</td>\n",
              "      <td>NaN</td>\n",
              "      <td>NaN</td>\n",
              "      <td>NaN</td>\n",
              "      <td>[]</td>\n",
              "    </tr>\n",
              "    <tr>\n",
              "      <th>1</th>\n",
              "      <td>2020-03-18 03:18:14</td>\n",
              "      <td>Seu Zé da Farmácia</td>\n",
              "      <td>seuzedafarmacia</td>\n",
              "      <td>Em ação preventiva, o Governo do Estado suspen...</td>\n",
              "      <td>0</td>\n",
              "      <td>56</td>\n",
              "      <td>pt</td>\n",
              "      <td>NaN</td>\n",
              "      <td>NaN</td>\n",
              "      <td>NaN</td>\n",
              "      <td>NaN</td>\n",
              "      <td>NaN</td>\n",
              "      <td>[]</td>\n",
              "    </tr>\n",
              "    <tr>\n",
              "      <th>2</th>\n",
              "      <td>2020-03-29 12:09:27</td>\n",
              "      <td>Marília Oliveira 🇧🇷</td>\n",
              "      <td>Marioliveira_gb</td>\n",
              "      <td>Incrível como os defensores do fim do distanci...</td>\n",
              "      <td>0</td>\n",
              "      <td>5</td>\n",
              "      <td>pt</td>\n",
              "      <td>NaN</td>\n",
              "      <td>NaN</td>\n",
              "      <td>NaN</td>\n",
              "      <td>NaN</td>\n",
              "      <td>NaN</td>\n",
              "      <td>[]</td>\n",
              "    </tr>\n",
              "    <tr>\n",
              "      <th>3</th>\n",
              "      <td>2020-04-01 21:11:07</td>\n",
              "      <td>🚩</td>\n",
              "      <td>santosodeto</td>\n",
              "      <td>Fumaça de cigarro pode propagar coronavírus? h...</td>\n",
              "      <td>0</td>\n",
              "      <td>1885</td>\n",
              "      <td>pt</td>\n",
              "      <td>NaN</td>\n",
              "      <td>NaN</td>\n",
              "      <td>NaN</td>\n",
              "      <td>NaN</td>\n",
              "      <td>NaN</td>\n",
              "      <td>[]</td>\n",
              "    </tr>\n",
              "    <tr>\n",
              "      <th>4</th>\n",
              "      <td>2020-03-19 17:49:40</td>\n",
              "      <td>Nova Impressão</td>\n",
              "      <td>novaimpressao_</td>\n",
              "      <td>🚨Todos juntos contra COVID-19💪\\n\\nSolicite seu...</td>\n",
              "      <td>0</td>\n",
              "      <td>124</td>\n",
              "      <td>pt</td>\n",
              "      <td>Brasília</td>\n",
              "      <td>Brazil</td>\n",
              "      <td>BR</td>\n",
              "      <td>-47.8778</td>\n",
              "      <td>-15.77691</td>\n",
              "      <td>[]</td>\n",
              "    </tr>\n",
              "  </tbody>\n",
              "</table>\n",
              "</div>"
            ],
            "text/plain": [
              "                  data              usuario  ... longitude hashtags\n",
              "0  2020-03-23 18:51:14             Gaboardi  ...       NaN       []\n",
              "1  2020-03-18 03:18:14   Seu Zé da Farmácia  ...       NaN       []\n",
              "2  2020-03-29 12:09:27  Marília Oliveira 🇧🇷  ...       NaN       []\n",
              "3  2020-04-01 21:11:07                    🚩  ...       NaN       []\n",
              "4  2020-03-19 17:49:40       Nova Impressão  ... -15.77691       []\n",
              "\n",
              "[5 rows x 13 columns]"
            ]
          },
          "metadata": {
            "tags": []
          },
          "execution_count": 39
        }
      ]
    },
    {
      "cell_type": "markdown",
      "metadata": {
        "id": "x_LacmPHV380"
      },
      "source": [
        "### Sumário para o campo *data*"
      ]
    },
    {
      "cell_type": "markdown",
      "metadata": {
        "id": "FlAw_pXYV7P8"
      },
      "source": [
        "**Resumo geral:**\n",
        "> Possui 1.658.825 campos, onde 1.202.322 são únicos, 456.503 são duplicados e não há campos nulos.\n",
        "\n",
        "> A data com maior frequência é '2020-04-15 21:00:00' e aparece 27 vezes.\n",
        "\n",
        "> A data inicial é '2020-01-01 00:42:12' e a final '2020-07-28 17:19:44'."
      ]
    },
    {
      "cell_type": "code",
      "metadata": {
        "id": "e3ExBq8gWAy4",
        "outputId": "97c8e19a-3ff3-4f67-84aa-c497abefc024",
        "colab": {
          "base_uri": "https://localhost:8080/",
          "height": 104
        }
      },
      "source": [
        "dataset.data.describe()"
      ],
      "execution_count": null,
      "outputs": [
        {
          "output_type": "execute_result",
          "data": {
            "text/plain": [
              "count                 1658825\n",
              "unique                1202322\n",
              "top       2020-04-15 21:00:00\n",
              "freq                       27\n",
              "Name: data, dtype: object"
            ]
          },
          "metadata": {
            "tags": []
          },
          "execution_count": 6
        }
      ]
    },
    {
      "cell_type": "code",
      "metadata": {
        "id": "6YQq-RdWWDUc",
        "outputId": "2ef0469f-40ea-4a67-e64e-3efb3ac2afa6",
        "colab": {
          "base_uri": "https://localhost:8080/",
          "height": 143
        }
      },
      "source": [
        "datas_total = len(dataset.data)\n",
        "datas_unicos = dataset.data.nunique()\n",
        "datas_null = dataset.data.isnull().sum()\n",
        "datas_duplicados = datas_total - datas_unicos - datas_null\n",
        "datas_df = pd.DataFrame({\n",
        "                  'datas': ['únicos', 'duplicados', 'vazio'] ,\n",
        "                   'Contagem' : [datas_unicos, datas_duplicados, datas_null],\n",
        "                   'Porcentagem' : [(datas_unicos/datas_total)*100, (datas_duplicados/datas_total)*100, (datas_null/datas_total)*100]})\n",
        "datas_df"
      ],
      "execution_count": null,
      "outputs": [
        {
          "output_type": "execute_result",
          "data": {
            "text/plain": [
              "        datas  Contagem  Porcentagem\n",
              "0      únicos   1202322     72.48034\n",
              "1  duplicados    456503     27.51966\n",
              "2       vazio         0      0.00000"
            ],
            "text/html": [
              "<div>\n",
              "<style scoped>\n",
              "    .dataframe tbody tr th:only-of-type {\n",
              "        vertical-align: middle;\n",
              "    }\n",
              "\n",
              "    .dataframe tbody tr th {\n",
              "        vertical-align: top;\n",
              "    }\n",
              "\n",
              "    .dataframe thead th {\n",
              "        text-align: right;\n",
              "    }\n",
              "</style>\n",
              "<table border=\"1\" class=\"dataframe\">\n",
              "  <thead>\n",
              "    <tr style=\"text-align: right;\">\n",
              "      <th></th>\n",
              "      <th>datas</th>\n",
              "      <th>Contagem</th>\n",
              "      <th>Porcentagem</th>\n",
              "    </tr>\n",
              "  </thead>\n",
              "  <tbody>\n",
              "    <tr>\n",
              "      <th>0</th>\n",
              "      <td>únicos</td>\n",
              "      <td>1202322</td>\n",
              "      <td>72.48034</td>\n",
              "    </tr>\n",
              "    <tr>\n",
              "      <th>1</th>\n",
              "      <td>duplicados</td>\n",
              "      <td>456503</td>\n",
              "      <td>27.51966</td>\n",
              "    </tr>\n",
              "    <tr>\n",
              "      <th>2</th>\n",
              "      <td>vazio</td>\n",
              "      <td>0</td>\n",
              "      <td>0.00000</td>\n",
              "    </tr>\n",
              "  </tbody>\n",
              "</table>\n",
              "</div>"
            ]
          },
          "metadata": {
            "tags": []
          },
          "execution_count": 7
        }
      ]
    },
    {
      "cell_type": "code",
      "metadata": {
        "id": "1LL-G0yiWGsO"
      },
      "source": [
        "# Seleciona data e faz uma contagem do texto por data\n",
        "data_df = dataset.groupby(\"data\", as_index=False)[\"texto\"].count()\n",
        "\n",
        "# Atualiza o nome da coluna texto\n",
        "data_df = data_df.rename(columns={\"texto\": \"tweets\"})\n",
        "\n",
        "# Converte data para o tipo datetime\n",
        "data_df['data'] = pd.to_datetime(data_df['data'])\n",
        "\n",
        "# Coloca a data como indice\n",
        "data_df = data_df.set_index('data')\n",
        "\n",
        "# Agrupa por semana\n",
        "data_semana = data_df.resample('W').sum()\n",
        "\n",
        "# Agrupa por mes\n",
        "data_mes = data_df.resample('M').sum()\n",
        "\n",
        "# Converte as datas de semana para strings\n",
        "#data_semana = data_semana.set_index(data_semana.index.strftime('%d %b, %Y'))\n",
        "\n",
        "# Converte as datas de mes para strings\n",
        "data_mes = data_mes.set_index(data_mes.index.strftime('%B'))\n",
        "\n",
        "# Reseta o indice\n",
        "data_semana = data_semana.reset_index()\n",
        "data_mes = data_mes.reset_index()"
      ],
      "execution_count": null,
      "outputs": []
    },
    {
      "cell_type": "code",
      "metadata": {
        "id": "k-TO_nRkWJo-",
        "outputId": "63fc0224-f5cc-43d9-e9b7-816c67ba7387",
        "colab": {
          "base_uri": "https://localhost:8080/",
          "height": 1000
        }
      },
      "source": [
        "data_semana"
      ],
      "execution_count": null,
      "outputs": [
        {
          "output_type": "execute_result",
          "data": {
            "text/plain": [
              "         data  tweets\n",
              "0  2020-01-05     317\n",
              "1  2020-01-12     681\n",
              "2  2020-01-19     948\n",
              "3  2020-01-26   23195\n",
              "4  2020-02-02   32832\n",
              "5  2020-02-09   43395\n",
              "6  2020-02-16   19281\n",
              "7  2020-02-23   10931\n",
              "8  2020-03-01   34983\n",
              "9  2020-03-08   29309\n",
              "10 2020-03-15   98322\n",
              "11 2020-03-22  165587\n",
              "12 2020-03-29  123260\n",
              "13 2020-04-05  233403\n",
              "14 2020-04-12  150685\n",
              "15 2020-04-19  139517\n",
              "16 2020-04-26       0\n",
              "17 2020-05-03   17730\n",
              "18 2020-05-10   46980\n",
              "19 2020-05-17   74745\n",
              "20 2020-05-24   82963\n",
              "21 2020-05-31   71745\n",
              "22 2020-06-07  137874\n",
              "23 2020-06-14   19489\n",
              "24 2020-06-21   36376\n",
              "25 2020-06-28   23459\n",
              "26 2020-07-05   40817\n",
              "27 2020-07-12       0\n",
              "28 2020-07-19       0\n",
              "29 2020-07-26       0\n",
              "30 2020-08-02       1"
            ],
            "text/html": [
              "<div>\n",
              "<style scoped>\n",
              "    .dataframe tbody tr th:only-of-type {\n",
              "        vertical-align: middle;\n",
              "    }\n",
              "\n",
              "    .dataframe tbody tr th {\n",
              "        vertical-align: top;\n",
              "    }\n",
              "\n",
              "    .dataframe thead th {\n",
              "        text-align: right;\n",
              "    }\n",
              "</style>\n",
              "<table border=\"1\" class=\"dataframe\">\n",
              "  <thead>\n",
              "    <tr style=\"text-align: right;\">\n",
              "      <th></th>\n",
              "      <th>data</th>\n",
              "      <th>tweets</th>\n",
              "    </tr>\n",
              "  </thead>\n",
              "  <tbody>\n",
              "    <tr>\n",
              "      <th>0</th>\n",
              "      <td>2020-01-05</td>\n",
              "      <td>317</td>\n",
              "    </tr>\n",
              "    <tr>\n",
              "      <th>1</th>\n",
              "      <td>2020-01-12</td>\n",
              "      <td>681</td>\n",
              "    </tr>\n",
              "    <tr>\n",
              "      <th>2</th>\n",
              "      <td>2020-01-19</td>\n",
              "      <td>948</td>\n",
              "    </tr>\n",
              "    <tr>\n",
              "      <th>3</th>\n",
              "      <td>2020-01-26</td>\n",
              "      <td>23195</td>\n",
              "    </tr>\n",
              "    <tr>\n",
              "      <th>4</th>\n",
              "      <td>2020-02-02</td>\n",
              "      <td>32832</td>\n",
              "    </tr>\n",
              "    <tr>\n",
              "      <th>5</th>\n",
              "      <td>2020-02-09</td>\n",
              "      <td>43395</td>\n",
              "    </tr>\n",
              "    <tr>\n",
              "      <th>6</th>\n",
              "      <td>2020-02-16</td>\n",
              "      <td>19281</td>\n",
              "    </tr>\n",
              "    <tr>\n",
              "      <th>7</th>\n",
              "      <td>2020-02-23</td>\n",
              "      <td>10931</td>\n",
              "    </tr>\n",
              "    <tr>\n",
              "      <th>8</th>\n",
              "      <td>2020-03-01</td>\n",
              "      <td>34983</td>\n",
              "    </tr>\n",
              "    <tr>\n",
              "      <th>9</th>\n",
              "      <td>2020-03-08</td>\n",
              "      <td>29309</td>\n",
              "    </tr>\n",
              "    <tr>\n",
              "      <th>10</th>\n",
              "      <td>2020-03-15</td>\n",
              "      <td>98322</td>\n",
              "    </tr>\n",
              "    <tr>\n",
              "      <th>11</th>\n",
              "      <td>2020-03-22</td>\n",
              "      <td>165587</td>\n",
              "    </tr>\n",
              "    <tr>\n",
              "      <th>12</th>\n",
              "      <td>2020-03-29</td>\n",
              "      <td>123260</td>\n",
              "    </tr>\n",
              "    <tr>\n",
              "      <th>13</th>\n",
              "      <td>2020-04-05</td>\n",
              "      <td>233403</td>\n",
              "    </tr>\n",
              "    <tr>\n",
              "      <th>14</th>\n",
              "      <td>2020-04-12</td>\n",
              "      <td>150685</td>\n",
              "    </tr>\n",
              "    <tr>\n",
              "      <th>15</th>\n",
              "      <td>2020-04-19</td>\n",
              "      <td>139517</td>\n",
              "    </tr>\n",
              "    <tr>\n",
              "      <th>16</th>\n",
              "      <td>2020-04-26</td>\n",
              "      <td>0</td>\n",
              "    </tr>\n",
              "    <tr>\n",
              "      <th>17</th>\n",
              "      <td>2020-05-03</td>\n",
              "      <td>17730</td>\n",
              "    </tr>\n",
              "    <tr>\n",
              "      <th>18</th>\n",
              "      <td>2020-05-10</td>\n",
              "      <td>46980</td>\n",
              "    </tr>\n",
              "    <tr>\n",
              "      <th>19</th>\n",
              "      <td>2020-05-17</td>\n",
              "      <td>74745</td>\n",
              "    </tr>\n",
              "    <tr>\n",
              "      <th>20</th>\n",
              "      <td>2020-05-24</td>\n",
              "      <td>82963</td>\n",
              "    </tr>\n",
              "    <tr>\n",
              "      <th>21</th>\n",
              "      <td>2020-05-31</td>\n",
              "      <td>71745</td>\n",
              "    </tr>\n",
              "    <tr>\n",
              "      <th>22</th>\n",
              "      <td>2020-06-07</td>\n",
              "      <td>137874</td>\n",
              "    </tr>\n",
              "    <tr>\n",
              "      <th>23</th>\n",
              "      <td>2020-06-14</td>\n",
              "      <td>19489</td>\n",
              "    </tr>\n",
              "    <tr>\n",
              "      <th>24</th>\n",
              "      <td>2020-06-21</td>\n",
              "      <td>36376</td>\n",
              "    </tr>\n",
              "    <tr>\n",
              "      <th>25</th>\n",
              "      <td>2020-06-28</td>\n",
              "      <td>23459</td>\n",
              "    </tr>\n",
              "    <tr>\n",
              "      <th>26</th>\n",
              "      <td>2020-07-05</td>\n",
              "      <td>40817</td>\n",
              "    </tr>\n",
              "    <tr>\n",
              "      <th>27</th>\n",
              "      <td>2020-07-12</td>\n",
              "      <td>0</td>\n",
              "    </tr>\n",
              "    <tr>\n",
              "      <th>28</th>\n",
              "      <td>2020-07-19</td>\n",
              "      <td>0</td>\n",
              "    </tr>\n",
              "    <tr>\n",
              "      <th>29</th>\n",
              "      <td>2020-07-26</td>\n",
              "      <td>0</td>\n",
              "    </tr>\n",
              "    <tr>\n",
              "      <th>30</th>\n",
              "      <td>2020-08-02</td>\n",
              "      <td>1</td>\n",
              "    </tr>\n",
              "  </tbody>\n",
              "</table>\n",
              "</div>"
            ]
          },
          "metadata": {
            "tags": []
          },
          "execution_count": 24
        }
      ]
    },
    {
      "cell_type": "code",
      "metadata": {
        "id": "zK9tqmKHWQUc",
        "outputId": "4a0899cc-d2ca-4c75-e2a2-b52fe3610b60",
        "colab": {
          "base_uri": "https://localhost:8080/",
          "height": 363
        }
      },
      "source": [
        "plt.rcParams['figure.dpi'] = 120\n",
        "f, ax = plt.subplots(figsize=(10, 3))\n",
        "plt.plot_date(data_semana['data'], data_semana['tweets'], linestyle='solid')"
      ],
      "execution_count": null,
      "outputs": [
        {
          "output_type": "execute_result",
          "data": {
            "text/plain": [
              "[<matplotlib.lines.Line2D at 0x7f9b01357a00>]"
            ]
          },
          "metadata": {
            "tags": []
          },
          "execution_count": 49
        },
        {
          "output_type": "display_data",
          "data": {
            "text/plain": [
              "<Figure size 1200x360 with 1 Axes>"
            ],
            "image/png": "[encoded data removed]"
          },
          "metadata": {
            "tags": []
          }
        }
      ]
    },
    {
      "cell_type": "code",
      "metadata": {
        "id": "wsikVTM-WKJW",
        "outputId": "06fcea9d-a6d2-49f1-f327-1ad4af3ce676",
        "colab": {
          "base_uri": "https://localhost:8080/",
          "height": 269
        }
      },
      "source": [
        "data_mes"
      ],
      "execution_count": null,
      "outputs": [
        {
          "output_type": "execute_result",
          "data": {
            "text/plain": [
              "       data  tweets\n",
              "0   January   54555\n",
              "1  February  109842\n",
              "2     March  481657\n",
              "3     April  470769\n",
              "4       May  283986\n",
              "5      June  258015\n",
              "6      July       1"
            ],
            "text/html": [
              "<div>\n",
              "<style scoped>\n",
              "    .dataframe tbody tr th:only-of-type {\n",
              "        vertical-align: middle;\n",
              "    }\n",
              "\n",
              "    .dataframe tbody tr th {\n",
              "        vertical-align: top;\n",
              "    }\n",
              "\n",
              "    .dataframe thead th {\n",
              "        text-align: right;\n",
              "    }\n",
              "</style>\n",
              "<table border=\"1\" class=\"dataframe\">\n",
              "  <thead>\n",
              "    <tr style=\"text-align: right;\">\n",
              "      <th></th>\n",
              "      <th>data</th>\n",
              "      <th>tweets</th>\n",
              "    </tr>\n",
              "  </thead>\n",
              "  <tbody>\n",
              "    <tr>\n",
              "      <th>0</th>\n",
              "      <td>January</td>\n",
              "      <td>54555</td>\n",
              "    </tr>\n",
              "    <tr>\n",
              "      <th>1</th>\n",
              "      <td>February</td>\n",
              "      <td>109842</td>\n",
              "    </tr>\n",
              "    <tr>\n",
              "      <th>2</th>\n",
              "      <td>March</td>\n",
              "      <td>481657</td>\n",
              "    </tr>\n",
              "    <tr>\n",
              "      <th>3</th>\n",
              "      <td>April</td>\n",
              "      <td>470769</td>\n",
              "    </tr>\n",
              "    <tr>\n",
              "      <th>4</th>\n",
              "      <td>May</td>\n",
              "      <td>283986</td>\n",
              "    </tr>\n",
              "    <tr>\n",
              "      <th>5</th>\n",
              "      <td>June</td>\n",
              "      <td>258015</td>\n",
              "    </tr>\n",
              "    <tr>\n",
              "      <th>6</th>\n",
              "      <td>July</td>\n",
              "      <td>1</td>\n",
              "    </tr>\n",
              "  </tbody>\n",
              "</table>\n",
              "</div>"
            ]
          },
          "metadata": {
            "tags": []
          },
          "execution_count": 50
        }
      ]
    },
    {
      "cell_type": "code",
      "metadata": {
        "id": "wEsONWtiWNH4",
        "outputId": "7110cfb6-a53e-4603-fe2f-18a22ecfdd33",
        "colab": {
          "base_uri": "https://localhost:8080/",
          "height": 377
        }
      },
      "source": [
        "sns.set(style=\"whitegrid\")\n",
        "plt.rcParams['figure.dpi'] = 120\n",
        "f, ax = plt.subplots(figsize=(10, 3))\n",
        "sns.set_color_codes(\"pastel\")\n",
        "sns.barplot(x=\"data\", y=\"tweets\", data=data_mes)\n",
        "ax.set(ylabel=\"\", xlabel=\"Tweets por mês\")\n",
        "sns.despine(left=True, bottom=True)"
      ],
      "execution_count": null,
      "outputs": [
        {
          "output_type": "display_data",
          "data": {
            "text/plain": [
              "<Figure size 1200x360 with 1 Axes>"
            ],
            "image/png": "[encoded data removed]"
          },
          "metadata": {
            "tags": []
          }
        }
      ]
    },
    {
      "cell_type": "markdown",
      "metadata": {
        "id": "8n1treyy5vtF"
      },
      "source": [
        "### Sumário para o campo *usuario*"
      ]
    },
    {
      "cell_type": "markdown",
      "metadata": {
        "id": "Zi5IBQN0Asvm"
      },
      "source": [
        "**Resumo geral:**\n",
        "> Possui 1.658.825 campos, onde 632.601 são únicos, 1.026.167 são duplicados e 57 estão nulos.\n",
        "\n",
        "> Usuário com maior frequência '.',  aparece 1624."
      ]
    },
    {
      "cell_type": "code",
      "metadata": {
        "id": "DsfHscVNAnWi",
        "outputId": "03290372-3888-45ef-c4cb-8c372eb8ae7f",
        "colab": {
          "base_uri": "https://localhost:8080/"
        }
      },
      "source": [
        "dataset.usuario.describe()"
      ],
      "execution_count": null,
      "outputs": [
        {
          "output_type": "execute_result",
          "data": {
            "text/plain": [
              "count     1658768\n",
              "unique     632601\n",
              "top             .\n",
              "freq         1624\n",
              "Name: usuario, dtype: object"
            ]
          },
          "metadata": {
            "tags": []
          },
          "execution_count": 7
        }
      ]
    },
    {
      "cell_type": "code",
      "metadata": {
        "id": "2ZtrmkLyKf-i",
        "outputId": "73378411-b86f-45f0-d9a0-49ad4fa6c380",
        "colab": {
          "base_uri": "https://localhost:8080/"
        }
      },
      "source": [
        "usuarios_total = len(dataset.usuario)\n",
        "usuarios_unicos = dataset.usuario.nunique()\n",
        "usuarios_null = dataset.usuario.isnull().sum()\n",
        "usuarios_duplicados = usuarios_total - usuarios_unicos - usuarios_null\n",
        "usuarios_df = pd.DataFrame({\n",
        "                  'Usuários': ['únicos', 'duplicados', 'vazio'] ,\n",
        "                   'Contagem' : [usuarios_unicos, usuarios_duplicados, usuarios_null],\n",
        "                   'Porcentagem' : [(usuarios_unicos/usuarios_total)*100, (usuarios_duplicados/usuarios_total)*100, (usuarios_null/usuarios_total)*100]})\n",
        "usuarios_df"
      ],
      "execution_count": null,
      "outputs": [
        {
          "output_type": "execute_result",
          "data": {
            "text/plain": [
              "     Usuários  Contagem  Porcentagem\n",
              "0      únicos    632601    38.135487\n",
              "1  duplicados   1026167    61.861076\n",
              "2       vazio        57     0.003436"
            ],
            "text/html": [
              "<div>\n",
              "<style scoped>\n",
              "    .dataframe tbody tr th:only-of-type {\n",
              "        vertical-align: middle;\n",
              "    }\n",
              "\n",
              "    .dataframe tbody tr th {\n",
              "        vertical-align: top;\n",
              "    }\n",
              "\n",
              "    .dataframe thead th {\n",
              "        text-align: right;\n",
              "    }\n",
              "</style>\n",
              "<table border=\"1\" class=\"dataframe\">\n",
              "  <thead>\n",
              "    <tr style=\"text-align: right;\">\n",
              "      <th></th>\n",
              "      <th>Usuários</th>\n",
              "      <th>Contagem</th>\n",
              "      <th>Porcentagem</th>\n",
              "    </tr>\n",
              "  </thead>\n",
              "  <tbody>\n",
              "    <tr>\n",
              "      <th>0</th>\n",
              "      <td>únicos</td>\n",
              "      <td>632601</td>\n",
              "      <td>38.135487</td>\n",
              "    </tr>\n",
              "    <tr>\n",
              "      <th>1</th>\n",
              "      <td>duplicados</td>\n",
              "      <td>1026167</td>\n",
              "      <td>61.861076</td>\n",
              "    </tr>\n",
              "    <tr>\n",
              "      <th>2</th>\n",
              "      <td>vazio</td>\n",
              "      <td>57</td>\n",
              "      <td>0.003436</td>\n",
              "    </tr>\n",
              "  </tbody>\n",
              "</table>\n",
              "</div>"
            ]
          },
          "metadata": {
            "tags": []
          },
          "execution_count": 8
        }
      ]
    },
    {
      "cell_type": "markdown",
      "metadata": {
        "id": "5Gb74KX8Sn2Z"
      },
      "source": [
        "Nota: O campo 'usuario' está trocado com o campo 'apelido', pois usuário é usado como um campo único, enquanto que um apelido pode ser usado por mais de um usuário."
      ]
    },
    {
      "cell_type": "markdown",
      "metadata": {
        "id": "5kPZ6ZniVZHw"
      },
      "source": [
        "### Sumário para o campo *apelido*"
      ]
    },
    {
      "cell_type": "markdown",
      "metadata": {
        "id": "cILRgEkRVoeY"
      },
      "source": [
        "**Resumo geral:**\n",
        "> Possui 1.658.825 campos, onde 774.516 são únicos e 0 estão nulos.\n",
        "\n",
        "> Apelido com maior frequência 'Lusa_noticias',  aparece 1404."
      ]
    },
    {
      "cell_type": "code",
      "metadata": {
        "id": "FAnBfTp4ViPY",
        "outputId": "1e1fb4e7-fda7-4116-c15d-ba7bd42ebc90",
        "colab": {
          "base_uri": "https://localhost:8080/"
        }
      },
      "source": [
        "dataset.apelido.describe()"
      ],
      "execution_count": null,
      "outputs": [
        {
          "output_type": "execute_result",
          "data": {
            "text/plain": [
              "count           1658825\n",
              "unique           774516\n",
              "top       Lusa_noticias\n",
              "freq               1404\n",
              "Name: apelido, dtype: object"
            ]
          },
          "metadata": {
            "tags": []
          },
          "execution_count": 9
        }
      ]
    },
    {
      "cell_type": "code",
      "metadata": {
        "id": "YlrNtCL7YXi2",
        "outputId": "95a674c0-c107-4dad-b257-29b6f89099eb",
        "colab": {
          "base_uri": "https://localhost:8080/"
        }
      },
      "source": [
        "apelidos_total = len(dataset.apelido)\n",
        "apelidos_unicos = dataset.apelido.nunique()\n",
        "apelidos_null = dataset.apelido.isnull().sum()\n",
        "apelidos_duplicados = apelidos_total - apelidos_unicos - apelidos_null\n",
        "apelidos_df = pd.DataFrame({\n",
        "                  'Apelidos': ['únicos', 'duplicados', 'vazio'] ,\n",
        "                   'Contagem' : [apelidos_unicos, apelidos_duplicados, apelidos_null],\n",
        "                   'Porcentagem' : [(apelidos_unicos/apelidos_total)*100, (apelidos_duplicados/apelidos_total)*100, (apelidos_null/apelidos_total)*100]})\n",
        "apelidos_df"
      ],
      "execution_count": null,
      "outputs": [
        {
          "output_type": "execute_result",
          "data": {
            "text/plain": [
              "     Apelidos  Contagem  Porcentagem\n",
              "0      únicos    774516    46.690639\n",
              "1  duplicados    884309    53.309361\n",
              "2       vazio         0     0.000000"
            ],
            "text/html": [
              "<div>\n",
              "<style scoped>\n",
              "    .dataframe tbody tr th:only-of-type {\n",
              "        vertical-align: middle;\n",
              "    }\n",
              "\n",
              "    .dataframe tbody tr th {\n",
              "        vertical-align: top;\n",
              "    }\n",
              "\n",
              "    .dataframe thead th {\n",
              "        text-align: right;\n",
              "    }\n",
              "</style>\n",
              "<table border=\"1\" class=\"dataframe\">\n",
              "  <thead>\n",
              "    <tr style=\"text-align: right;\">\n",
              "      <th></th>\n",
              "      <th>Apelidos</th>\n",
              "      <th>Contagem</th>\n",
              "      <th>Porcentagem</th>\n",
              "    </tr>\n",
              "  </thead>\n",
              "  <tbody>\n",
              "    <tr>\n",
              "      <th>0</th>\n",
              "      <td>únicos</td>\n",
              "      <td>774516</td>\n",
              "      <td>46.690639</td>\n",
              "    </tr>\n",
              "    <tr>\n",
              "      <th>1</th>\n",
              "      <td>duplicados</td>\n",
              "      <td>884309</td>\n",
              "      <td>53.309361</td>\n",
              "    </tr>\n",
              "    <tr>\n",
              "      <th>2</th>\n",
              "      <td>vazio</td>\n",
              "      <td>0</td>\n",
              "      <td>0.000000</td>\n",
              "    </tr>\n",
              "  </tbody>\n",
              "</table>\n",
              "</div>"
            ]
          },
          "metadata": {
            "tags": []
          },
          "execution_count": 10
        }
      ]
    },
    {
      "cell_type": "markdown",
      "metadata": {
        "id": "ctrhY8buHtYu"
      },
      "source": [
        "**Número de apelidos por País**"
      ]
    },
    {
      "cell_type": "code",
      "metadata": {
        "id": "6CwgfKEeH9gp",
        "outputId": "800894d4-d538-430c-d071-966a77681e86",
        "colab": {
          "base_uri": "https://localhost:8080/"
        }
      },
      "source": [
        "# Agrupa todos os usuários por pais e conta quantos usuários tem de cada país.\n",
        "apelido_pais = dataset.groupby(\"pais\", as_index=False)[\"apelido\"].count().sort_values(\"apelido\", ascending=False)\n",
        "\n",
        "# Calcula a porcentagem de participação\n",
        "apelido_pais['apelido']= (apelido_pais['apelido']/apelido_pais['apelido'].sum())*100\n",
        "\n",
        "# Divide o dataset apelido_pais em duas partes. \n",
        "# apelido_pais_grandes representa todos os países com pelo menos 0.5% de participação\n",
        "# apelido_pais_pequenos representa todos os países com menos de 0.5% de participação\n",
        "apelido_pais_grandes = apelido_pais[apelido_pais.apelido >= 0.5] .sort_values(\"apelido\", ascending=False)\n",
        "apelido_pais_pequenos = apelido_pais[apelido_pais.apelido < 0.5]\n",
        "\n",
        "# Calcula a porcentagem de participação total de todos os países com menos de 0.5% de participação\n",
        "apelidos_total_outros_paises = apelido_pais_pequenos['apelido'].sum()\n",
        "\n",
        "# Reseta o indice do dataset apelido_pais_grandes para evitar warnings ao adicionar uma nova linha\n",
        "apelido_pais_grandes = apelido_pais_grandes.reset_index(drop=True)\n",
        "\n",
        "# Adiciona a nova linha 'Outros Países' ao dataset apelido_pais_grandes\n",
        "apelido_pais_grandes.loc[len(apelido_pais_grandes.index)] = ['Outros Países',apelidos_total_outros_paises]\n",
        "\n",
        "# Ordena o dataset apelido_pais_grandes do maior para o menor\n",
        "apelido_pais_grandes = apelido_pais_grandes.sort_values(\"apelido\", ascending=False).reset_index(drop=True)\n",
        "\n",
        "# Exibe o dataset apelido_pais_grandes\n",
        "apelido_pais_grandes = apelido_pais_grandes.rename(columns={\"pais\" : \"Pais\", \"apelido\" : \"Presença de usuários (em %)\"})\n",
        "apelido_pais_grandes"
      ],
      "execution_count": null,
      "outputs": [
        {
          "output_type": "execute_result",
          "data": {
            "text/plain": [
              "            Pais  Presença de usuários (em %)\n",
              "0         Brazil                    90.143432\n",
              "1  Outros Países                     3.682306\n",
              "2       Portugal                     3.585791\n",
              "3  United States                     1.431635\n",
              "4          Italy                     0.648794\n",
              "5          Spain                     0.508043"
            ],
            "text/html": [
              "<div>\n",
              "<style scoped>\n",
              "    .dataframe tbody tr th:only-of-type {\n",
              "        vertical-align: middle;\n",
              "    }\n",
              "\n",
              "    .dataframe tbody tr th {\n",
              "        vertical-align: top;\n",
              "    }\n",
              "\n",
              "    .dataframe thead th {\n",
              "        text-align: right;\n",
              "    }\n",
              "</style>\n",
              "<table border=\"1\" class=\"dataframe\">\n",
              "  <thead>\n",
              "    <tr style=\"text-align: right;\">\n",
              "      <th></th>\n",
              "      <th>Pais</th>\n",
              "      <th>Presença de usuários (em %)</th>\n",
              "    </tr>\n",
              "  </thead>\n",
              "  <tbody>\n",
              "    <tr>\n",
              "      <th>0</th>\n",
              "      <td>Brazil</td>\n",
              "      <td>90.143432</td>\n",
              "    </tr>\n",
              "    <tr>\n",
              "      <th>1</th>\n",
              "      <td>Outros Países</td>\n",
              "      <td>3.682306</td>\n",
              "    </tr>\n",
              "    <tr>\n",
              "      <th>2</th>\n",
              "      <td>Portugal</td>\n",
              "      <td>3.585791</td>\n",
              "    </tr>\n",
              "    <tr>\n",
              "      <th>3</th>\n",
              "      <td>United States</td>\n",
              "      <td>1.431635</td>\n",
              "    </tr>\n",
              "    <tr>\n",
              "      <th>4</th>\n",
              "      <td>Italy</td>\n",
              "      <td>0.648794</td>\n",
              "    </tr>\n",
              "    <tr>\n",
              "      <th>5</th>\n",
              "      <td>Spain</td>\n",
              "      <td>0.508043</td>\n",
              "    </tr>\n",
              "  </tbody>\n",
              "</table>\n",
              "</div>"
            ]
          },
          "metadata": {
            "tags": []
          },
          "execution_count": 11
        }
      ]
    },
    {
      "cell_type": "markdown",
      "metadata": {
        "id": "SJhqfm6_H_yj"
      },
      "source": [
        "**Gráfico de apelidos por país**"
      ]
    },
    {
      "cell_type": "code",
      "metadata": {
        "id": "xArFTqB1IFiB",
        "outputId": "f51dd0b4-9265-4d88-dea6-94edeb7faf61",
        "colab": {
          "base_uri": "https://localhost:8080/"
        }
      },
      "source": [
        "sns.set(style=\"whitegrid\")\n",
        "plt.rcParams['figure.dpi'] = 120\n",
        "f, ax = plt.subplots(figsize=(10, 3))\n",
        "sns.set_color_codes(\"pastel\")\n",
        "sns.barplot(x=\"Presença de usuários (em %)\", y=\"Pais\", data=apelido_pais_grandes)\n",
        "ax.set(xlim=(0, 100), ylabel=\"\", xlabel=\"Presença de usuários por país (em %)\")\n",
        "sns.despine(left=True, bottom=True)"
      ],
      "execution_count": null,
      "outputs": [
        {
          "output_type": "display_data",
          "data": {
            "text/plain": [
              "<Figure size 1200x360 with 1 Axes>"
            ],
            "image/png": "[encoded data removed]"
          },
          "metadata": {
            "tags": []
          }
        }
      ]
    },
    {
      "cell_type": "markdown",
      "metadata": {
        "id": "ZXeu5y7KJfab"
      },
      "source": [
        "Nota: A porcentagem de presença de usuários por país se refere ao real número de usuários no campo 'apelido'. A definição de 'usuario' e 'apelido' está trocada no dataset."
      ]
    },
    {
      "cell_type": "markdown",
      "metadata": {
        "id": "F4nqEcx6nAdL"
      },
      "source": [
        "**Número de apelidos por Idioma**"
      ]
    },
    {
      "cell_type": "code",
      "metadata": {
        "id": "ngdrIU4dnCyd",
        "outputId": "6554e428-26f8-42e8-811e-e75a35dab6f2",
        "colab": {
          "base_uri": "https://localhost:8080/"
        }
      },
      "source": [
        "# Agrupa todos os usuários por idioma e conta quantos usuários tem de cada idioma.\n",
        "apelido_idioma = dataset.groupby(\"idioma\", as_index=False)[\"apelido\"].count().sort_values(\"apelido\", ascending=False)\n",
        "\n",
        "# Calcula a porcentagem de participação\n",
        "apelido_idioma['apelido']= (apelido_idioma['apelido']/apelido_idioma['apelido'].sum())*100\n",
        "\n",
        "# Divide o dataset apelido_idioma em duas partes.\n",
        "# apelido_idioma_grandes representa os cinco idiomas mais representativos do dataset\n",
        "# apelido_idioma_pequenos representa todos os outros idiomas depois do quinto mais representativo\n",
        "apelido_idioma_grandes = apelido_idioma[:5]\n",
        "apelido_idioma_pequenos = apelido_idioma[5:]\n",
        "\n",
        "# Calcula a porcentagem de participação total de todos os idiomas com depois do quinto mais representativo\n",
        "apelidos_total_outros_idiomas = apelido_idioma_pequenos['apelido'].sum()\n",
        "\n",
        "# Reseta o indice do dataset apelido_idioma_grandes para evitar warnings ao adicionar uma nova linha\n",
        "apelido_idioma_grandes = apelido_idioma_grandes.reset_index(drop=True)\n",
        "\n",
        "# Adiciona a nova linha 'Outros Idiomas' ao dataset apelido_idioma_grandes\n",
        "apelido_idioma_grandes.loc[len(apelido_idioma_grandes.index)] = ['Outros Idiomas',apelidos_total_outros_idiomas]\n",
        "\n",
        "# Ordena o dataset apelido_idioma_grandes do maior para o menor\n",
        "apelido_idioma_grandes = apelido_idioma_grandes.sort_values(\"apelido\", ascending=False).reset_index(drop=True)\n",
        "\n",
        "# Exibe o dataset apelido_idioma_grandes\n",
        "apelido_idioma_grandes = apelido_idioma_grandes.rename(columns={\"idioma\" : \"Idioma\", \"apelido\" : \"Presença de usuários (em %)\"})\n",
        "apelido_idioma_grandes"
      ],
      "execution_count": null,
      "outputs": [
        {
          "output_type": "execute_result",
          "data": {
            "text/plain": [
              "           Idioma  Presença de usuários (em %)\n",
              "0              pt                    95.657830\n",
              "1              en                     1.446265\n",
              "2  Outros Idiomas                     1.304960\n",
              "3              es                     0.859343\n",
              "4              it                     0.390638\n",
              "5             und                     0.340964"
            ],
            "text/html": [
              "<div>\n",
              "<style scoped>\n",
              "    .dataframe tbody tr th:only-of-type {\n",
              "        vertical-align: middle;\n",
              "    }\n",
              "\n",
              "    .dataframe tbody tr th {\n",
              "        vertical-align: top;\n",
              "    }\n",
              "\n",
              "    .dataframe thead th {\n",
              "        text-align: right;\n",
              "    }\n",
              "</style>\n",
              "<table border=\"1\" class=\"dataframe\">\n",
              "  <thead>\n",
              "    <tr style=\"text-align: right;\">\n",
              "      <th></th>\n",
              "      <th>Idioma</th>\n",
              "      <th>Presença de usuários (em %)</th>\n",
              "    </tr>\n",
              "  </thead>\n",
              "  <tbody>\n",
              "    <tr>\n",
              "      <th>0</th>\n",
              "      <td>pt</td>\n",
              "      <td>95.657830</td>\n",
              "    </tr>\n",
              "    <tr>\n",
              "      <th>1</th>\n",
              "      <td>en</td>\n",
              "      <td>1.446265</td>\n",
              "    </tr>\n",
              "    <tr>\n",
              "      <th>2</th>\n",
              "      <td>Outros Idiomas</td>\n",
              "      <td>1.304960</td>\n",
              "    </tr>\n",
              "    <tr>\n",
              "      <th>3</th>\n",
              "      <td>es</td>\n",
              "      <td>0.859343</td>\n",
              "    </tr>\n",
              "    <tr>\n",
              "      <th>4</th>\n",
              "      <td>it</td>\n",
              "      <td>0.390638</td>\n",
              "    </tr>\n",
              "    <tr>\n",
              "      <th>5</th>\n",
              "      <td>und</td>\n",
              "      <td>0.340964</td>\n",
              "    </tr>\n",
              "  </tbody>\n",
              "</table>\n",
              "</div>"
            ]
          },
          "metadata": {
            "tags": []
          },
          "execution_count": 13
        }
      ]
    },
    {
      "cell_type": "markdown",
      "metadata": {
        "id": "P6YGXyZxokjg"
      },
      "source": [
        "Observações:\n",
        "\n",
        "1. A porcentagem de presença de usuários por idioma se refere ao real número de usuários no campo 'apelido'. A definição de 'usuario' e 'apelido' está trocada no dataset.\n",
        "2. O idioma '**und**' significa **undefined**, que em português seria \"**não definido**\". Os usuários no twitter podem escolher opções de privacidade para não compartilhar o idioma."
      ]
    },
    {
      "cell_type": "markdown",
      "metadata": {
        "id": "mV7pSiYux41e"
      },
      "source": [
        "**Comparando apelidos por país com apelidos por idioma**"
      ]
    },
    {
      "cell_type": "code",
      "metadata": {
        "id": "S4Sy9i53x7Md",
        "outputId": "6f78bf98-fc4f-476b-fb43-fab93b98bd2a",
        "colab": {
          "base_uri": "https://localhost:8080/"
        }
      },
      "source": [
        "apelido_pais_grandes"
      ],
      "execution_count": null,
      "outputs": [
        {
          "output_type": "execute_result",
          "data": {
            "text/plain": [
              "            Pais  Presença de usuários (em %)\n",
              "0         Brazil                    90.143432\n",
              "1  Outros Países                     3.682306\n",
              "2       Portugal                     3.585791\n",
              "3  United States                     1.431635\n",
              "4          Italy                     0.648794\n",
              "5          Spain                     0.508043"
            ],
            "text/html": [
              "<div>\n",
              "<style scoped>\n",
              "    .dataframe tbody tr th:only-of-type {\n",
              "        vertical-align: middle;\n",
              "    }\n",
              "\n",
              "    .dataframe tbody tr th {\n",
              "        vertical-align: top;\n",
              "    }\n",
              "\n",
              "    .dataframe thead th {\n",
              "        text-align: right;\n",
              "    }\n",
              "</style>\n",
              "<table border=\"1\" class=\"dataframe\">\n",
              "  <thead>\n",
              "    <tr style=\"text-align: right;\">\n",
              "      <th></th>\n",
              "      <th>Pais</th>\n",
              "      <th>Presença de usuários (em %)</th>\n",
              "    </tr>\n",
              "  </thead>\n",
              "  <tbody>\n",
              "    <tr>\n",
              "      <th>0</th>\n",
              "      <td>Brazil</td>\n",
              "      <td>90.143432</td>\n",
              "    </tr>\n",
              "    <tr>\n",
              "      <th>1</th>\n",
              "      <td>Outros Países</td>\n",
              "      <td>3.682306</td>\n",
              "    </tr>\n",
              "    <tr>\n",
              "      <th>2</th>\n",
              "      <td>Portugal</td>\n",
              "      <td>3.585791</td>\n",
              "    </tr>\n",
              "    <tr>\n",
              "      <th>3</th>\n",
              "      <td>United States</td>\n",
              "      <td>1.431635</td>\n",
              "    </tr>\n",
              "    <tr>\n",
              "      <th>4</th>\n",
              "      <td>Italy</td>\n",
              "      <td>0.648794</td>\n",
              "    </tr>\n",
              "    <tr>\n",
              "      <th>5</th>\n",
              "      <td>Spain</td>\n",
              "      <td>0.508043</td>\n",
              "    </tr>\n",
              "  </tbody>\n",
              "</table>\n",
              "</div>"
            ]
          },
          "metadata": {
            "tags": []
          },
          "execution_count": 14
        }
      ]
    },
    {
      "cell_type": "code",
      "metadata": {
        "id": "p1jJ_KZtx89W",
        "outputId": "810cfd81-d440-4170-ee0b-c2a82fbf37bf",
        "colab": {
          "base_uri": "https://localhost:8080/"
        }
      },
      "source": [
        "apelido_idioma_grandes"
      ],
      "execution_count": null,
      "outputs": [
        {
          "output_type": "execute_result",
          "data": {
            "text/plain": [
              "           Idioma  Presença de usuários (em %)\n",
              "0              pt                    95.657830\n",
              "1              en                     1.446265\n",
              "2  Outros Idiomas                     1.304960\n",
              "3              es                     0.859343\n",
              "4              it                     0.390638\n",
              "5             und                     0.340964"
            ],
            "text/html": [
              "<div>\n",
              "<style scoped>\n",
              "    .dataframe tbody tr th:only-of-type {\n",
              "        vertical-align: middle;\n",
              "    }\n",
              "\n",
              "    .dataframe tbody tr th {\n",
              "        vertical-align: top;\n",
              "    }\n",
              "\n",
              "    .dataframe thead th {\n",
              "        text-align: right;\n",
              "    }\n",
              "</style>\n",
              "<table border=\"1\" class=\"dataframe\">\n",
              "  <thead>\n",
              "    <tr style=\"text-align: right;\">\n",
              "      <th></th>\n",
              "      <th>Idioma</th>\n",
              "      <th>Presença de usuários (em %)</th>\n",
              "    </tr>\n",
              "  </thead>\n",
              "  <tbody>\n",
              "    <tr>\n",
              "      <th>0</th>\n",
              "      <td>pt</td>\n",
              "      <td>95.657830</td>\n",
              "    </tr>\n",
              "    <tr>\n",
              "      <th>1</th>\n",
              "      <td>en</td>\n",
              "      <td>1.446265</td>\n",
              "    </tr>\n",
              "    <tr>\n",
              "      <th>2</th>\n",
              "      <td>Outros Idiomas</td>\n",
              "      <td>1.304960</td>\n",
              "    </tr>\n",
              "    <tr>\n",
              "      <th>3</th>\n",
              "      <td>es</td>\n",
              "      <td>0.859343</td>\n",
              "    </tr>\n",
              "    <tr>\n",
              "      <th>4</th>\n",
              "      <td>it</td>\n",
              "      <td>0.390638</td>\n",
              "    </tr>\n",
              "    <tr>\n",
              "      <th>5</th>\n",
              "      <td>und</td>\n",
              "      <td>0.340964</td>\n",
              "    </tr>\n",
              "  </tbody>\n",
              "</table>\n",
              "</div>"
            ]
          },
          "metadata": {
            "tags": []
          },
          "execution_count": 15
        }
      ]
    },
    {
      "cell_type": "markdown",
      "metadata": {
        "id": "lTDSYNOOyBe1"
      },
      "source": [
        "Observações:\n",
        "\n",
        "1. O Brasil é o país com o maior número de usuários, seguido por Portugal e ambos falam português. Porém se somarmos o número de usuários de Brasil e Portugal não dará o mesmo número de usuários por idioma em pt. Isso quer dizer que há mais países que falam português no dataset além de Brasil e Portugal.\n",
        "2. O número de usuários na Itália é maior do que na Espanha. Entretanto, o idioma Espanhol tem mais do que o dobro de usuários que o Italiano. Isso é porque há mais países falam Espanhol do que Italiano.\n",
        "3. Podemos observar que o número de usuários nos EUA é muito próximo do número de usuários que falam inglês, com isso poderíamos **erroneamente** considerar que a maioria dos usuários que estão nos EUA falam inglês. No entanto, podem haver usuários que estão no EUA e falam outro idioma. Os dois sub datasets apresentados são relacionados entre si apenas para o número de usuários. Para confirmar a hipótese de que a maioria dos usuários dos EUA falam inglẽs, seria necessário fazer uma relação entre país e idioma."
      ]
    },
    {
      "cell_type": "markdown",
      "metadata": {
        "id": "fR_8hjZ52jmn"
      },
      "source": [
        "### Sumário para o campo *texto*"
      ]
    },
    {
      "cell_type": "markdown",
      "metadata": {
        "id": "yDAufgPl2pW9"
      },
      "source": [
        "**Resuno geral:**\n",
        "> Possui 1658825 campos, onde 1653599 são únicos\n",
        "\n",
        "\n",
        "> Texto com maior frequência \"covid 19? desculpa eu entendi convite para ficar de love\", frequência do texto 120."
      ]
    },
    {
      "cell_type": "code",
      "metadata": {
        "id": "15PZlCpO2t4i",
        "outputId": "ae6246f5-6001-4ba6-9afb-510f2f54cd86",
        "colab": {
          "base_uri": "https://localhost:8080/"
        }
      },
      "source": [
        "dataset.texto.describe()"
      ],
      "execution_count": null,
      "outputs": [
        {
          "output_type": "execute_result",
          "data": {
            "text/plain": [
              "count                                               1658825\n",
              "unique                                              1653599\n",
              "top       covid 19? desculpa eu entendi convite pra fica...\n",
              "freq                                                    120\n",
              "Name: texto, dtype: object"
            ]
          },
          "metadata": {
            "tags": []
          },
          "execution_count": 16
        }
      ]
    },
    {
      "cell_type": "markdown",
      "metadata": {
        "id": "aC2QSw5j25oa"
      },
      "source": [
        "**Texto duplicados:**\n",
        "\n",
        "\n",
        "> Os texto que possuem maior duplicidade são:\n",
        "\n",
        "*   covid 19? desculpa eu entendi convite para ficar de love\n",
        "*   e vamos de pandemia\n",
        "* Temos muitos infectados, mas não é de coronavírus, é maldade e inveja...\n",
        "* e vamos de isolamento social"
      ]
    },
    {
      "cell_type": "code",
      "metadata": {
        "id": "BpYLItw63EOY",
        "outputId": "4508c170-5d8e-4887-ac7b-b31378593925",
        "colab": {
          "base_uri": "https://localhost:8080/"
        }
      },
      "source": [
        "duplicado  = dataset.texto.value_counts().reset_index().rename(columns={'index': 'Texto', 'texto': 'Total'})\n",
        "duplicado"
      ],
      "execution_count": null,
      "outputs": [
        {
          "output_type": "execute_result",
          "data": {
            "text/plain": [
              "                                                     Texto  Total\n",
              "0        covid 19? desculpa eu entendi convite pra fica...    120\n",
              "1                                      e vamos de pandemia     82\n",
              "2        Tem muitos infectados, mas não é de coronavíru...     70\n",
              "3                             e vamos de isolamento social     63\n",
              "4        #Podcast - Tudo sobre o #Coronavirus aqui. Ouç...     50\n",
              "...                                                    ...    ...\n",
              "1653594  #Repost @deboramarcier\\n• • • • • •\\nCOMUNICAM...      1\n",
              "1653595  Estou esperando o dia em q o @jornalnacional v...      1\n",
              "1653596  Comprem álcool, máscaras, luvas e água sanitár...      1\n",
              "1653597       Essa cena do coronavírus está a meter medo 😨      1\n",
              "1653598  Sei que pode ser um equivoco de minha Parte, d...      1\n",
              "\n",
              "[1653599 rows x 2 columns]"
            ],
            "text/html": [
              "<div>\n",
              "<style scoped>\n",
              "    .dataframe tbody tr th:only-of-type {\n",
              "        vertical-align: middle;\n",
              "    }\n",
              "\n",
              "    .dataframe tbody tr th {\n",
              "        vertical-align: top;\n",
              "    }\n",
              "\n",
              "    .dataframe thead th {\n",
              "        text-align: right;\n",
              "    }\n",
              "</style>\n",
              "<table border=\"1\" class=\"dataframe\">\n",
              "  <thead>\n",
              "    <tr style=\"text-align: right;\">\n",
              "      <th></th>\n",
              "      <th>Texto</th>\n",
              "      <th>Total</th>\n",
              "    </tr>\n",
              "  </thead>\n",
              "  <tbody>\n",
              "    <tr>\n",
              "      <th>0</th>\n",
              "      <td>covid 19? desculpa eu entendi convite pra fica...</td>\n",
              "      <td>120</td>\n",
              "    </tr>\n",
              "    <tr>\n",
              "      <th>1</th>\n",
              "      <td>e vamos de pandemia</td>\n",
              "      <td>82</td>\n",
              "    </tr>\n",
              "    <tr>\n",
              "      <th>2</th>\n",
              "      <td>Tem muitos infectados, mas não é de coronavíru...</td>\n",
              "      <td>70</td>\n",
              "    </tr>\n",
              "    <tr>\n",
              "      <th>3</th>\n",
              "      <td>e vamos de isolamento social</td>\n",
              "      <td>63</td>\n",
              "    </tr>\n",
              "    <tr>\n",
              "      <th>4</th>\n",
              "      <td>#Podcast - Tudo sobre o #Coronavirus aqui. Ouç...</td>\n",
              "      <td>50</td>\n",
              "    </tr>\n",
              "    <tr>\n",
              "      <th>...</th>\n",
              "      <td>...</td>\n",
              "      <td>...</td>\n",
              "    </tr>\n",
              "    <tr>\n",
              "      <th>1653594</th>\n",
              "      <td>#Repost @deboramarcier\\n• • • • • •\\nCOMUNICAM...</td>\n",
              "      <td>1</td>\n",
              "    </tr>\n",
              "    <tr>\n",
              "      <th>1653595</th>\n",
              "      <td>Estou esperando o dia em q o @jornalnacional v...</td>\n",
              "      <td>1</td>\n",
              "    </tr>\n",
              "    <tr>\n",
              "      <th>1653596</th>\n",
              "      <td>Comprem álcool, máscaras, luvas e água sanitár...</td>\n",
              "      <td>1</td>\n",
              "    </tr>\n",
              "    <tr>\n",
              "      <th>1653597</th>\n",
              "      <td>Essa cena do coronavírus está a meter medo 😨</td>\n",
              "      <td>1</td>\n",
              "    </tr>\n",
              "    <tr>\n",
              "      <th>1653598</th>\n",
              "      <td>Sei que pode ser um equivoco de minha Parte, d...</td>\n",
              "      <td>1</td>\n",
              "    </tr>\n",
              "  </tbody>\n",
              "</table>\n",
              "<p>1653599 rows × 2 columns</p>\n",
              "</div>"
            ]
          },
          "metadata": {
            "tags": []
          },
          "execution_count": 17
        }
      ]
    },
    {
      "cell_type": "markdown",
      "metadata": {
        "id": "GqdF_V6wwJUg"
      },
      "source": [
        "### Sumário para o campo *retweet*\n",
        "\n"
      ]
    },
    {
      "cell_type": "markdown",
      "metadata": {
        "id": "aFfnPDq5qLBJ"
      },
      "source": [
        "> Média de retweets por idioma"
      ]
    },
    {
      "cell_type": "code",
      "metadata": {
        "id": "cWPR5teD03aN",
        "outputId": "76fb5d68-aee9-4594-865d-b4b9739b896d",
        "colab": {
          "base_uri": "https://localhost:8080/"
        }
      },
      "source": [
        "retweet_idioma = dataset.groupby('idioma').retweet.mean()\n",
        "\n",
        "retweet_idioma.sort_values(ascending=False)"
      ],
      "execution_count": null,
      "outputs": [
        {
          "output_type": "execute_result",
          "data": {
            "text/plain": [
              "idioma\n",
              "ko     71714.169118\n",
              "th     11485.112360\n",
              "en      8583.975574\n",
              "und     2974.349364\n",
              "in      2073.594937\n",
              "ja      2048.657289\n",
              "fr      1897.999726\n",
              "da      1181.511111\n",
              "cy       973.871795\n",
              "es       853.611926\n",
              "zh       754.588235\n",
              "fi       620.909091\n",
              "hi       589.490722\n",
              "et       561.043210\n",
              "tr       533.895035\n",
              "te       496.117647\n",
              "ro       393.066667\n",
              "ar       367.008080\n",
              "ht       306.419162\n",
              "cs       275.305556\n",
              "tl       259.064570\n",
              "ur       253.055866\n",
              "sd       239.166667\n",
              "ta       214.750000\n",
              "dv       205.000000\n",
              "hu       199.307692\n",
              "de       183.986150\n",
              "lt       164.872093\n",
              "uk       145.054054\n",
              "sl       140.833333\n",
              "vi       118.956522\n",
              "eu       117.465517\n",
              "my       108.000000\n",
              "or       106.500000\n",
              "fa        82.992248\n",
              "pl        79.530534\n",
              "sr        74.950000\n",
              "kn        62.000000\n",
              "ru        56.093525\n",
              "el        46.882979\n",
              "nl        43.788462\n",
              "mr        43.000000\n",
              "bn        30.500000\n",
              "it        27.114969\n",
              "gu        19.428571\n",
              "ca        18.160769\n",
              "pt        16.993245\n",
              "ne        13.363636\n",
              "sv        10.940476\n",
              "ps         9.833333\n",
              "is         9.380952\n",
              "no         5.589286\n",
              "iw         4.666667\n",
              "bg         1.250000\n",
              "ckb        0.800000\n",
              "lv         0.305556\n",
              "ml         0.000000\n",
              "si         0.000000\n",
              "am         0.000000\n",
              "Name: retweet, dtype: float64"
            ]
          },
          "metadata": {
            "tags": []
          },
          "execution_count": 18
        }
      ]
    },
    {
      "cell_type": "markdown",
      "metadata": {
        "id": "UlKx-P-q7MSz"
      },
      "source": [
        "\n",
        "\n",
        "> Somatoria de retweets por texto\n",
        "\n"
      ]
    },
    {
      "cell_type": "code",
      "metadata": {
        "id": "n6OKQc993_Zq",
        "outputId": "ef682316-bfcd-41cc-c0ad-c14e2fe60f4a",
        "colab": {
          "base_uri": "https://localhost:8080/"
        }
      },
      "source": [
        "retweet_texto = dataset.groupby('texto').retweet.sum()\n",
        "\n",
        "retweet_texto.sort_values(ascending=False)"
      ],
      "execution_count": null,
      "outputs": [
        {
          "output_type": "execute_result",
          "data": {
            "text/plain": [
              "texto\n",
              "RT @BTS_twt: 하루종일 쉬는중!\\n우리 아미들도 쉬는날엔 하루종일 쉽시다\\n#BOTD #BTS_OF_THE_DAY https://t.co/1ImqLijZHa                                                     3630493\n",
              "RT @OfficialMLK3: As my father explained during his lifetime, a riot is the language of the unheard.                                             3334793\n",
              "RT @andymilonakis: Congratulations to the Astronauts that left Earth today. Good choice                                                          3219652\n",
              "RT @BTS_twt: D-2 #AgustD https://t.co/2BPGGs8KbN                                                                                                 3072179\n",
              "RT @OfficialMLK3: No justice, no peace. No justice, no peace. No justice, no peace.                                                              2878644\n",
              "                                                                                                                                                  ...   \n",
              "Isso é bobagem! A questão não é o Bozo, e sim tratar um continente chamado Brasil como se tudo se resumisse ao Rio… https://t.co/GCjPRRwi5y            0\n",
              "Isso é cachaceiro querendo tomar uma pinga pra combater o covid19 https://t.co/XBjsTic5Wv                                                              0\n",
              "Isso é cara que está em quarentena desde que nasceu. https://t.co/UMGhiuF4Ke                                                                           0\n",
              "Isso é carência ou corona vírus?                                                                                                                       0\n",
              "!\\nclaro que o coronavírus é importante mas aqui a gente já tem as nossas doenças tropicais que têm uma taxa de mort… https://t.co/xqKiTFhJ9K          0\n",
              "Name: retweet, Length: 1653599, dtype: int64"
            ]
          },
          "metadata": {
            "tags": []
          },
          "execution_count": 19
        }
      ]
    },
    {
      "cell_type": "markdown",
      "metadata": {
        "id": "9VIbXKvK7T54"
      },
      "source": [
        "\n",
        "\n",
        "> Somatorio de retweets por pais\n",
        "\n"
      ]
    },
    {
      "cell_type": "code",
      "metadata": {
        "id": "KS-rQolU412T",
        "outputId": "834a7cac-7b81-4e75-da56-191cc17509f8",
        "colab": {
          "base_uri": "https://localhost:8080/"
        }
      },
      "source": [
        "retweet_pais = dataset.groupby('pais').retweet.sum()\n",
        "\n",
        "retweet_pais.sort_values(ascending=False)"
      ],
      "execution_count": null,
      "outputs": [
        {
          "output_type": "execute_result",
          "data": {
            "text/plain": [
              "pais\n",
              "Brazil           218346\n",
              "Portugal          11874\n",
              "United States      4501\n",
              "France             2534\n",
              "Italy               669\n",
              "                  ...  \n",
              "Lithuania             0\n",
              "Luxembourg            0\n",
              "Macau                 0\n",
              "Malaysia              0\n",
              "Andorra               0\n",
              "Name: retweet, Length: 121, dtype: int64"
            ]
          },
          "metadata": {
            "tags": []
          },
          "execution_count": 20
        }
      ]
    },
    {
      "cell_type": "markdown",
      "metadata": {
        "id": "WiOcd3K14gij"
      },
      "source": [
        "\n",
        "\n",
        "> Usuários com maiores retweets\n",
        "\n"
      ]
    },
    {
      "cell_type": "code",
      "metadata": {
        "id": "Pg_JdGuW9TaS",
        "outputId": "06ec7ad5-01ee-430d-9a95-65c94b351505",
        "colab": {
          "base_uri": "https://localhost:8080/"
        }
      },
      "source": [
        "retweet_usuario = dataset.groupby('usuario').retweet.max()\n",
        "\n",
        "retweet_usuario.sort_values(ascending=False)"
      ],
      "execution_count": null,
      "outputs": [
        {
          "output_type": "execute_result",
          "data": {
            "text/plain": [
              "usuario\n",
              "Maryy                         1139763\n",
              "My cabbages!!                  989485\n",
              "Tr1gger Mike                   901093\n",
              "tweets not loading             850226\n",
              "Lyndsay⁷                       842837\n",
              "                               ...   \n",
              "Thiago Vasconcelos                  0\n",
              "Thiago Vasconcelos Pereira          0\n",
              "Thiago Ventura 🇧🇷 🚘                 0\n",
              "Thiago Viana Carraro                0\n",
              " ESTSOCCIENCIA                      0\n",
              "Name: retweet, Length: 632601, dtype: int64"
            ]
          },
          "metadata": {
            "tags": []
          },
          "execution_count": 21
        }
      ]
    },
    {
      "cell_type": "markdown",
      "metadata": {
        "id": "AsWHQYCl-VFZ"
      },
      "source": [
        "\n",
        "\n",
        "> Hashtags com maiores quantidade de retweets\n",
        "\n"
      ]
    },
    {
      "cell_type": "code",
      "metadata": {
        "id": "fm1cnnZa-HWg",
        "outputId": "83abf313-55cd-46a4-83d3-e97ea590a4b4",
        "colab": {
          "base_uri": "https://localhost:8080/"
        }
      },
      "source": [
        "retweent_hashtags = dataset.groupby('hashtags').retweet.sum()\n",
        "\n",
        "retweent_hashtags.sort_values(ascending=False)"
      ],
      "execution_count": null,
      "outputs": [
        {
          "output_type": "execute_result",
          "data": {
            "text/plain": [
              "hashtags\n",
              "[]                                                                              287100210\n",
              "['BOTD', 'BTS_OF_THE_DAY']                                                        8416915\n",
              "['AgustD']                                                                        3072179\n",
              "['0613FM_0515']                                                                   2664793\n",
              "['JIMIN']                                                                         2504973\n",
              "                                                                                  ...    \n",
              "['bordercollie', 'covid_19', 'pastoreio', 'herdingdog']                                 0\n",
              "['boraviajar', 'ferias', 'virus', 'Coronavirus', 'saude']                               0\n",
              "['boratrabalhar']                                                                       0\n",
              "['boratrabalhar', 'ficaemcasa', 'ficaemcasaporra', 'covid_19', 'quarentena']            0\n",
              "['007SemTempoParaMorrer', 'Coronavirus']                                                0\n",
              "Name: retweet, Length: 63838, dtype: int64"
            ]
          },
          "metadata": {
            "tags": []
          },
          "execution_count": 22
        }
      ]
    },
    {
      "cell_type": "markdown",
      "metadata": {
        "id": "r3Y7uEeLeUQL"
      },
      "source": [
        "### Sumário para o campo *seguidores*\n",
        "\n",
        "\n"
      ]
    },
    {
      "cell_type": "markdown",
      "metadata": {
        "id": "wXntIerMqb6X"
      },
      "source": [
        "> Existem 69575 usuários classificados como influeciadores, critério maior que 50000 seguidores. Representando 4,19% do dataset."
      ]
    },
    {
      "cell_type": "code",
      "metadata": {
        "id": "7znJ40HmfYMd"
      },
      "source": [
        "influenciadores = dataset.query('seguidores > 50000 ')"
      ],
      "execution_count": null,
      "outputs": []
    },
    {
      "cell_type": "markdown",
      "metadata": {
        "id": "yo1l2v6LqGxj"
      },
      "source": [
        "\n",
        "\n",
        "> Apresentação geral dos seguidores com mais de 50000 seguidores\n",
        "\n"
      ]
    },
    {
      "cell_type": "code",
      "metadata": {
        "id": "nZshDwIPqPCW",
        "outputId": "29a23dce-f674-4dd4-a2c4-d4256e48f24b",
        "colab": {
          "base_uri": "https://localhost:8080/",
          "height": 589
        }
      },
      "source": [
        "influenciadores.sort_values(ascending=False, by='seguidores')"
      ],
      "execution_count": null,
      "outputs": [
        {
          "output_type": "execute_result",
          "data": {
            "text/html": [
              "<div>\n",
              "<style scoped>\n",
              "    .dataframe tbody tr th:only-of-type {\n",
              "        vertical-align: middle;\n",
              "    }\n",
              "\n",
              "    .dataframe tbody tr th {\n",
              "        vertical-align: top;\n",
              "    }\n",
              "\n",
              "    .dataframe thead th {\n",
              "        text-align: right;\n",
              "    }\n",
              "</style>\n",
              "<table border=\"1\" class=\"dataframe\">\n",
              "  <thead>\n",
              "    <tr style=\"text-align: right;\">\n",
              "      <th></th>\n",
              "      <th>data</th>\n",
              "      <th>usuario</th>\n",
              "      <th>apelido</th>\n",
              "      <th>texto</th>\n",
              "      <th>retweet</th>\n",
              "      <th>seguidores</th>\n",
              "      <th>idioma</th>\n",
              "      <th>lugar</th>\n",
              "      <th>pais</th>\n",
              "      <th>sigla</th>\n",
              "      <th>latitude</th>\n",
              "      <th>longitude</th>\n",
              "      <th>hashtags</th>\n",
              "    </tr>\n",
              "  </thead>\n",
              "  <tbody>\n",
              "    <tr>\n",
              "      <th>788393</th>\n",
              "      <td>2020-05-23 23:08:17</td>\n",
              "      <td>Donald J. Trump</td>\n",
              "      <td>realDonaldTrump</td>\n",
              "      <td>RT @RyanAFournier: This morning, Joe Biden sai...</td>\n",
              "      <td>21369</td>\n",
              "      <td>84241250</td>\n",
              "      <td>en</td>\n",
              "      <td>NaN</td>\n",
              "      <td>NaN</td>\n",
              "      <td>NaN</td>\n",
              "      <td>NaN</td>\n",
              "      <td>NaN</td>\n",
              "      <td>[]</td>\n",
              "    </tr>\n",
              "    <tr>\n",
              "      <th>610962</th>\n",
              "      <td>2020-05-12 09:40:41</td>\n",
              "      <td>Reuters</td>\n",
              "      <td>Reuters</td>\n",
              "      <td>Japanese author Murakami to DJ 'Stay Home' rad...</td>\n",
              "      <td>46</td>\n",
              "      <td>22098307</td>\n",
              "      <td>en</td>\n",
              "      <td>NaN</td>\n",
              "      <td>NaN</td>\n",
              "      <td>NaN</td>\n",
              "      <td>NaN</td>\n",
              "      <td>NaN</td>\n",
              "      <td>[]</td>\n",
              "    </tr>\n",
              "    <tr>\n",
              "      <th>113733</th>\n",
              "      <td>2020-04-16 15:40:07</td>\n",
              "      <td>CNN en Español</td>\n",
              "      <td>CNNEE</td>\n",
              "      <td>FDA pide a recuperados de covid-19 donar sangr...</td>\n",
              "      <td>139</td>\n",
              "      <td>18878720</td>\n",
              "      <td>pt</td>\n",
              "      <td>NaN</td>\n",
              "      <td>NaN</td>\n",
              "      <td>NaN</td>\n",
              "      <td>NaN</td>\n",
              "      <td>NaN</td>\n",
              "      <td>[]</td>\n",
              "    </tr>\n",
              "    <tr>\n",
              "      <th>1491980</th>\n",
              "      <td>2020-04-07 21:30:08</td>\n",
              "      <td>CNN en Español</td>\n",
              "      <td>CNNEE</td>\n",
              "      <td>Ronda global de noticias de coronavirus este 7...</td>\n",
              "      <td>22</td>\n",
              "      <td>18875851</td>\n",
              "      <td>pt</td>\n",
              "      <td>NaN</td>\n",
              "      <td>NaN</td>\n",
              "      <td>NaN</td>\n",
              "      <td>NaN</td>\n",
              "      <td>NaN</td>\n",
              "      <td>[]</td>\n",
              "    </tr>\n",
              "    <tr>\n",
              "      <th>1519974</th>\n",
              "      <td>2020-02-26 03:28:52</td>\n",
              "      <td>Danilo Gentili</td>\n",
              "      <td>DaniloGentili</td>\n",
              "      <td>@Fabiodedao Eu levarei a nova schin que aí vai...</td>\n",
              "      <td>0</td>\n",
              "      <td>17244348</td>\n",
              "      <td>pt</td>\n",
              "      <td>NaN</td>\n",
              "      <td>NaN</td>\n",
              "      <td>NaN</td>\n",
              "      <td>NaN</td>\n",
              "      <td>NaN</td>\n",
              "      <td>[]</td>\n",
              "    </tr>\n",
              "    <tr>\n",
              "      <th>...</th>\n",
              "      <td>...</td>\n",
              "      <td>...</td>\n",
              "      <td>...</td>\n",
              "      <td>...</td>\n",
              "      <td>...</td>\n",
              "      <td>...</td>\n",
              "      <td>...</td>\n",
              "      <td>...</td>\n",
              "      <td>...</td>\n",
              "      <td>...</td>\n",
              "      <td>...</td>\n",
              "      <td>...</td>\n",
              "      <td>...</td>\n",
              "    </tr>\n",
              "    <tr>\n",
              "      <th>1440766</th>\n",
              "      <td>2020-05-28 21:36:54</td>\n",
              "      <td>Patriotas</td>\n",
              "      <td>PATRIOTASBR38</td>\n",
              "      <td>Estados governados por rivais de Bolsonaro têm...</td>\n",
              "      <td>709</td>\n",
              "      <td>50007</td>\n",
              "      <td>pt</td>\n",
              "      <td>NaN</td>\n",
              "      <td>NaN</td>\n",
              "      <td>NaN</td>\n",
              "      <td>NaN</td>\n",
              "      <td>NaN</td>\n",
              "      <td>[]</td>\n",
              "    </tr>\n",
              "    <tr>\n",
              "      <th>1202168</th>\n",
              "      <td>2020-03-24 20:43:38</td>\n",
              "      <td>Paulo Mathias</td>\n",
              "      <td>paulomathias</td>\n",
              "      <td>A verdade sobre o coronavírus é que ele dura n...</td>\n",
              "      <td>19</td>\n",
              "      <td>50006</td>\n",
              "      <td>pt</td>\n",
              "      <td>NaN</td>\n",
              "      <td>NaN</td>\n",
              "      <td>NaN</td>\n",
              "      <td>NaN</td>\n",
              "      <td>NaN</td>\n",
              "      <td>[]</td>\n",
              "    </tr>\n",
              "    <tr>\n",
              "      <th>18865</th>\n",
              "      <td>2020-03-31 19:41:31</td>\n",
              "      <td>Revista Oeste</td>\n",
              "      <td>revistaoeste</td>\n",
              "      <td>Israel está trabalhando em conjunto com a Auto...</td>\n",
              "      <td>26</td>\n",
              "      <td>50006</td>\n",
              "      <td>pt</td>\n",
              "      <td>NaN</td>\n",
              "      <td>NaN</td>\n",
              "      <td>NaN</td>\n",
              "      <td>NaN</td>\n",
              "      <td>NaN</td>\n",
              "      <td>[]</td>\n",
              "    </tr>\n",
              "    <tr>\n",
              "      <th>80604</th>\n",
              "      <td>2020-03-19 23:43:02</td>\n",
              "      <td>Cavalinho do Cruzeiro</td>\n",
              "      <td>cavalinhodocec</td>\n",
              "      <td>Já sei a solução para resolver o problema de r...</td>\n",
              "      <td>79</td>\n",
              "      <td>50003</td>\n",
              "      <td>pt</td>\n",
              "      <td>NaN</td>\n",
              "      <td>NaN</td>\n",
              "      <td>NaN</td>\n",
              "      <td>NaN</td>\n",
              "      <td>NaN</td>\n",
              "      <td>[]</td>\n",
              "    </tr>\n",
              "    <tr>\n",
              "      <th>881861</th>\n",
              "      <td>2020-02-04 21:44:04</td>\n",
              "      <td>MyNews</td>\n",
              "      <td>CanalMyNews</td>\n",
              "      <td>O presidente @jairbolsonaro e os governadores ...</td>\n",
              "      <td>0</td>\n",
              "      <td>50003</td>\n",
              "      <td>pt</td>\n",
              "      <td>NaN</td>\n",
              "      <td>NaN</td>\n",
              "      <td>NaN</td>\n",
              "      <td>NaN</td>\n",
              "      <td>NaN</td>\n",
              "      <td>[]</td>\n",
              "    </tr>\n",
              "  </tbody>\n",
              "</table>\n",
              "<p>69575 rows × 13 columns</p>\n",
              "</div>"
            ],
            "text/plain": [
              "                        data                usuario  ... longitude hashtags\n",
              "788393   2020-05-23 23:08:17        Donald J. Trump  ...       NaN       []\n",
              "610962   2020-05-12 09:40:41                Reuters  ...       NaN       []\n",
              "113733   2020-04-16 15:40:07         CNN en Español  ...       NaN       []\n",
              "1491980  2020-04-07 21:30:08         CNN en Español  ...       NaN       []\n",
              "1519974  2020-02-26 03:28:52         Danilo Gentili  ...       NaN       []\n",
              "...                      ...                    ...  ...       ...      ...\n",
              "1440766  2020-05-28 21:36:54              Patriotas  ...       NaN       []\n",
              "1202168  2020-03-24 20:43:38          Paulo Mathias  ...       NaN       []\n",
              "18865    2020-03-31 19:41:31          Revista Oeste  ...       NaN       []\n",
              "80604    2020-03-19 23:43:02  Cavalinho do Cruzeiro  ...       NaN       []\n",
              "881861   2020-02-04 21:44:04                 MyNews  ...       NaN       []\n",
              "\n",
              "[69575 rows x 13 columns]"
            ]
          },
          "metadata": {
            "tags": []
          },
          "execution_count": 29
        }
      ]
    },
    {
      "cell_type": "markdown",
      "metadata": {
        "id": "XcFfDVuIig_V"
      },
      "source": [
        "\n",
        "\n",
        "> Segue abaixo um top 20 dos usuarios que possuem mais seguidores, considerando os campos usuário e seguidores do dataframe `influenciadores`\n",
        "\n"
      ]
    },
    {
      "cell_type": "code",
      "metadata": {
        "id": "mF6di0YOq4Tn"
      },
      "source": [
        "top = dataset.groupby('usuario').seguidores.sum().reset_index().rename(columns={'index': 'usuario', 'seguidores': 'seguidores'})\n",
        "\n",
        "top_20 = top.sort_values(ascending=False, by='seguidores')[:20]"
      ],
      "execution_count": null,
      "outputs": []
    },
    {
      "cell_type": "markdown",
      "metadata": {
        "id": "SiRPRdJYro3x"
      },
      "source": [
        "\n",
        "\n",
        "> Apresentação dos 20 maiores influenciadores do dataset:\n",
        "\n"
      ]
    },
    {
      "cell_type": "markdown",
      "metadata": {
        "id": "Ap5cuIBSrcJ4"
      },
      "source": [
        "\n",
        "\n",
        "**Formato Tabela**\n",
        "\n"
      ]
    },
    {
      "cell_type": "code",
      "metadata": {
        "id": "ptfT6KRorjgd",
        "outputId": "569c1ca1-e35d-4614-cc72-e2dc46f51ec7",
        "colab": {
          "base_uri": "https://localhost:8080/",
          "height": 669
        }
      },
      "source": [
        "top_20"
      ],
      "execution_count": null,
      "outputs": [
        {
          "output_type": "execute_result",
          "data": {
            "text/html": [
              "<div>\n",
              "<style scoped>\n",
              "    .dataframe tbody tr th:only-of-type {\n",
              "        vertical-align: middle;\n",
              "    }\n",
              "\n",
              "    .dataframe tbody tr th {\n",
              "        vertical-align: top;\n",
              "    }\n",
              "\n",
              "    .dataframe thead th {\n",
              "        text-align: right;\n",
              "    }\n",
              "</style>\n",
              "<table border=\"1\" class=\"dataframe\">\n",
              "  <thead>\n",
              "    <tr style=\"text-align: right;\">\n",
              "      <th></th>\n",
              "      <th>usuario</th>\n",
              "      <th>seguidores</th>\n",
              "    </tr>\n",
              "  </thead>\n",
              "  <tbody>\n",
              "    <tr>\n",
              "      <th>152536</th>\n",
              "      <td>G1</td>\n",
              "      <td>5409345836</td>\n",
              "    </tr>\n",
              "    <tr>\n",
              "      <th>147289</th>\n",
              "      <td>Folha de S.Paulo</td>\n",
              "      <td>4332229009</td>\n",
              "    </tr>\n",
              "    <tr>\n",
              "      <th>203032</th>\n",
              "      <td>Jornal O Globo</td>\n",
              "      <td>3019264535</td>\n",
              "    </tr>\n",
              "    <tr>\n",
              "      <th>130513</th>\n",
              "      <td>Estadão</td>\n",
              "      <td>2821184577</td>\n",
              "    </tr>\n",
              "    <tr>\n",
              "      <th>402816</th>\n",
              "      <td>VEJA</td>\n",
              "      <td>2246152190</td>\n",
              "    </tr>\n",
              "    <tr>\n",
              "      <th>326832</th>\n",
              "      <td>Portal R7.com</td>\n",
              "      <td>2161235916</td>\n",
              "    </tr>\n",
              "    <tr>\n",
              "      <th>400361</th>\n",
              "      <td>UOL Notícias</td>\n",
              "      <td>1894098527</td>\n",
              "    </tr>\n",
              "    <tr>\n",
              "      <th>46708</th>\n",
              "      <td>BBC News Brasil</td>\n",
              "      <td>917150525</td>\n",
              "    </tr>\n",
              "    <tr>\n",
              "      <th>468384</th>\n",
              "      <td>exame</td>\n",
              "      <td>892725138</td>\n",
              "    </tr>\n",
              "    <tr>\n",
              "      <th>164159</th>\n",
              "      <td>GloboNews</td>\n",
              "      <td>787834472</td>\n",
              "    </tr>\n",
              "    <tr>\n",
              "      <th>400354</th>\n",
              "      <td>UOL</td>\n",
              "      <td>746057174</td>\n",
              "    </tr>\n",
              "    <tr>\n",
              "      <th>360216</th>\n",
              "      <td>SBT (de 🏠)</td>\n",
              "      <td>565428424</td>\n",
              "    </tr>\n",
              "    <tr>\n",
              "      <th>360746</th>\n",
              "      <td>SIC Notícias</td>\n",
              "      <td>549009017</td>\n",
              "    </tr>\n",
              "    <tr>\n",
              "      <th>388308</th>\n",
              "      <td>Terra</td>\n",
              "      <td>484384596</td>\n",
              "    </tr>\n",
              "    <tr>\n",
              "      <th>304177</th>\n",
              "      <td>O Antagonista</td>\n",
              "      <td>481620515</td>\n",
              "    </tr>\n",
              "    <tr>\n",
              "      <th>331682</th>\n",
              "      <td>Público</td>\n",
              "      <td>455407236</td>\n",
              "    </tr>\n",
              "    <tr>\n",
              "      <th>203007</th>\n",
              "      <td>Jornal Nacional</td>\n",
              "      <td>435115429</td>\n",
              "    </tr>\n",
              "    <tr>\n",
              "      <th>358764</th>\n",
              "      <td>Rádio BandNews FM</td>\n",
              "      <td>399048560</td>\n",
              "    </tr>\n",
              "    <tr>\n",
              "      <th>51975</th>\n",
              "      <td>Bem Estar</td>\n",
              "      <td>383816983</td>\n",
              "    </tr>\n",
              "    <tr>\n",
              "      <th>106370</th>\n",
              "      <td>Diario de Pernambuco</td>\n",
              "      <td>363566879</td>\n",
              "    </tr>\n",
              "  </tbody>\n",
              "</table>\n",
              "</div>"
            ],
            "text/plain": [
              "                     usuario  seguidores\n",
              "152536                    G1  5409345836\n",
              "147289      Folha de S.Paulo  4332229009\n",
              "203032        Jornal O Globo  3019264535\n",
              "130513               Estadão  2821184577\n",
              "402816                  VEJA  2246152190\n",
              "326832         Portal R7.com  2161235916\n",
              "400361          UOL Notícias  1894098527\n",
              "46708        BBC News Brasil   917150525\n",
              "468384                 exame   892725138\n",
              "164159             GloboNews   787834472\n",
              "400354                   UOL   746057174\n",
              "360216            SBT (de 🏠)   565428424\n",
              "360746          SIC Notícias   549009017\n",
              "388308                 Terra   484384596\n",
              "304177         O Antagonista   481620515\n",
              "331682               Público   455407236\n",
              "203007       Jornal Nacional   435115429\n",
              "358764     Rádio BandNews FM   399048560\n",
              "51975              Bem Estar   383816983\n",
              "106370  Diario de Pernambuco   363566879"
            ]
          },
          "metadata": {
            "tags": []
          },
          "execution_count": 34
        }
      ]
    },
    {
      "cell_type": "markdown",
      "metadata": {
        "id": "lWo3wrfor6bU"
      },
      "source": [
        "**Formato gráfico**"
      ]
    },
    {
      "cell_type": "code",
      "metadata": {
        "id": "hSAK6nu2r-2A",
        "outputId": "5b25389c-dca0-4892-9095-7fdc4be211c9",
        "colab": {
          "base_uri": "https://localhost:8080/",
          "height": 363
        }
      },
      "source": [
        "plt.barh(top_20.usuario, top_20.seguidores, color='blue')\n",
        "plt.ylabel('Seguidores')\n",
        "plt.xlabel('Usuário')\n",
        "plt.title('Os 20 maiores seguidores')\n",
        "plt.show()"
      ],
      "execution_count": null,
      "outputs": [
        {
          "output_type": "stream",
          "text": [
            "/usr/local/lib/python3.6/dist-packages/matplotlib/backends/backend_agg.py:214: RuntimeWarning: Glyph 127968 missing from current font.\n",
            "  font.set_text(s, 0.0, flags=flags)\n",
            "/usr/local/lib/python3.6/dist-packages/matplotlib/backends/backend_agg.py:183: RuntimeWarning: Glyph 127968 missing from current font.\n",
            "  font.set_text(s, 0, flags=flags)\n"
          ],
          "name": "stderr"
        },
        {
          "output_type": "display_data",
          "data": {
            "image/png": "[encoded data removed]",
            "text/plain": [
              "<Figure size 432x288 with 1 Axes>"
            ]
          },
          "metadata": {
            "tags": [],
            "needs_background": "light"
          }
        }
      ]
    },
    {
      "cell_type": "markdown",
      "metadata": {
        "id": "G8U-XtLP7dUI"
      },
      "source": [
        "### Sumário para o campo *idioma*"
      ]
    },
    {
      "cell_type": "markdown",
      "metadata": {
        "id": "4xxn-C3r7xkh"
      },
      "source": [
        "**Resumo geral:**\n",
        "\n",
        "\n",
        "\n",
        "> No campo idioma temos 59 registros únicos, onde o maior frequente é \"pt\" com 1586796\n",
        "\n"
      ]
    },
    {
      "cell_type": "code",
      "metadata": {
        "id": "-5TOI56572GZ",
        "outputId": "45e5f545-4992-4a7d-8085-f21d620ed934",
        "colab": {
          "base_uri": "https://localhost:8080/"
        }
      },
      "source": [
        "dataset.idioma.describe()"
      ],
      "execution_count": null,
      "outputs": [
        {
          "output_type": "execute_result",
          "data": {
            "text/plain": [
              "count     1658825\n",
              "unique         59\n",
              "top            pt\n",
              "freq      1586796\n",
              "Name: idioma, dtype: object"
            ]
          },
          "metadata": {
            "tags": []
          },
          "execution_count": 23
        }
      ]
    },
    {
      "cell_type": "markdown",
      "metadata": {
        "id": "9-Alg_Jv8Gjt"
      },
      "source": [
        "\n",
        "\n",
        "> Contagem de registro por pais\n",
        "\n"
      ]
    },
    {
      "cell_type": "code",
      "metadata": {
        "id": "i2kL6-zP7jE3",
        "outputId": "8a9e53ea-352a-4026-92d8-3a43f74b9bbd",
        "colab": {
          "base_uri": "https://localhost:8080/"
        }
      },
      "source": [
        "dataset.idioma.value_counts()"
      ],
      "execution_count": null,
      "outputs": [
        {
          "output_type": "execute_result",
          "data": {
            "text/plain": [
              "pt     1586796\n",
              "en       23991\n",
              "es       14255\n",
              "it        6480\n",
              "und       5656\n",
              "ar        4579\n",
              "fr        3656\n",
              "ca        2600\n",
              "tr        2296\n",
              "ja        1955\n",
              "in         948\n",
              "th         890\n",
              "tl         604\n",
              "ko         544\n",
              "hi         485\n",
              "ru         417\n",
              "de         361\n",
              "pl         262\n",
              "fa         258\n",
              "nl         208\n",
              "ur         179\n",
              "ht         167\n",
              "et         162\n",
              "eu         116\n",
              "el          94\n",
              "lt          86\n",
              "sv          84\n",
              "cs          72\n",
              "no          56\n",
              "zh          51\n",
              "ro          45\n",
              "da          45\n",
              "fi          44\n",
              "cy          39\n",
              "uk          37\n",
              "lv          36\n",
              "iw          36\n",
              "ta          32\n",
              "hu          26\n",
              "vi          23\n",
              "is          21\n",
              "sr          20\n",
              "sl          18\n",
              "te          17\n",
              "sd          12\n",
              "ne          11\n",
              "mr          10\n",
              "bn          10\n",
              "gu           7\n",
              "ps           6\n",
              "ckb          5\n",
              "am           4\n",
              "bg           4\n",
              "ml           2\n",
              "si           2\n",
              "or           2\n",
              "kn           1\n",
              "my           1\n",
              "dv           1\n",
              "Name: idioma, dtype: int64"
            ]
          },
          "metadata": {
            "tags": []
          },
          "execution_count": 24
        }
      ]
    },
    {
      "cell_type": "markdown",
      "metadata": {
        "id": "u3NUuHK983aP"
      },
      "source": [
        "\n",
        "\n",
        "> Contagem de usuarios por pais\n",
        "\n"
      ]
    },
    {
      "cell_type": "code",
      "metadata": {
        "id": "uzhbpB868m18",
        "outputId": "29f17ccb-18e1-47ea-def9-ef9d335b622e",
        "colab": {
          "base_uri": "https://localhost:8080/"
        }
      },
      "source": [
        "dataset.groupby('idioma').usuario.count()"
      ],
      "execution_count": null,
      "outputs": [
        {
          "output_type": "execute_result",
          "data": {
            "text/plain": [
              "idioma\n",
              "am           4\n",
              "ar        4578\n",
              "bg           4\n",
              "bn          10\n",
              "ca        2600\n",
              "ckb          5\n",
              "cs          72\n",
              "cy          39\n",
              "da          45\n",
              "de         361\n",
              "dv           1\n",
              "el          94\n",
              "en       23991\n",
              "es       14255\n",
              "et         162\n",
              "eu         116\n",
              "fa         258\n",
              "fi          44\n",
              "fr        3655\n",
              "gu           7\n",
              "hi         485\n",
              "ht         167\n",
              "hu          26\n",
              "in         948\n",
              "is          21\n",
              "it        6480\n",
              "iw          36\n",
              "ja        1955\n",
              "kn           1\n",
              "ko         544\n",
              "lt          86\n",
              "lv          36\n",
              "ml           2\n",
              "mr          10\n",
              "my           1\n",
              "ne          11\n",
              "nl         208\n",
              "no          56\n",
              "or           2\n",
              "pl         262\n",
              "ps           6\n",
              "pt     1586743\n",
              "ro          45\n",
              "ru         417\n",
              "sd          12\n",
              "si           2\n",
              "sl          18\n",
              "sr          20\n",
              "sv          84\n",
              "ta          32\n",
              "te          17\n",
              "th         889\n",
              "tl         604\n",
              "tr        2296\n",
              "uk          37\n",
              "und       5655\n",
              "ur         179\n",
              "vi          23\n",
              "zh          51\n",
              "Name: usuario, dtype: int64"
            ]
          },
          "metadata": {
            "tags": []
          },
          "execution_count": 25
        }
      ]
    },
    {
      "cell_type": "markdown",
      "metadata": {
        "id": "UIrBPW95Ih2U"
      },
      "source": [
        "### Sumário para o campo *lugar*"
      ]
    },
    {
      "cell_type": "markdown",
      "metadata": {
        "id": "EDJpMdvOIm2s"
      },
      "source": [
        "\n",
        "**Resumo geral:**\n",
        "\n",
        "> Possui um total de 74605 registros, 4500 úncios, com maior frequência \"Rio de Janeiro\" com 8443 registros.\n",
        "\n"
      ]
    },
    {
      "cell_type": "code",
      "metadata": {
        "id": "zVsbgd8PIn1o",
        "outputId": "f917c60d-556c-4881-e8ef-0cbd96e1a944",
        "colab": {
          "base_uri": "https://localhost:8080/",
          "height": 102
        }
      },
      "source": [
        "dataset.lugar.describe()"
      ],
      "execution_count": 7,
      "outputs": [
        {
          "output_type": "execute_result",
          "data": {
            "text/plain": [
              "count              74605\n",
              "unique              4500\n",
              "top       Rio de Janeiro\n",
              "freq                8443\n",
              "Name: lugar, dtype: object"
            ]
          },
          "metadata": {
            "tags": []
          },
          "execution_count": 7
        }
      ]
    },
    {
      "cell_type": "markdown",
      "metadata": {
        "id": "xaPmYkpoJOwA"
      },
      "source": [
        "\n",
        "\n",
        "> Quantidade de valores nulos\n",
        "\n"
      ]
    },
    {
      "cell_type": "code",
      "metadata": {
        "id": "QPtZwsy2JaTN",
        "outputId": "4f45735f-44ec-4973-88b8-0b4b19484d2f",
        "colab": {
          "base_uri": "https://localhost:8080/",
          "height": 34
        }
      },
      "source": [
        "dataset.lugar.isnull().sum()"
      ],
      "execution_count": 9,
      "outputs": [
        {
          "output_type": "execute_result",
          "data": {
            "text/plain": [
              "1584220"
            ]
          },
          "metadata": {
            "tags": []
          },
          "execution_count": 9
        }
      ]
    },
    {
      "cell_type": "markdown",
      "metadata": {
        "id": "1Vc6kejSJrP1"
      },
      "source": [
        "\n",
        "\n",
        "> Quantidade usuários por lugarm os 50 maiores registros\n",
        "\n"
      ]
    },
    {
      "cell_type": "code",
      "metadata": {
        "id": "6qpBMCK3J2Zu"
      },
      "source": [
        "lugar = dataset.groupby('lugar').usuario.count().sort_values(ascending=False)"
      ],
      "execution_count": 13,
      "outputs": []
    },
    {
      "cell_type": "code",
      "metadata": {
        "id": "7fnRVwArKSvG",
        "outputId": "0a2a5a9c-82db-4a4f-8b6b-ded3d0f837d7",
        "colab": {
          "base_uri": "https://localhost:8080/",
          "height": 901
        }
      },
      "source": [
        "lugar[:50]"
      ],
      "execution_count": 15,
      "outputs": [
        {
          "output_type": "execute_result",
          "data": {
            "text/plain": [
              "lugar\n",
              "Rio de Janeiro             8443\n",
              "Sao Paulo                  7469\n",
              "Brasília                   2822\n",
              "Porto Alegre               1866\n",
              "Belo Horizonte             1764\n",
              "Curitiba                   1418\n",
              "Recife                     1361\n",
              "Fortaleza                  1282\n",
              "Belém                      1246\n",
              "Salvador                   1201\n",
              "Manaus                     1054\n",
              "Goiânia                     843\n",
              "São Luís                    785\n",
              "Natal                       728\n",
              "Lisbon                      721\n",
              "Niterói                     634\n",
              "João Pessoa                 626\n",
              "Florianópolis               603\n",
              "Campinas                    538\n",
              "Nova Iguaçu                 510\n",
              "Duque de Caxias             482\n",
              "São Gonçalo                 468\n",
              "Maceió                      433\n",
              "Aracaju                     431\n",
              "Campo Grande                417\n",
              "Santos                      409\n",
              "Macapá                      397\n",
              "Santo André                 387\n",
              "Vila Velha                  370\n",
              "Vitória                     365\n",
              "Teresina                    362\n",
              "Guarulhos                   329\n",
              "São Bernardo do Campo       296\n",
              "Palmas                      278\n",
              "Rio Branco                  265\n",
              "Cuiabá                      240\n",
              "Porto Velho                 226\n",
              "São João de Meriti          223\n",
              "Joinville                   222\n",
              "Juiz de Fora                222\n",
              "Uberlândia                  218\n",
              "Londrina                    212\n",
              "Oporto                      209\n",
              "Campina Grande              207\n",
              "Pelotas                     204\n",
              "Boa Vista                   202\n",
              "Sorocaba                    200\n",
              "Jaboatão dos Guararapes     199\n",
              "Santarém                    196\n",
              "São José dos Campos         188\n",
              "Name: usuario, dtype: int64"
            ]
          },
          "metadata": {
            "tags": []
          },
          "execution_count": 15
        }
      ]
    },
    {
      "cell_type": "markdown",
      "metadata": {
        "id": "YFmDcqqrTr1v"
      },
      "source": [
        "### Sumário para o campo *pais*"
      ]
    },
    {
      "cell_type": "markdown",
      "metadata": {
        "id": "4MWfEepLT3wA"
      },
      "source": [
        "**Resumo geral:**\n",
        "> Possui 1.658.825 campos, onde 121 são únicos e 1.584.225 estão nulos.\n",
        "\n",
        "> País com maior frequência 'Brazil',  aparece 67.247 vezes."
      ]
    },
    {
      "cell_type": "code",
      "metadata": {
        "id": "gENVAA2OT417",
        "outputId": "67fd3399-a684-4637-ad2a-93383384999d",
        "colab": {
          "base_uri": "https://localhost:8080/",
          "height": 104
        }
      },
      "source": [
        "dataset.pais.describe()"
      ],
      "execution_count": null,
      "outputs": [
        {
          "output_type": "execute_result",
          "data": {
            "text/plain": [
              "count      74600\n",
              "unique       121\n",
              "top       Brazil\n",
              "freq       67247\n",
              "Name: pais, dtype: object"
            ]
          },
          "metadata": {
            "tags": []
          },
          "execution_count": 9
        }
      ]
    },
    {
      "cell_type": "code",
      "metadata": {
        "id": "65PMWRFSUDTM",
        "outputId": "dcd76c20-9e16-4fac-dce7-ee9e3a01a137",
        "colab": {
          "base_uri": "https://localhost:8080/",
          "height": 175
        }
      },
      "source": [
        "pais_total = len(dataset.pais)\n",
        "pais_unicos = dataset.pais.nunique()\n",
        "pais_null = dataset.pais.isnull().sum()\n",
        "pais_duplicados = pais_total - pais_unicos - pais_null\n",
        "pais_preenchido = pais_duplicados + pais_unicos\n",
        "pais_df = pd.DataFrame({\n",
        "                  'pais': ['únicos', 'duplicados', 'vazio', 'preenchidos'] ,\n",
        "                   'Contagem' : [pais_unicos, pais_duplicados, pais_null, pais_preenchido],\n",
        "                   'Porcentagem' : [(pais_unicos/pais_total)*100, (pais_duplicados/pais_total)*100, (pais_null/pais_total)*100, (pais_preenchido/pais_total)*100]})\n",
        "pais_df"
      ],
      "execution_count": null,
      "outputs": [
        {
          "output_type": "execute_result",
          "data": {
            "text/plain": [
              "          pais  Contagem  Porcentagem\n",
              "0       únicos       121     0.007294\n",
              "1   duplicados     74479     4.489865\n",
              "2        vazio   1584225    95.502841\n",
              "3  preenchidos     74600     4.497159"
            ],
            "text/html": [
              "<div>\n",
              "<style scoped>\n",
              "    .dataframe tbody tr th:only-of-type {\n",
              "        vertical-align: middle;\n",
              "    }\n",
              "\n",
              "    .dataframe tbody tr th {\n",
              "        vertical-align: top;\n",
              "    }\n",
              "\n",
              "    .dataframe thead th {\n",
              "        text-align: right;\n",
              "    }\n",
              "</style>\n",
              "<table border=\"1\" class=\"dataframe\">\n",
              "  <thead>\n",
              "    <tr style=\"text-align: right;\">\n",
              "      <th></th>\n",
              "      <th>pais</th>\n",
              "      <th>Contagem</th>\n",
              "      <th>Porcentagem</th>\n",
              "    </tr>\n",
              "  </thead>\n",
              "  <tbody>\n",
              "    <tr>\n",
              "      <th>0</th>\n",
              "      <td>únicos</td>\n",
              "      <td>121</td>\n",
              "      <td>0.007294</td>\n",
              "    </tr>\n",
              "    <tr>\n",
              "      <th>1</th>\n",
              "      <td>duplicados</td>\n",
              "      <td>74479</td>\n",
              "      <td>4.489865</td>\n",
              "    </tr>\n",
              "    <tr>\n",
              "      <th>2</th>\n",
              "      <td>vazio</td>\n",
              "      <td>1584225</td>\n",
              "      <td>95.502841</td>\n",
              "    </tr>\n",
              "    <tr>\n",
              "      <th>3</th>\n",
              "      <td>preenchidos</td>\n",
              "      <td>74600</td>\n",
              "      <td>4.497159</td>\n",
              "    </tr>\n",
              "  </tbody>\n",
              "</table>\n",
              "</div>"
            ]
          },
          "metadata": {
            "tags": []
          },
          "execution_count": 29
        }
      ]
    },
    {
      "cell_type": "markdown",
      "metadata": {
        "id": "K0Zx-U0GL_RO"
      },
      "source": [
        "### Sumário para o campo *sigla*"
      ]
    },
    {
      "cell_type": "markdown",
      "metadata": {
        "id": "3TVSUHwkMGAL"
      },
      "source": [
        "**Resumo geral:**\n",
        "> Possui 1.658.825 campos, onde 120 são únicos e 1.584.230 estão nulos.\n",
        "\n",
        "> Sigla com maior frequência 'BR',  aparece 67.247 vezes."
      ]
    },
    {
      "cell_type": "code",
      "metadata": {
        "id": "yoF4AI32MOk6",
        "outputId": "23348919-8db5-4467-e081-2dadc75abbb2",
        "colab": {
          "base_uri": "https://localhost:8080/",
          "height": 104
        }
      },
      "source": [
        "dataset.sigla.describe()"
      ],
      "execution_count": null,
      "outputs": [
        {
          "output_type": "execute_result",
          "data": {
            "text/plain": [
              "count     74595\n",
              "unique      120\n",
              "top          BR\n",
              "freq      67247\n",
              "Name: sigla, dtype: object"
            ]
          },
          "metadata": {
            "tags": []
          },
          "execution_count": 12
        }
      ]
    },
    {
      "cell_type": "code",
      "metadata": {
        "id": "OoQej0ypMNjG",
        "outputId": "db1ecbc3-fd42-4b3a-9724-932aa6979246",
        "colab": {
          "base_uri": "https://localhost:8080/",
          "height": 175
        }
      },
      "source": [
        "sigla_total = len(dataset.sigla)\n",
        "sigla_unicos = dataset.sigla.nunique()\n",
        "sigla_null = dataset.sigla.isnull().sum()\n",
        "sigla_duplicados = sigla_total - sigla_unicos - sigla_null\n",
        "sigla_preenchido = sigla_duplicados + sigla_unicos\n",
        "sigla_df = pd.DataFrame({\n",
        "                  'sigla': ['únicos', 'duplicados', 'vazio', 'preenchidos'] ,\n",
        "                   'Contagem' : [sigla_unicos, sigla_duplicados, sigla_null, sigla_preenchido],\n",
        "                   'Porcentagem' : [(sigla_unicos/sigla_total)*100, (sigla_duplicados/sigla_total)*100, (sigla_null/sigla_total)*100, (sigla_preenchido/sigla_total)*100]})\n",
        "sigla_df"
      ],
      "execution_count": null,
      "outputs": [
        {
          "output_type": "execute_result",
          "data": {
            "text/plain": [
              "         sigla  Contagem  Porcentagem\n",
              "0       únicos       120     0.007234\n",
              "1   duplicados     74475     4.489624\n",
              "2        vazio   1584230    95.503142\n",
              "3  preenchidos     74595     4.496858"
            ],
            "text/html": [
              "<div>\n",
              "<style scoped>\n",
              "    .dataframe tbody tr th:only-of-type {\n",
              "        vertical-align: middle;\n",
              "    }\n",
              "\n",
              "    .dataframe tbody tr th {\n",
              "        vertical-align: top;\n",
              "    }\n",
              "\n",
              "    .dataframe thead th {\n",
              "        text-align: right;\n",
              "    }\n",
              "</style>\n",
              "<table border=\"1\" class=\"dataframe\">\n",
              "  <thead>\n",
              "    <tr style=\"text-align: right;\">\n",
              "      <th></th>\n",
              "      <th>sigla</th>\n",
              "      <th>Contagem</th>\n",
              "      <th>Porcentagem</th>\n",
              "    </tr>\n",
              "  </thead>\n",
              "  <tbody>\n",
              "    <tr>\n",
              "      <th>0</th>\n",
              "      <td>únicos</td>\n",
              "      <td>120</td>\n",
              "      <td>0.007234</td>\n",
              "    </tr>\n",
              "    <tr>\n",
              "      <th>1</th>\n",
              "      <td>duplicados</td>\n",
              "      <td>74475</td>\n",
              "      <td>4.489624</td>\n",
              "    </tr>\n",
              "    <tr>\n",
              "      <th>2</th>\n",
              "      <td>vazio</td>\n",
              "      <td>1584230</td>\n",
              "      <td>95.503142</td>\n",
              "    </tr>\n",
              "    <tr>\n",
              "      <th>3</th>\n",
              "      <td>preenchidos</td>\n",
              "      <td>74595</td>\n",
              "      <td>4.496858</td>\n",
              "    </tr>\n",
              "  </tbody>\n",
              "</table>\n",
              "</div>"
            ]
          },
          "metadata": {
            "tags": []
          },
          "execution_count": 13
        }
      ]
    },
    {
      "cell_type": "markdown",
      "metadata": {
        "id": "8sYs2tm1qek0"
      },
      "source": [
        "### Sumário para os campos *latitude* e *longitude*"
      ]
    },
    {
      "cell_type": "markdown",
      "metadata": {
        "id": "lRRD5JmyMIFA"
      },
      "source": [
        "**Resumo geral campo latitude:**"
      ]
    },
    {
      "cell_type": "code",
      "metadata": {
        "id": "2DaWin20L_0C",
        "outputId": "41ba84ea-2900-40ef-c138-5bb3fabf3254",
        "colab": {
          "base_uri": "https://localhost:8080/",
          "height": 170
        }
      },
      "source": [
        "dataset.latitude.describe()"
      ],
      "execution_count": null,
      "outputs": [
        {
          "output_type": "execute_result",
          "data": {
            "text/plain": [
              "count    8720.000000\n",
              "mean      -40.237583\n",
              "std        20.808494\n",
              "min      -123.120400\n",
              "25%       -47.864334\n",
              "50%       -43.955615\n",
              "75%       -38.453198\n",
              "max       174.789310\n",
              "Name: latitude, dtype: float64"
            ]
          },
          "metadata": {
            "tags": []
          },
          "execution_count": 57
        }
      ]
    },
    {
      "cell_type": "markdown",
      "metadata": {
        "id": "fOFBkSTpMNGP"
      },
      "source": [
        "**Resumo geral lagitude:**"
      ]
    },
    {
      "cell_type": "code",
      "metadata": {
        "id": "sI3WoLssMQv2",
        "outputId": "54f7f082-a306-49ef-fd08-2dff70871cc0",
        "colab": {
          "base_uri": "https://localhost:8080/",
          "height": 170
        }
      },
      "source": [
        "dataset.longitude.describe()"
      ],
      "execution_count": null,
      "outputs": [
        {
          "output_type": "execute_result",
          "data": {
            "text/plain": [
              "count    8720.000000\n",
              "mean      -11.117100\n",
              "std        19.169105\n",
              "min       -37.818769\n",
              "25%       -23.305300\n",
              "50%       -19.624400\n",
              "75%        -7.120700\n",
              "max        58.257776\n",
              "Name: longitude, dtype: float64"
            ]
          },
          "metadata": {
            "tags": []
          },
          "execution_count": 59
        }
      ]
    },
    {
      "cell_type": "markdown",
      "metadata": {
        "id": "ezyxIQL2L0S3"
      },
      "source": [
        "Mapa com apresentação dos lugares dos tweets dos usuarios"
      ]
    },
    {
      "cell_type": "code",
      "metadata": {
        "id": "vszG5czwqw-a",
        "outputId": "6790cf57-2b3b-4296-b993-d24a224de46a",
        "colab": {
          "base_uri": "https://localhost:8080/",
          "height": 317
        }
      },
      "source": [
        "geometry = [Point(xy) for xy in zip(dataset['latitude'], dataset['longitude'])]\n",
        "gdf = GeoDataFrame(dataset, geometry=geometry)   \n",
        "\n",
        "world = gpd.read_file(gpd.datasets.get_path('naturalearth_lowres'))\n",
        "gdf.plot(ax=world.plot(figsize=(10, 6)), marker='o', color='red', markersize=15);\n"
      ],
      "execution_count": null,
      "outputs": [
        {
          "output_type": "display_data",
          "data": {
            "image/png": "[encoded data removed]",
            "text/plain": [
              "<Figure size 720x432 with 1 Axes>"
            ]
          },
          "metadata": {
            "tags": [],
            "needs_background": "light"
          }
        }
      ]
    },
    {
      "cell_type": "markdown",
      "metadata": {
        "id": "wLxEQ5marPJF"
      },
      "source": [
        "### Sumario para o campo *hashtags*"
      ]
    },
    {
      "cell_type": "markdown",
      "metadata": {
        "id": "sSh-sR6Kv6U9"
      },
      "source": [
        "**Resumo geral:**\n",
        "\n",
        "> Este campo possui 63838 campos únicos, a informação mais frenquente é o \"[ ]\"\n",
        "\n"
      ]
    },
    {
      "cell_type": "code",
      "metadata": {
        "id": "RXvNrCedwFQT",
        "outputId": "c61df146-d33d-4604-a379-06edbee2135d",
        "colab": {
          "base_uri": "https://localhost:8080/"
        }
      },
      "source": [
        "dataset.hashtags.describe()"
      ],
      "execution_count": null,
      "outputs": [
        {
          "output_type": "execute_result",
          "data": {
            "text/plain": [
              "count     1658825\n",
              "unique      63838\n",
              "top            []\n",
              "freq      1495569\n",
              "Name: hashtags, dtype: object"
            ]
          },
          "metadata": {
            "tags": []
          },
          "execution_count": 30
        }
      ]
    },
    {
      "cell_type": "markdown",
      "metadata": {
        "id": "ASDkYo1h56a8"
      },
      "source": [
        "**Hashtags em destaque:**\n",
        "\n",
        "\n",
        "\n",
        "> Segue abaixo as 10 hashtags mais usadas:\n",
        "\n"
      ]
    },
    {
      "cell_type": "code",
      "metadata": {
        "id": "MN8FhrclzevY",
        "outputId": "eb5daa62-7eab-47ee-8e52-cb503696da26",
        "colab": {
          "base_uri": "https://localhost:8080/"
        }
      },
      "source": [
        "dataset.hashtags.value_counts()[:10]"
      ],
      "execution_count": null,
      "outputs": [
        {
          "output_type": "execute_result",
          "data": {
            "text/plain": [
              "[]                 1495569\n",
              "['COVID19']           9951\n",
              "['coronavirus']       6658\n",
              "['Coronavirus']       3294\n",
              "['coronavírus']       2890\n",
              "['Covid_19']          2485\n",
              "['covid19']           2403\n",
              "['Covid19']           2367\n",
              "['Coronavírus']       1566\n",
              "['Repost']             831\n",
              "Name: hashtags, dtype: int64"
            ]
          },
          "metadata": {
            "tags": []
          },
          "execution_count": 31
        }
      ]
    },
    {
      "cell_type": "markdown",
      "metadata": {
        "id": "AcxhIIQr3xRn"
      },
      "source": [
        "\n",
        "\n",
        "> Uma apresentação das hashtags mais frequentes acima e menos frequentes abaixo.\n",
        "\n"
      ]
    },
    {
      "cell_type": "code",
      "metadata": {
        "id": "a8vkNIV7xs-h",
        "outputId": "b0c92ec8-c1b4-4b4c-bb37-f12a0adfd871",
        "colab": {
          "base_uri": "https://localhost:8080/"
        }
      },
      "source": [
        "dataset.hashtags.value_counts()"
      ],
      "execution_count": null,
      "outputs": [
        {
          "output_type": "execute_result",
          "data": {
            "text/plain": [
              "[]                                                             1495569\n",
              "['COVID19']                                                       9951\n",
              "['coronavirus']                                                   6658\n",
              "['Coronavirus']                                                   3294\n",
              "['coronavírus']                                                   2890\n",
              "                                                                ...   \n",
              "['Darwin', 'Covid_19', 'coronavirus', 'quarentena']                  1\n",
              "['Sodar']                                                            1\n",
              "['Covid_19', 'okullartatilolsun']                                    1\n",
              "['quarentena', 'isolamentosocial', 'Isolation']                      1\n",
              "['Coronavirus', 'COVID19', 'Cannabis', 'Maconha', 'Canada']          1\n",
              "Name: hashtags, Length: 63838, dtype: int64"
            ]
          },
          "metadata": {
            "tags": []
          },
          "execution_count": 32
        }
      ]
    },
    {
      "cell_type": "markdown",
      "metadata": {
        "id": "bHgFMh5qOMGq"
      },
      "source": [
        "## Aplicando tratamento ao *dataset*"
      ]
    },
    {
      "cell_type": "code",
      "metadata": {
        "id": "P2JEzfOJ5eWW"
      },
      "source": [
        "# Trocando o nome  das colunas apelido e usuario\n",
        "dataset_com_tratamento = dataset.rename(columns={\"apelido\": \"usuario\", \"usuario\" : \"apelido\"})\n",
        "\n",
        "# Removendo linhas duplicadas\n",
        "dataset_com_tratamento = dataset_com_tratamento[dataset_com_tratamento.duplicated() == False]\n",
        "\n",
        "# Seleciona apenas tweets com o idioma em portugues\n",
        "dataset_com_tratamento = dataset_com_tratamento[dataset_com_tratamento.idioma == 'pt']\n",
        "\n",
        "# Remove as colunas que nao sao uteis\n",
        "dataset_com_tratamento = dataset_com_tratamento.drop(columns=['apelido', 'usuario', 'retweet', 'seguidores', 'idioma', 'pais', 'sigla', 'hashtags'])"
      ],
      "execution_count": null,
      "outputs": []
    },
    {
      "cell_type": "markdown",
      "metadata": {
        "id": "_TZuMf1a5hWW"
      },
      "source": [
        "## Criando o *dataset* DuvidasDB"
      ]
    },
    {
      "cell_type": "code",
      "metadata": {
        "id": "Qh2F-S-1oCnL"
      },
      "source": [
        "# Selecionando apenas tweets com texto que contem '?'\n",
        "DuvidasDB = pd.DataFrame(dataset_com_tratamento[dataset_com_tratamento['texto'].str.contains(\"\\?\") == True])\n",
        "\n",
        "# Quebra os textos em perguntas\n",
        "DuvidasDB.loc[:,'texto'] = DuvidasDB.texto.str.split(pat=\"?\")"
      ],
      "execution_count": null,
      "outputs": []
    },
    {
      "cell_type": "markdown",
      "metadata": {
        "id": "e7dLY8dP9jWa"
      },
      "source": [
        "## Dividindo o dataset em *Training set* e *Test set*"
      ]
    }
  ]
}